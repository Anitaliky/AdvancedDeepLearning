{
 "cells": [
  {
   "cell_type": "code",
   "execution_count": null,
   "id": "0b572a95",
   "metadata": {},
   "outputs": [],
   "source": [
    "%config Completer.use_jedi = False\n",
    "# %load_ext autoreload\n",
    "# %autoreload 2"
   ]
  },
  {
   "cell_type": "code",
   "execution_count": 2,
   "id": "3ef90421",
   "metadata": {},
   "outputs": [],
   "source": [
    "import os\n",
    "import random\n",
    "from tqdm import tqdm\n",
    "\n",
    "import numpy as np\n",
    "import pandas as pd\n",
    "\n",
    "import matplotlib.pyplot as plt\n",
    "\n",
    "import torch\n",
    "import torch.nn as nn\n",
    "import torchvision\n",
    "\n",
    "from src import utils\n",
    "from src import pytorch_utils as ptu\n",
    "from config import cfg\n",
    "\n",
    "import warnings\n",
    "warnings.filterwarnings(\"ignore\")"
   ]
  },
  {
   "cell_type": "code",
   "execution_count": 3,
   "id": "602391a1",
   "metadata": {},
   "outputs": [],
   "source": [
    "cfg.tqdm_bar = True\n",
    "cfg.prints = 'display'"
   ]
  },
  {
   "cell_type": "code",
   "execution_count": 4,
   "id": "20b20f36",
   "metadata": {},
   "outputs": [
    {
     "name": "stdout",
     "output_type": "stream",
     "text": [
      "device cuda\n"
     ]
    }
   ],
   "source": [
    "device = torch.device(\"cuda\" if torch.cuda.is_available() else \"cpu\")\n",
    "print('device', device)"
   ]
  },
  {
   "cell_type": "code",
   "execution_count": 5,
   "id": "2f10ba33",
   "metadata": {},
   "outputs": [],
   "source": [
    "transforms = torchvision.transforms.Compose([\n",
    "    utils.RotateAngle(angles=cfg.angles),\n",
    "    torchvision.transforms.ToTensor(),\n",
    "    torchvision.transforms.Normalize(utils.cifar10_mean, utils.cifar10_std),\n",
    "])"
   ]
  },
  {
   "cell_type": "code",
   "execution_count": 7,
   "id": "5de90074",
   "metadata": {},
   "outputs": [],
   "source": [
    "train_dataset = torchvision.datasets.CIFAR10(root=cfg.data_path, train=True, transform=transforms)  # download=True ,\n",
    "test_dataset = torchvision.datasets.CIFAR10(root=cfg.data_path, train=False, transform=transforms)  # download=True ,\n",
    "\n",
    "train_loader = torch.utils.data.DataLoader(train_dataset,\n",
    "                                           batch_size=cfg.bs,\n",
    "                                           num_workers=cfg.num_workers,\n",
    "                                           shuffle=True,\n",
    "                                           drop_last=True)\n",
    "test_loader = torch.utils.data.DataLoader(test_dataset,\n",
    "                                          batch_size=cfg.bs,\n",
    "                                          num_workers=cfg.num_workers,\n",
    "                                          shuffle=False,\n",
    "                                          drop_last=True)"
   ]
  },
  {
   "cell_type": "code",
   "execution_count": 8,
   "id": "03e0d444",
   "metadata": {},
   "outputs": [],
   "source": [
    "# cfg.load = None\n",
    "# cfg.save = False\n",
    "# cfg.optimizer = 'adam'"
   ]
  },
  {
   "cell_type": "code",
   "execution_count": 9,
   "id": "ed05a4fa",
   "metadata": {
    "tags": []
   },
   "outputs": [
    {
     "name": "stdout",
     "output_type": "stream",
     "text": [
      "Loads rotation_resnet34_adam_lr0.0003_bs32\n",
      "Number of parameters 21289802 trainable 5130\n"
     ]
    }
   ],
   "source": [
    "print(f'Loads {cfg.version}')\n",
    "if cfg.load is not None and os.path.exists(os.path.join(cfg.models_dir, cfg.version, ptu.naming_scheme(cfg.version, epoch=model_epoch)) + '.pth'):\n",
    "    checkpoint = ptu.load_model(device, version=cfg.version, models_dir=cfg.models_dir, epoch=model_epoch)\n",
    "    if cfg.prints == 'display':\n",
    "        display(checkpoint.log.sort_index(ascending=False).head(20))\n",
    "    elif cfg.prints == 'print':\n",
    "        print(checkpoint.log.sort_index(ascending=False).head(20))\n",
    "else:\n",
    "    if cfg.feature_extraction:\n",
    "        model = nn.Linear(train_loader.dataset.tensors[0].shape[1], len(train_dataset.classes), bias=cfg.bias)\n",
    "    else:\n",
    "        model = vars(torchvision.models)[cfg.backbone](pretrained=True)\n",
    "        for p in model.parameters():\n",
    "            p.requires_grad = False\n",
    "        model.fc = nn.Linear(model.fc.in_features, len(train_dataset.classes), bias=cfg.bias)\n",
    "    model.to(device)\n",
    "    \n",
    "    if cfg.optimizer == 'sgd':\n",
    "        optimizer = torch.optim.SGD([p for p in model.parameters() if p.requires_grad],\n",
    "                                    lr=cfg.lr,\n",
    "                                    momentum=cfg.optimizer_momentum,\n",
    "                                    weight_decay=cfg.wd)\n",
    "    elif cfg.optimizer == 'adam':\n",
    "        optimizer = torch.optim.Adam([p for p in model.parameters() if p.requires_grad],\n",
    "                                    lr=cfg.lr,\n",
    "                                    weight_decay=cfg.wd)\n",
    "    else:\n",
    "        raise NotImplementedError\n",
    "    \n",
    "    criterion = nn.CrossEntropyLoss().to(device)\n",
    "    \n",
    "    lr_scheduler = torch.optim.lr_scheduler.CosineAnnealingLR(optimizer,\n",
    "                                                              T_max=cfg.epochs,\n",
    "                                                              eta_min=cfg.min_lr) if cfg.cos else None\n",
    "    \n",
    "    checkpoint = utils.MyCheckpoint(version=cfg.version,\n",
    "                                    model=model,\n",
    "                                    optimizer=optimizer,\n",
    "                                    lr_scheduler=lr_scheduler,\n",
    "                                    criterion=criterion,\n",
    "                                    score=utils.accuracy_score,\n",
    "                                    models_dir=cfg.models_dir,\n",
    "                                    best_policy=cfg.best_policy,\n",
    "                                    save=cfg.save,\n",
    "                                   )\n",
    "ptu.params(checkpoint.model)"
   ]
  },
  {
   "cell_type": "code",
   "execution_count": null,
   "id": "3bd8d4e5",
   "metadata": {
    "tags": []
   },
   "outputs": [],
   "source": [
    "checkpoint.train(train_loader=train_loader,\n",
    "                 val_loader=test_loader,\n",
    "                 train_epochs=int(max(0, cfg.epochs - checkpoint.get_log())),\n",
    "                 optimizer_params=cfg.optimizer_params,\n",
    "                 prints=cfg.prints,\n",
    "                 epochs_save=cfg.epochs_save,\n",
    "                 epochs_evaluate_train=cfg.epochs_evaluate_train,\n",
    "                 epochs_evaluate_validation=cfg.epochs_evaluate_validation,\n",
    "                 max_iterations_train=cfg.max_iterations,\n",
    "                 max_iterations_val=cfg.max_iterations,\n",
    "                 device=device,\n",
    "                 tqdm_bar=cfg.tqdm_bar,\n",
    "                 save=cfg.save,\n",
    "                 save_log=cfg.save_log,\n",
    "                )"
   ]
  },
  {
   "cell_type": "code",
   "execution_count": null,
   "id": "a1186649",
   "metadata": {
    "tags": []
   },
   "outputs": [],
   "source": [
    "# # all classes\n",
    "# for angle in range(0, 91, 10):\n",
    "#     print(f'Angle {angle}')\n",
    "#     test_loader = dl.test_loader(data_dir=cfg.data_dir,\n",
    "#                                  batch_size=cfg.bs,\n",
    "#                                  augment=True,\n",
    "#                                  angles=[angle])\n",
    "#     loss, score, results = checkpoint.evaluate(loader=test_loader,\n",
    "#                                                device=device,\n",
    "#                                                tqdm_bar=True)\n",
    "#     df = df.append({'model': 'randomRotation', 'augment': 'rotation', 'class': 'all', 'angle': angle, 'loss': loss, 'score': score},\n",
    "#                    ignore_index=True)"
   ]
  },
  {
   "cell_type": "code",
   "execution_count": null,
   "id": "6dadef63",
   "metadata": {
    "tags": []
   },
   "outputs": [],
   "source": [
    "# # by class by angle classes\n",
    "# for class_name in utils.classDict.keys():\n",
    "#     for angle in range(0, 91, 10):\n",
    "#         print(f'Class {class_name}, Angle {angle}')\n",
    "#         test_loader = dl.test_loader(data_dir=cfg.data_dir,\n",
    "#                                      batch_size=cfg.bs,\n",
    "#                                      augment=True,\n",
    "#                                      angles=[angle],\n",
    "#                                      class_name=class_name\n",
    "#                                     )\n",
    "#         loss, score, results = checkpoint.evaluate(loader=test_loader,\n",
    "#                                                    device=device,\n",
    "#                                                    tqdm_bar=True)\n",
    "#         df = df.append({'model': 'randomRotation', 'augment': 'rotation', 'class': class_name, 'angle': angle, 'loss': loss, 'score': score},\n",
    "#                        ignore_index=True)"
   ]
  },
  {
   "cell_type": "code",
   "execution_count": null,
   "id": "7169ec6f",
   "metadata": {
    "tags": []
   },
   "outputs": [],
   "source": [
    "# fig, axes = plt.subplots(figsize=(20,10),\n",
    "#                          nrows=2, ncols=6)\n",
    "# for (val, group), ax in zip(df[df['model'] == 'randomRotation'].groupby('class'), axes.flatten()):\n",
    "#     group.plot(x='angle', y='loss', kind='bar', ax=ax, title=val, ylim=(0, 7))"
   ]
  },
  {
   "cell_type": "code",
   "execution_count": null,
   "id": "03cc6e9f",
   "metadata": {
    "tags": []
   },
   "outputs": [],
   "source": [
    "# # df.groupby('class').plot.bar(x='angle', y='score', ylim=(0, 1), subplots=True)\n",
    "# fig, axes = plt.subplots(figsize=(20,10),\n",
    "#                          nrows=2, ncols=6)\n",
    "# for (val, group), ax in zip(df[df['model'] == 'randomRotation'].groupby('class'), axes.flatten()):\n",
    "#     group.plot(x='angle', y='score', kind='bar', ax=ax, title=val, ylim=(0, 1))"
   ]
  },
  {
   "cell_type": "code",
   "execution_count": null,
   "id": "ce86d07f",
   "metadata": {},
   "outputs": [],
   "source": []
  },
  {
   "cell_type": "code",
   "execution_count": null,
   "id": "7a457bfc",
   "metadata": {},
   "outputs": [],
   "source": []
  },
  {
   "cell_type": "code",
   "execution_count": null,
   "id": "f115db07",
   "metadata": {},
   "outputs": [],
   "source": []
  },
  {
   "cell_type": "code",
   "execution_count": null,
   "id": "bb0b1c4d",
   "metadata": {},
   "outputs": [],
   "source": []
  },
  {
   "cell_type": "code",
   "execution_count": null,
   "id": "86fd3136",
   "metadata": {},
   "outputs": [],
   "source": []
  },
  {
   "cell_type": "code",
   "execution_count": null,
   "id": "a85e2524",
   "metadata": {},
   "outputs": [],
   "source": []
  }
 ],
 "metadata": {
  "kernelspec": {
   "display_name": "main",
   "language": "python",
   "name": "main"
  },
  "language_info": {
   "codemirror_mode": {
    "name": "ipython",
    "version": 3
   },
   "file_extension": ".py",
   "mimetype": "text/x-python",
   "name": "python",
   "nbconvert_exporter": "python",
   "pygments_lexer": "ipython3",
   "version": "3.8.10"
  }
 },
 "nbformat": 4,
 "nbformat_minor": 5
}
