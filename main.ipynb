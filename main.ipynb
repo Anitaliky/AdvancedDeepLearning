{
 "cells": [
  {
   "cell_type": "code",
   "execution_count": 32,
   "id": "199a80ae-77cd-4a80-8752-e098a8b6926a",
   "metadata": {},
   "outputs": [
    {
     "name": "stdout",
     "output_type": "stream",
     "text": [
      "The autoreload extension is already loaded. To reload it, use:\n",
      "  %reload_ext autoreload\n"
     ]
    }
   ],
   "source": [
    "import os\n",
    "import random\n",
    "from tqdm import tqdm\n",
    "\n",
    "import numpy as np\n",
    "import pandas as pd\n",
    "\n",
    "import matplotlib.pyplot as plt\n",
    "\n",
    "import torch\n",
    "import torch.nn as nn\n",
    "import torchvision\n",
    "import torchvision.transforms as transforms\n",
    "\n",
    "from src.model import Model\n",
    "from src import utils\n",
    "from src.pytorch_utils import utils as ptu\n",
    "from config import cfg\n",
    "import src.data_loader as dl\n",
    "\n",
    "%load_ext autoreload\n",
    "%autoreload 2"
   ]
  },
  {
   "cell_type": "code",
   "execution_count": 2,
   "id": "7731fc8b-da87-4d31-a51f-ab7fcfc45c4b",
   "metadata": {},
   "outputs": [
    {
     "name": "stdout",
     "output_type": "stream",
     "text": [
      "cuda\n"
     ]
    }
   ],
   "source": [
    "device = torch.device(\"cuda\" if torch.cuda.is_available() else \"cpu\")\n",
    "print(device)"
   ]
  },
  {
   "cell_type": "code",
   "execution_count": 3,
   "id": "a9b9f5f5-64ce-493a-a91d-2f870779a403",
   "metadata": {
    "tags": []
   },
   "outputs": [
    {
     "name": "stdout",
     "output_type": "stream",
     "text": [
      "Loads resnet50_sgd_bs64\n"
     ]
    },
    {
     "data": {
      "text/html": [
       "<div>\n",
       "<style scoped>\n",
       "    .dataframe tbody tr th:only-of-type {\n",
       "        vertical-align: middle;\n",
       "    }\n",
       "\n",
       "    .dataframe tbody tr th {\n",
       "        vertical-align: top;\n",
       "    }\n",
       "\n",
       "    .dataframe thead th {\n",
       "        text-align: right;\n",
       "    }\n",
       "</style>\n",
       "<table border=\"1\" class=\"dataframe\">\n",
       "  <thead>\n",
       "    <tr style=\"text-align: right;\">\n",
       "      <th></th>\n",
       "      <th>train_time</th>\n",
       "      <th>timestamp</th>\n",
       "      <th>train_loss</th>\n",
       "      <th>val_loss</th>\n",
       "      <th>train_score</th>\n",
       "      <th>val_score</th>\n",
       "      <th>batch_size</th>\n",
       "      <th>best</th>\n",
       "      <th>dampening</th>\n",
       "      <th>initial_lr</th>\n",
       "      <th>lr</th>\n",
       "      <th>momentum</th>\n",
       "      <th>nesterov</th>\n",
       "      <th>weight_decay</th>\n",
       "    </tr>\n",
       "  </thead>\n",
       "  <tbody>\n",
       "    <tr>\n",
       "      <th>299</th>\n",
       "      <td>0.787718</td>\n",
       "      <td>20:22:10 22-08-2021</td>\n",
       "      <td>1.420964</td>\n",
       "      <td>1.426026</td>\n",
       "      <td>0.525541</td>\n",
       "      <td>0.528245</td>\n",
       "      <td>64</td>\n",
       "      <td>True</td>\n",
       "      <td>0.0</td>\n",
       "      <td>0.0001</td>\n",
       "      <td>0.000051</td>\n",
       "      <td>0.9</td>\n",
       "      <td>0.0</td>\n",
       "      <td>0.0005</td>\n",
       "    </tr>\n",
       "    <tr>\n",
       "      <th>298</th>\n",
       "      <td>0.782635</td>\n",
       "      <td>20:21:21 22-08-2021</td>\n",
       "      <td>1.443495</td>\n",
       "      <td>1.452435</td>\n",
       "      <td>0.526342</td>\n",
       "      <td>0.523438</td>\n",
       "      <td>64</td>\n",
       "      <td>False</td>\n",
       "      <td>0.0</td>\n",
       "      <td>0.0001</td>\n",
       "      <td>0.000051</td>\n",
       "      <td>0.9</td>\n",
       "      <td>0.0</td>\n",
       "      <td>0.0005</td>\n",
       "    </tr>\n",
       "    <tr>\n",
       "      <th>297</th>\n",
       "      <td>0.789208</td>\n",
       "      <td>20:20:31 22-08-2021</td>\n",
       "      <td>1.434631</td>\n",
       "      <td>1.453963</td>\n",
       "      <td>0.522035</td>\n",
       "      <td>0.519030</td>\n",
       "      <td>64</td>\n",
       "      <td>False</td>\n",
       "      <td>0.0</td>\n",
       "      <td>0.0001</td>\n",
       "      <td>0.000051</td>\n",
       "      <td>0.9</td>\n",
       "      <td>0.0</td>\n",
       "      <td>0.0005</td>\n",
       "    </tr>\n",
       "    <tr>\n",
       "      <th>296</th>\n",
       "      <td>0.776283</td>\n",
       "      <td>20:19:42 22-08-2021</td>\n",
       "      <td>1.424582</td>\n",
       "      <td>1.439210</td>\n",
       "      <td>0.525441</td>\n",
       "      <td>0.524239</td>\n",
       "      <td>64</td>\n",
       "      <td>False</td>\n",
       "      <td>0.0</td>\n",
       "      <td>0.0001</td>\n",
       "      <td>0.000051</td>\n",
       "      <td>0.9</td>\n",
       "      <td>0.0</td>\n",
       "      <td>0.0005</td>\n",
       "    </tr>\n",
       "    <tr>\n",
       "      <th>295</th>\n",
       "      <td>0.777388</td>\n",
       "      <td>20:18:53 22-08-2021</td>\n",
       "      <td>1.451171</td>\n",
       "      <td>1.463350</td>\n",
       "      <td>0.524339</td>\n",
       "      <td>0.517829</td>\n",
       "      <td>64</td>\n",
       "      <td>False</td>\n",
       "      <td>0.0</td>\n",
       "      <td>0.0001</td>\n",
       "      <td>0.000052</td>\n",
       "      <td>0.9</td>\n",
       "      <td>0.0</td>\n",
       "      <td>0.0005</td>\n",
       "    </tr>\n",
       "    <tr>\n",
       "      <th>294</th>\n",
       "      <td>0.772217</td>\n",
       "      <td>20:18:04 22-08-2021</td>\n",
       "      <td>1.446204</td>\n",
       "      <td>1.462432</td>\n",
       "      <td>0.524339</td>\n",
       "      <td>0.519832</td>\n",
       "      <td>64</td>\n",
       "      <td>False</td>\n",
       "      <td>0.0</td>\n",
       "      <td>0.0001</td>\n",
       "      <td>0.000052</td>\n",
       "      <td>0.9</td>\n",
       "      <td>0.0</td>\n",
       "      <td>0.0005</td>\n",
       "    </tr>\n",
       "    <tr>\n",
       "      <th>293</th>\n",
       "      <td>0.756187</td>\n",
       "      <td>20:17:15 22-08-2021</td>\n",
       "      <td>1.420360</td>\n",
       "      <td>1.434866</td>\n",
       "      <td>0.531951</td>\n",
       "      <td>0.525441</td>\n",
       "      <td>64</td>\n",
       "      <td>False</td>\n",
       "      <td>0.0</td>\n",
       "      <td>0.0001</td>\n",
       "      <td>0.000052</td>\n",
       "      <td>0.9</td>\n",
       "      <td>0.0</td>\n",
       "      <td>0.0005</td>\n",
       "    </tr>\n",
       "    <tr>\n",
       "      <th>292</th>\n",
       "      <td>0.782749</td>\n",
       "      <td>20:16:27 22-08-2021</td>\n",
       "      <td>1.444274</td>\n",
       "      <td>1.443484</td>\n",
       "      <td>0.521935</td>\n",
       "      <td>0.521334</td>\n",
       "      <td>64</td>\n",
       "      <td>False</td>\n",
       "      <td>0.0</td>\n",
       "      <td>0.0001</td>\n",
       "      <td>0.000052</td>\n",
       "      <td>0.9</td>\n",
       "      <td>0.0</td>\n",
       "      <td>0.0005</td>\n",
       "    </tr>\n",
       "    <tr>\n",
       "      <th>291</th>\n",
       "      <td>0.774950</td>\n",
       "      <td>20:15:38 22-08-2021</td>\n",
       "      <td>1.436122</td>\n",
       "      <td>1.442689</td>\n",
       "      <td>0.520232</td>\n",
       "      <td>0.518830</td>\n",
       "      <td>64</td>\n",
       "      <td>False</td>\n",
       "      <td>0.0</td>\n",
       "      <td>0.0001</td>\n",
       "      <td>0.000053</td>\n",
       "      <td>0.9</td>\n",
       "      <td>0.0</td>\n",
       "      <td>0.0005</td>\n",
       "    </tr>\n",
       "    <tr>\n",
       "      <th>290</th>\n",
       "      <td>0.776757</td>\n",
       "      <td>20:14:49 22-08-2021</td>\n",
       "      <td>1.435289</td>\n",
       "      <td>1.449120</td>\n",
       "      <td>0.522536</td>\n",
       "      <td>0.517929</td>\n",
       "      <td>64</td>\n",
       "      <td>False</td>\n",
       "      <td>0.0</td>\n",
       "      <td>0.0001</td>\n",
       "      <td>0.000053</td>\n",
       "      <td>0.9</td>\n",
       "      <td>0.0</td>\n",
       "      <td>0.0005</td>\n",
       "    </tr>\n",
       "    <tr>\n",
       "      <th>289</th>\n",
       "      <td>0.787044</td>\n",
       "      <td>20:14:00 22-08-2021</td>\n",
       "      <td>1.432901</td>\n",
       "      <td>1.443556</td>\n",
       "      <td>0.528646</td>\n",
       "      <td>0.524740</td>\n",
       "      <td>64</td>\n",
       "      <td>False</td>\n",
       "      <td>0.0</td>\n",
       "      <td>0.0001</td>\n",
       "      <td>0.000053</td>\n",
       "      <td>0.9</td>\n",
       "      <td>0.0</td>\n",
       "      <td>0.0005</td>\n",
       "    </tr>\n",
       "    <tr>\n",
       "      <th>288</th>\n",
       "      <td>0.761401</td>\n",
       "      <td>20:13:10 22-08-2021</td>\n",
       "      <td>1.453158</td>\n",
       "      <td>1.458378</td>\n",
       "      <td>0.520733</td>\n",
       "      <td>0.518830</td>\n",
       "      <td>64</td>\n",
       "      <td>False</td>\n",
       "      <td>0.0</td>\n",
       "      <td>0.0001</td>\n",
       "      <td>0.000053</td>\n",
       "      <td>0.9</td>\n",
       "      <td>0.0</td>\n",
       "      <td>0.0005</td>\n",
       "    </tr>\n",
       "    <tr>\n",
       "      <th>287</th>\n",
       "      <td>0.751110</td>\n",
       "      <td>20:12:22 22-08-2021</td>\n",
       "      <td>1.442831</td>\n",
       "      <td>1.459889</td>\n",
       "      <td>0.522536</td>\n",
       "      <td>0.521935</td>\n",
       "      <td>64</td>\n",
       "      <td>False</td>\n",
       "      <td>0.0</td>\n",
       "      <td>0.0001</td>\n",
       "      <td>0.000054</td>\n",
       "      <td>0.9</td>\n",
       "      <td>0.0</td>\n",
       "      <td>0.0005</td>\n",
       "    </tr>\n",
       "    <tr>\n",
       "      <th>286</th>\n",
       "      <td>0.757003</td>\n",
       "      <td>20:11:35 22-08-2021</td>\n",
       "      <td>1.437291</td>\n",
       "      <td>1.452390</td>\n",
       "      <td>0.521334</td>\n",
       "      <td>0.515224</td>\n",
       "      <td>64</td>\n",
       "      <td>False</td>\n",
       "      <td>0.0</td>\n",
       "      <td>0.0001</td>\n",
       "      <td>0.000054</td>\n",
       "      <td>0.9</td>\n",
       "      <td>0.0</td>\n",
       "      <td>0.0005</td>\n",
       "    </tr>\n",
       "    <tr>\n",
       "      <th>285</th>\n",
       "      <td>0.756666</td>\n",
       "      <td>20:10:47 22-08-2021</td>\n",
       "      <td>1.432702</td>\n",
       "      <td>1.446621</td>\n",
       "      <td>0.519732</td>\n",
       "      <td>0.524940</td>\n",
       "      <td>64</td>\n",
       "      <td>False</td>\n",
       "      <td>0.0</td>\n",
       "      <td>0.0001</td>\n",
       "      <td>0.000054</td>\n",
       "      <td>0.9</td>\n",
       "      <td>0.0</td>\n",
       "      <td>0.0005</td>\n",
       "    </tr>\n",
       "    <tr>\n",
       "      <th>284</th>\n",
       "      <td>0.759621</td>\n",
       "      <td>20:09:59 22-08-2021</td>\n",
       "      <td>1.452509</td>\n",
       "      <td>1.463836</td>\n",
       "      <td>0.519331</td>\n",
       "      <td>0.518830</td>\n",
       "      <td>64</td>\n",
       "      <td>False</td>\n",
       "      <td>0.0</td>\n",
       "      <td>0.0001</td>\n",
       "      <td>0.000054</td>\n",
       "      <td>0.9</td>\n",
       "      <td>0.0</td>\n",
       "      <td>0.0005</td>\n",
       "    </tr>\n",
       "    <tr>\n",
       "      <th>283</th>\n",
       "      <td>0.752436</td>\n",
       "      <td>20:09:11 22-08-2021</td>\n",
       "      <td>1.460119</td>\n",
       "      <td>1.477714</td>\n",
       "      <td>0.516426</td>\n",
       "      <td>0.515224</td>\n",
       "      <td>64</td>\n",
       "      <td>False</td>\n",
       "      <td>0.0</td>\n",
       "      <td>0.0001</td>\n",
       "      <td>0.000055</td>\n",
       "      <td>0.9</td>\n",
       "      <td>0.0</td>\n",
       "      <td>0.0005</td>\n",
       "    </tr>\n",
       "    <tr>\n",
       "      <th>282</th>\n",
       "      <td>0.749361</td>\n",
       "      <td>20:08:24 22-08-2021</td>\n",
       "      <td>1.436671</td>\n",
       "      <td>1.458330</td>\n",
       "      <td>0.521334</td>\n",
       "      <td>0.524539</td>\n",
       "      <td>64</td>\n",
       "      <td>False</td>\n",
       "      <td>0.0</td>\n",
       "      <td>0.0001</td>\n",
       "      <td>0.000055</td>\n",
       "      <td>0.9</td>\n",
       "      <td>0.0</td>\n",
       "      <td>0.0005</td>\n",
       "    </tr>\n",
       "    <tr>\n",
       "      <th>281</th>\n",
       "      <td>0.739748</td>\n",
       "      <td>20:07:36 22-08-2021</td>\n",
       "      <td>1.429876</td>\n",
       "      <td>1.442534</td>\n",
       "      <td>0.526943</td>\n",
       "      <td>0.517328</td>\n",
       "      <td>64</td>\n",
       "      <td>False</td>\n",
       "      <td>0.0</td>\n",
       "      <td>0.0001</td>\n",
       "      <td>0.000055</td>\n",
       "      <td>0.9</td>\n",
       "      <td>0.0</td>\n",
       "      <td>0.0005</td>\n",
       "    </tr>\n",
       "    <tr>\n",
       "      <th>280</th>\n",
       "      <td>0.739261</td>\n",
       "      <td>20:06:50 22-08-2021</td>\n",
       "      <td>1.443833</td>\n",
       "      <td>1.456576</td>\n",
       "      <td>0.521835</td>\n",
       "      <td>0.520533</td>\n",
       "      <td>64</td>\n",
       "      <td>False</td>\n",
       "      <td>0.0</td>\n",
       "      <td>0.0001</td>\n",
       "      <td>0.000056</td>\n",
       "      <td>0.9</td>\n",
       "      <td>0.0</td>\n",
       "      <td>0.0005</td>\n",
       "    </tr>\n",
       "  </tbody>\n",
       "</table>\n",
       "</div>"
      ],
      "text/plain": [
       "     train_time            timestamp  train_loss  val_loss  train_score  \\\n",
       "299    0.787718  20:22:10 22-08-2021    1.420964  1.426026     0.525541   \n",
       "298    0.782635  20:21:21 22-08-2021    1.443495  1.452435     0.526342   \n",
       "297    0.789208  20:20:31 22-08-2021    1.434631  1.453963     0.522035   \n",
       "296    0.776283  20:19:42 22-08-2021    1.424582  1.439210     0.525441   \n",
       "295    0.777388  20:18:53 22-08-2021    1.451171  1.463350     0.524339   \n",
       "294    0.772217  20:18:04 22-08-2021    1.446204  1.462432     0.524339   \n",
       "293    0.756187  20:17:15 22-08-2021    1.420360  1.434866     0.531951   \n",
       "292    0.782749  20:16:27 22-08-2021    1.444274  1.443484     0.521935   \n",
       "291    0.774950  20:15:38 22-08-2021    1.436122  1.442689     0.520232   \n",
       "290    0.776757  20:14:49 22-08-2021    1.435289  1.449120     0.522536   \n",
       "289    0.787044  20:14:00 22-08-2021    1.432901  1.443556     0.528646   \n",
       "288    0.761401  20:13:10 22-08-2021    1.453158  1.458378     0.520733   \n",
       "287    0.751110  20:12:22 22-08-2021    1.442831  1.459889     0.522536   \n",
       "286    0.757003  20:11:35 22-08-2021    1.437291  1.452390     0.521334   \n",
       "285    0.756666  20:10:47 22-08-2021    1.432702  1.446621     0.519732   \n",
       "284    0.759621  20:09:59 22-08-2021    1.452509  1.463836     0.519331   \n",
       "283    0.752436  20:09:11 22-08-2021    1.460119  1.477714     0.516426   \n",
       "282    0.749361  20:08:24 22-08-2021    1.436671  1.458330     0.521334   \n",
       "281    0.739748  20:07:36 22-08-2021    1.429876  1.442534     0.526943   \n",
       "280    0.739261  20:06:50 22-08-2021    1.443833  1.456576     0.521835   \n",
       "\n",
       "     val_score  batch_size   best  dampening  initial_lr        lr  momentum  \\\n",
       "299   0.528245          64   True        0.0      0.0001  0.000051       0.9   \n",
       "298   0.523438          64  False        0.0      0.0001  0.000051       0.9   \n",
       "297   0.519030          64  False        0.0      0.0001  0.000051       0.9   \n",
       "296   0.524239          64  False        0.0      0.0001  0.000051       0.9   \n",
       "295   0.517829          64  False        0.0      0.0001  0.000052       0.9   \n",
       "294   0.519832          64  False        0.0      0.0001  0.000052       0.9   \n",
       "293   0.525441          64  False        0.0      0.0001  0.000052       0.9   \n",
       "292   0.521334          64  False        0.0      0.0001  0.000052       0.9   \n",
       "291   0.518830          64  False        0.0      0.0001  0.000053       0.9   \n",
       "290   0.517929          64  False        0.0      0.0001  0.000053       0.9   \n",
       "289   0.524740          64  False        0.0      0.0001  0.000053       0.9   \n",
       "288   0.518830          64  False        0.0      0.0001  0.000053       0.9   \n",
       "287   0.521935          64  False        0.0      0.0001  0.000054       0.9   \n",
       "286   0.515224          64  False        0.0      0.0001  0.000054       0.9   \n",
       "285   0.524940          64  False        0.0      0.0001  0.000054       0.9   \n",
       "284   0.518830          64  False        0.0      0.0001  0.000054       0.9   \n",
       "283   0.515224          64  False        0.0      0.0001  0.000055       0.9   \n",
       "282   0.524539          64  False        0.0      0.0001  0.000055       0.9   \n",
       "281   0.517328          64  False        0.0      0.0001  0.000055       0.9   \n",
       "280   0.520533          64  False        0.0      0.0001  0.000056       0.9   \n",
       "\n",
       "     nesterov  weight_decay  \n",
       "299       0.0        0.0005  \n",
       "298       0.0        0.0005  \n",
       "297       0.0        0.0005  \n",
       "296       0.0        0.0005  \n",
       "295       0.0        0.0005  \n",
       "294       0.0        0.0005  \n",
       "293       0.0        0.0005  \n",
       "292       0.0        0.0005  \n",
       "291       0.0        0.0005  \n",
       "290       0.0        0.0005  \n",
       "289       0.0        0.0005  \n",
       "288       0.0        0.0005  \n",
       "287       0.0        0.0005  \n",
       "286       0.0        0.0005  \n",
       "285       0.0        0.0005  \n",
       "284       0.0        0.0005  \n",
       "283       0.0        0.0005  \n",
       "282       0.0        0.0005  \n",
       "281       0.0        0.0005  \n",
       "280       0.0        0.0005  "
      ]
     },
     "metadata": {},
     "output_type": "display_data"
    }
   ],
   "source": [
    "model_epoch = 'best'\n",
    "if cfg.load is not None and os.path.exists(os.path.join(cfg.models_dir, cfg.version, ptu.naming_scheme(cfg.version, epoch=model_epoch)) + '.pth'):\n",
    "    print(f'Loads {cfg.version}')\n",
    "    checkpoint = ptu.load_model(device, version=cfg.version, models_dir=cfg.models_dir, epoch=model_epoch)\n",
    "    if cfg.prints == 'display':\n",
    "        display(checkpoint.log.sort_index(ascending=False).head(20))\n",
    "    elif cfg.prints == 'print':\n",
    "        print(checkpoint.log.sort_index(ascending=False).head(20))\n",
    "else:\n",
    "    model = Model(backbone=cfg.backbone, num_classes=cfg.num_classes)\n",
    "    model.to(device)\n",
    "    \n",
    "    if cfg.optimizer == 'sgd':\n",
    "        optimizer = torch.optim.SGD(model.fc.parameters(),\n",
    "                                    lr=cfg.lr,\n",
    "                                    momentum=cfg.optimizer_momentum,\n",
    "                                    weight_decay=cfg.wd)\n",
    "    else:\n",
    "        optimizer = torch.optim.Adam(model.fc.parameters(),\n",
    "                                    lr=cfg.lr,\n",
    "                                    weight_decay=cfg.wd)\n",
    "    \n",
    "    criterion = nn.CrossEntropyLoss().to(device)\n",
    "    \n",
    "    lr_scheduler = torch.optim.lr_scheduler.CosineAnnealingLR(optimizer,\n",
    "                                                              T_max=cfg.epochs,\n",
    "                                                              eta_min=cfg.min_lr)\n",
    "    \n",
    "    checkpoint = utils.Checkpoint(version=cfg.version,\n",
    "                                  model=model,\n",
    "                                  optimizer=optimizer,\n",
    "                                  lr_scheduler=lr_scheduler,\n",
    "                                  criterion=criterion,\n",
    "                                  score=utils.accuracy_score,\n",
    "                                  models_dir=cfg.models_dir,\n",
    "                                  best_policy=cfg.best_policy,\n",
    "                                  save=cfg.save,\n",
    "                                 )"
   ]
  },
  {
   "cell_type": "code",
   "execution_count": 4,
   "id": "edee0a6b-3acf-40b9-805b-66fa340f5659",
   "metadata": {},
   "outputs": [],
   "source": [
    "# train_loader, train_eval_loader = dl.train_eval_loaders_cifar10(data_dir=cfg.data_dir, batch_size=cfg.bs)\n",
    "# test_loader = dl.test_loader(data_dir=cfg.data_dir, batch_size=cfg.bs)"
   ]
  },
  {
   "cell_type": "code",
   "execution_count": 5,
   "id": "954ec86d-477a-4597-9310-d2cbfc8bbb7d",
   "metadata": {
    "tags": []
   },
   "outputs": [],
   "source": [
    "# checkpoint.train(train_loader=train_loader,\n",
    "#                  train_eval_loader=train_eval_loader,\n",
    "#                  val_loader=test_loader,\n",
    "#                  train_epochs=int(max(0, cfg.epochs - checkpoint.get_log())),\n",
    "#                  optimizer_params=cfg.optimizer_params,\n",
    "#                  prints=cfg.prints,\n",
    "#                  epochs_save=cfg.epochs_save,\n",
    "#                  epochs_evaluate_train=cfg.epochs_evaluate_train,\n",
    "#                  epochs_evaluate_validation=cfg.epochs_evaluate_validation,\n",
    "#                  max_iterations_train=cfg.max_iterations,\n",
    "#                  max_iterations_val=cfg.max_iterations,\n",
    "#                  device=device,\n",
    "#                  tqdm_bar=cfg.tqdm_bar,\n",
    "#                  save=cfg.save,\n",
    "#                  save_log=cfg.save_log,\n",
    "#                 )"
   ]
  },
  {
   "cell_type": "code",
   "execution_count": 35,
   "id": "be91e107-f3a0-4b17-a840-343839878e4b",
   "metadata": {},
   "outputs": [],
   "source": [
    "df = pd.DataFrame(columns=['augment', 'class', 'angle', 'loss', 'score'])"
   ]
  },
  {
   "cell_type": "code",
   "execution_count": 36,
   "id": "51675c58-8294-4119-a083-5575981f2017",
   "metadata": {},
   "outputs": [
    {
     "name": "stdout",
     "output_type": "stream",
     "text": [
      "Angle 0\n",
      "Files already downloaded and verified\n"
     ]
    },
    {
     "name": "stderr",
     "output_type": "stream",
     "text": [
      "epoch=300: 100%|██████████| 156/156 [00:04<00:00, 35.24it/s, loss=1.58, avg_loss=1.43, score=0.5]  \n"
     ]
    },
    {
     "name": "stdout",
     "output_type": "stream",
     "text": [
      "Angle 10\n",
      "Files already downloaded and verified\n"
     ]
    },
    {
     "name": "stderr",
     "output_type": "stream",
     "text": [
      "epoch=300: 100%|██████████| 156/156 [00:04<00:00, 33.89it/s, loss=2, avg_loss=2.02, score=0.422]   \n"
     ]
    },
    {
     "name": "stdout",
     "output_type": "stream",
     "text": [
      "Angle 20\n",
      "Files already downloaded and verified\n"
     ]
    },
    {
     "name": "stderr",
     "output_type": "stream",
     "text": [
      "epoch=300: 100%|██████████| 156/156 [00:04<00:00, 33.89it/s, loss=2.69, avg_loss=2.51, score=0.203]\n"
     ]
    },
    {
     "name": "stdout",
     "output_type": "stream",
     "text": [
      "Angle 30\n",
      "Files already downloaded and verified\n"
     ]
    },
    {
     "name": "stderr",
     "output_type": "stream",
     "text": [
      "epoch=300: 100%|██████████| 156/156 [00:04<00:00, 33.81it/s, loss=2.58, avg_loss=2.67, score=0.281]\n"
     ]
    },
    {
     "name": "stdout",
     "output_type": "stream",
     "text": [
      "Angle 40\n",
      "Files already downloaded and verified\n"
     ]
    },
    {
     "name": "stderr",
     "output_type": "stream",
     "text": [
      "epoch=300: 100%|██████████| 156/156 [00:04<00:00, 33.67it/s, loss=3, avg_loss=2.89, score=0.109]   \n"
     ]
    },
    {
     "name": "stdout",
     "output_type": "stream",
     "text": [
      "Angle 50\n",
      "Files already downloaded and verified\n"
     ]
    },
    {
     "name": "stderr",
     "output_type": "stream",
     "text": [
      "epoch=300: 100%|██████████| 156/156 [00:04<00:00, 33.72it/s, loss=3.24, avg_loss=2.97, score=0.141]\n"
     ]
    },
    {
     "name": "stdout",
     "output_type": "stream",
     "text": [
      "Angle 60\n",
      "Files already downloaded and verified\n"
     ]
    },
    {
     "name": "stderr",
     "output_type": "stream",
     "text": [
      "epoch=300: 100%|██████████| 156/156 [00:04<00:00, 33.66it/s, loss=3.26, avg_loss=2.9, score=0.156] \n"
     ]
    },
    {
     "name": "stdout",
     "output_type": "stream",
     "text": [
      "Angle 70\n",
      "Files already downloaded and verified\n"
     ]
    },
    {
     "name": "stderr",
     "output_type": "stream",
     "text": [
      "epoch=300: 100%|██████████| 156/156 [00:04<00:00, 33.83it/s, loss=3.14, avg_loss=2.83, score=0.203] \n"
     ]
    },
    {
     "name": "stdout",
     "output_type": "stream",
     "text": [
      "Angle 80\n",
      "Files already downloaded and verified\n"
     ]
    },
    {
     "name": "stderr",
     "output_type": "stream",
     "text": [
      "epoch=300: 100%|██████████| 156/156 [00:04<00:00, 33.82it/s, loss=2.59, avg_loss=2.48, score=0.266]\n"
     ]
    },
    {
     "name": "stdout",
     "output_type": "stream",
     "text": [
      "Angle 90\n",
      "Files already downloaded and verified\n"
     ]
    },
    {
     "name": "stderr",
     "output_type": "stream",
     "text": [
      "epoch=300: 100%|██████████| 156/156 [00:04<00:00, 33.56it/s, loss=2.05, avg_loss=2.14, score=0.359]\n"
     ]
    }
   ],
   "source": [
    "# all classes\n",
    "for angle in range(0, 91, 10):\n",
    "    print(f'Angle {angle}')\n",
    "    test_loader = dl.test_loader(data_dir=cfg.data_dir,\n",
    "                                 batch_size=cfg.bs,\n",
    "                                 augment=True,\n",
    "                                 angles=[angle])\n",
    "    loss, score, results = checkpoint.evaluate(loader=test_loader,\n",
    "                                               device=device,\n",
    "                                               tqdm_bar=True)\n",
    "    df = df.append({'augment': 'rotation', 'class': 'all', 'angle': angle, 'loss': loss, 'score': score},\n",
    "                   ignore_index=True)"
   ]
  },
  {
   "cell_type": "code",
   "execution_count": 37,
   "id": "8f3a0f21-5f7f-40a4-8646-6c38a5ee4549",
   "metadata": {},
   "outputs": [
    {
     "data": {
      "text/html": [
       "<div>\n",
       "<style scoped>\n",
       "    .dataframe tbody tr th:only-of-type {\n",
       "        vertical-align: middle;\n",
       "    }\n",
       "\n",
       "    .dataframe tbody tr th {\n",
       "        vertical-align: top;\n",
       "    }\n",
       "\n",
       "    .dataframe thead th {\n",
       "        text-align: right;\n",
       "    }\n",
       "</style>\n",
       "<table border=\"1\" class=\"dataframe\">\n",
       "  <thead>\n",
       "    <tr style=\"text-align: right;\">\n",
       "      <th></th>\n",
       "      <th>augment</th>\n",
       "      <th>class</th>\n",
       "      <th>angle</th>\n",
       "      <th>loss</th>\n",
       "      <th>score</th>\n",
       "    </tr>\n",
       "  </thead>\n",
       "  <tbody>\n",
       "    <tr>\n",
       "      <th>0</th>\n",
       "      <td>rotation</td>\n",
       "      <td>all</td>\n",
       "      <td>0</td>\n",
       "      <td>1.426026</td>\n",
       "      <td>0.528245</td>\n",
       "    </tr>\n",
       "    <tr>\n",
       "      <th>1</th>\n",
       "      <td>rotation</td>\n",
       "      <td>all</td>\n",
       "      <td>10</td>\n",
       "      <td>2.018540</td>\n",
       "      <td>0.350861</td>\n",
       "    </tr>\n",
       "    <tr>\n",
       "      <th>2</th>\n",
       "      <td>rotation</td>\n",
       "      <td>all</td>\n",
       "      <td>20</td>\n",
       "      <td>2.506179</td>\n",
       "      <td>0.247396</td>\n",
       "    </tr>\n",
       "    <tr>\n",
       "      <th>3</th>\n",
       "      <td>rotation</td>\n",
       "      <td>all</td>\n",
       "      <td>30</td>\n",
       "      <td>2.666072</td>\n",
       "      <td>0.238882</td>\n",
       "    </tr>\n",
       "    <tr>\n",
       "      <th>4</th>\n",
       "      <td>rotation</td>\n",
       "      <td>all</td>\n",
       "      <td>40</td>\n",
       "      <td>2.885173</td>\n",
       "      <td>0.216747</td>\n",
       "    </tr>\n",
       "    <tr>\n",
       "      <th>5</th>\n",
       "      <td>rotation</td>\n",
       "      <td>all</td>\n",
       "      <td>50</td>\n",
       "      <td>2.967047</td>\n",
       "      <td>0.206831</td>\n",
       "    </tr>\n",
       "    <tr>\n",
       "      <th>6</th>\n",
       "      <td>rotation</td>\n",
       "      <td>all</td>\n",
       "      <td>60</td>\n",
       "      <td>2.904573</td>\n",
       "      <td>0.203225</td>\n",
       "    </tr>\n",
       "    <tr>\n",
       "      <th>7</th>\n",
       "      <td>rotation</td>\n",
       "      <td>all</td>\n",
       "      <td>70</td>\n",
       "      <td>2.834357</td>\n",
       "      <td>0.207833</td>\n",
       "    </tr>\n",
       "    <tr>\n",
       "      <th>8</th>\n",
       "      <td>rotation</td>\n",
       "      <td>all</td>\n",
       "      <td>80</td>\n",
       "      <td>2.478995</td>\n",
       "      <td>0.249399</td>\n",
       "    </tr>\n",
       "    <tr>\n",
       "      <th>9</th>\n",
       "      <td>rotation</td>\n",
       "      <td>all</td>\n",
       "      <td>90</td>\n",
       "      <td>2.139873</td>\n",
       "      <td>0.342448</td>\n",
       "    </tr>\n",
       "  </tbody>\n",
       "</table>\n",
       "</div>"
      ],
      "text/plain": [
       "    augment class angle      loss     score\n",
       "0  rotation   all     0  1.426026  0.528245\n",
       "1  rotation   all    10  2.018540  0.350861\n",
       "2  rotation   all    20  2.506179  0.247396\n",
       "3  rotation   all    30  2.666072  0.238882\n",
       "4  rotation   all    40  2.885173  0.216747\n",
       "5  rotation   all    50  2.967047  0.206831\n",
       "6  rotation   all    60  2.904573  0.203225\n",
       "7  rotation   all    70  2.834357  0.207833\n",
       "8  rotation   all    80  2.478995  0.249399\n",
       "9  rotation   all    90  2.139873  0.342448"
      ]
     },
     "execution_count": 37,
     "metadata": {},
     "output_type": "execute_result"
    }
   ],
   "source": [
    "df"
   ]
  },
  {
   "cell_type": "code",
   "execution_count": 38,
   "id": "8745bb3a-d016-44a4-ac5f-cbb388b1074d",
   "metadata": {
    "tags": []
   },
   "outputs": [
    {
     "name": "stdout",
     "output_type": "stream",
     "text": [
      "Class plane, Angle 0\n",
      "Files already downloaded and verified\n"
     ]
    },
    {
     "name": "stderr",
     "output_type": "stream",
     "text": [
      "epoch=300: 100%|██████████| 15/15 [00:00<00:00, 20.13it/s, loss=1.36, avg_loss=1.31, score=0.562]\n"
     ]
    },
    {
     "name": "stdout",
     "output_type": "stream",
     "text": [
      "Class plane, Angle 10\n",
      "Files already downloaded and verified\n"
     ]
    },
    {
     "name": "stderr",
     "output_type": "stream",
     "text": [
      "epoch=300: 100%|██████████| 15/15 [00:00<00:00, 19.65it/s, loss=1.33, avg_loss=1.78, score=0.5] \n"
     ]
    },
    {
     "name": "stdout",
     "output_type": "stream",
     "text": [
      "Class plane, Angle 20\n",
      "Files already downloaded and verified\n"
     ]
    },
    {
     "name": "stderr",
     "output_type": "stream",
     "text": [
      "epoch=300: 100%|██████████| 15/15 [00:00<00:00, 19.50it/s, loss=2.47, avg_loss=2.84, score=0.172]\n"
     ]
    },
    {
     "name": "stdout",
     "output_type": "stream",
     "text": [
      "Class plane, Angle 30\n",
      "Files already downloaded and verified\n"
     ]
    },
    {
     "name": "stderr",
     "output_type": "stream",
     "text": [
      "epoch=300: 100%|██████████| 15/15 [00:00<00:00, 19.56it/s, loss=2.49, avg_loss=2.58, score=0.266]\n"
     ]
    },
    {
     "name": "stdout",
     "output_type": "stream",
     "text": [
      "Class plane, Angle 40\n",
      "Files already downloaded and verified\n"
     ]
    },
    {
     "name": "stderr",
     "output_type": "stream",
     "text": [
      "epoch=300: 100%|██████████| 15/15 [00:00<00:00, 19.56it/s, loss=2.47, avg_loss=2.68, score=0.25]\n"
     ]
    },
    {
     "name": "stdout",
     "output_type": "stream",
     "text": [
      "Class plane, Angle 50\n",
      "Files already downloaded and verified\n"
     ]
    },
    {
     "name": "stderr",
     "output_type": "stream",
     "text": [
      "epoch=300: 100%|██████████| 15/15 [00:00<00:00, 19.63it/s, loss=2.49, avg_loss=2.79, score=0.188]\n"
     ]
    },
    {
     "name": "stdout",
     "output_type": "stream",
     "text": [
      "Class plane, Angle 60\n",
      "Files already downloaded and verified\n"
     ]
    },
    {
     "name": "stderr",
     "output_type": "stream",
     "text": [
      "epoch=300: 100%|██████████| 15/15 [00:00<00:00, 19.59it/s, loss=2.56, avg_loss=2.99, score=0.234]\n"
     ]
    },
    {
     "name": "stdout",
     "output_type": "stream",
     "text": [
      "Class plane, Angle 70\n",
      "Files already downloaded and verified\n"
     ]
    },
    {
     "name": "stderr",
     "output_type": "stream",
     "text": [
      "epoch=300: 100%|██████████| 15/15 [00:00<00:00, 19.54it/s, loss=2.99, avg_loss=3.14, score=0.25] \n"
     ]
    },
    {
     "name": "stdout",
     "output_type": "stream",
     "text": [
      "Class plane, Angle 80\n",
      "Files already downloaded and verified\n"
     ]
    },
    {
     "name": "stderr",
     "output_type": "stream",
     "text": [
      "epoch=300: 100%|██████████| 15/15 [00:00<00:00, 19.60it/s, loss=2.32, avg_loss=2.65, score=0.281]\n"
     ]
    },
    {
     "name": "stdout",
     "output_type": "stream",
     "text": [
      "Class plane, Angle 90\n",
      "Files already downloaded and verified\n"
     ]
    },
    {
     "name": "stderr",
     "output_type": "stream",
     "text": [
      "epoch=300: 100%|██████████| 15/15 [00:00<00:00, 19.46it/s, loss=1.81, avg_loss=1.98, score=0.438]\n"
     ]
    },
    {
     "name": "stdout",
     "output_type": "stream",
     "text": [
      "Class car, Angle 0\n",
      "Files already downloaded and verified\n"
     ]
    },
    {
     "name": "stderr",
     "output_type": "stream",
     "text": [
      "epoch=300: 100%|██████████| 15/15 [00:00<00:00, 20.05it/s, loss=5.06, avg_loss=4.78, score=0.0312]\n"
     ]
    },
    {
     "name": "stdout",
     "output_type": "stream",
     "text": [
      "Class car, Angle 10\n",
      "Files already downloaded and verified\n"
     ]
    },
    {
     "name": "stderr",
     "output_type": "stream",
     "text": [
      "epoch=300: 100%|██████████| 15/15 [00:00<00:00, 19.62it/s, loss=4.46, avg_loss=4.32, score=0.0469]\n"
     ]
    },
    {
     "name": "stdout",
     "output_type": "stream",
     "text": [
      "Class car, Angle 20\n",
      "Files already downloaded and verified\n"
     ]
    },
    {
     "name": "stderr",
     "output_type": "stream",
     "text": [
      "epoch=300: 100%|██████████| 15/15 [00:00<00:00, 19.49it/s, loss=4.37, avg_loss=4.76, score=0.0625]\n"
     ]
    },
    {
     "name": "stdout",
     "output_type": "stream",
     "text": [
      "Class car, Angle 30\n",
      "Files already downloaded and verified\n"
     ]
    },
    {
     "name": "stderr",
     "output_type": "stream",
     "text": [
      "epoch=300: 100%|██████████| 15/15 [00:00<00:00, 19.54it/s, loss=4.68, avg_loss=4.65, score=0.0156]\n"
     ]
    },
    {
     "name": "stdout",
     "output_type": "stream",
     "text": [
      "Class car, Angle 40\n",
      "Files already downloaded and verified\n"
     ]
    },
    {
     "name": "stderr",
     "output_type": "stream",
     "text": [
      "epoch=300: 100%|██████████| 15/15 [00:00<00:00, 19.38it/s, loss=4.34, avg_loss=4.57, score=0.0156]\n"
     ]
    },
    {
     "name": "stdout",
     "output_type": "stream",
     "text": [
      "Class car, Angle 50\n",
      "Files already downloaded and verified\n"
     ]
    },
    {
     "name": "stderr",
     "output_type": "stream",
     "text": [
      "epoch=300: 100%|██████████| 15/15 [00:00<00:00, 19.58it/s, loss=4.15, avg_loss=4.46, score=0.0312]\n"
     ]
    },
    {
     "name": "stdout",
     "output_type": "stream",
     "text": [
      "Class car, Angle 60\n",
      "Files already downloaded and verified\n"
     ]
    },
    {
     "name": "stderr",
     "output_type": "stream",
     "text": [
      "epoch=300: 100%|██████████| 15/15 [00:00<00:00, 19.59it/s, loss=4.4, avg_loss=4.82, score=0.0156]\n"
     ]
    },
    {
     "name": "stdout",
     "output_type": "stream",
     "text": [
      "Class car, Angle 70\n",
      "Files already downloaded and verified\n"
     ]
    },
    {
     "name": "stderr",
     "output_type": "stream",
     "text": [
      "epoch=300: 100%|██████████| 15/15 [00:00<00:00, 19.37it/s, loss=4.65, avg_loss=5.03, score=0.0625]\n"
     ]
    },
    {
     "name": "stdout",
     "output_type": "stream",
     "text": [
      "Class car, Angle 80\n",
      "Files already downloaded and verified\n"
     ]
    },
    {
     "name": "stderr",
     "output_type": "stream",
     "text": [
      "epoch=300: 100%|██████████| 15/15 [00:00<00:00, 19.39it/s, loss=4.95, avg_loss=5.16, score=0.0312]\n"
     ]
    },
    {
     "name": "stdout",
     "output_type": "stream",
     "text": [
      "Class car, Angle 90\n",
      "Files already downloaded and verified\n"
     ]
    },
    {
     "name": "stderr",
     "output_type": "stream",
     "text": [
      "epoch=300: 100%|██████████| 15/15 [00:00<00:00, 19.52it/s, loss=4.72, avg_loss=5.05, score=0.0156]\n"
     ]
    },
    {
     "name": "stdout",
     "output_type": "stream",
     "text": [
      "Class bird, Angle 0\n",
      "Files already downloaded and verified\n"
     ]
    },
    {
     "name": "stderr",
     "output_type": "stream",
     "text": [
      "epoch=300: 100%|██████████| 15/15 [00:00<00:00, 20.08it/s, loss=5.08, avg_loss=4.47, score=0.0156]\n"
     ]
    },
    {
     "name": "stdout",
     "output_type": "stream",
     "text": [
      "Class bird, Angle 10\n",
      "Files already downloaded and verified\n"
     ]
    },
    {
     "name": "stderr",
     "output_type": "stream",
     "text": [
      "epoch=300: 100%|██████████| 15/15 [00:00<00:00, 19.45it/s, loss=3.95, avg_loss=3.75, score=0.0938]\n"
     ]
    },
    {
     "name": "stdout",
     "output_type": "stream",
     "text": [
      "Class bird, Angle 20\n",
      "Files already downloaded and verified\n"
     ]
    },
    {
     "name": "stderr",
     "output_type": "stream",
     "text": [
      "epoch=300: 100%|██████████| 15/15 [00:00<00:00, 19.34it/s, loss=4.37, avg_loss=4.05, score=0.0156]\n"
     ]
    },
    {
     "name": "stdout",
     "output_type": "stream",
     "text": [
      "Class bird, Angle 30\n",
      "Files already downloaded and verified\n"
     ]
    },
    {
     "name": "stderr",
     "output_type": "stream",
     "text": [
      "epoch=300: 100%|██████████| 15/15 [00:00<00:00, 19.45it/s, loss=4.16, avg_loss=3.84, score=0.0938]\n"
     ]
    },
    {
     "name": "stdout",
     "output_type": "stream",
     "text": [
      "Class bird, Angle 40\n",
      "Files already downloaded and verified\n"
     ]
    },
    {
     "name": "stderr",
     "output_type": "stream",
     "text": [
      "epoch=300: 100%|██████████| 15/15 [00:00<00:00, 19.16it/s, loss=4.46, avg_loss=4.23, score=0.0469]\n"
     ]
    },
    {
     "name": "stdout",
     "output_type": "stream",
     "text": [
      "Class bird, Angle 50\n",
      "Files already downloaded and verified\n"
     ]
    },
    {
     "name": "stderr",
     "output_type": "stream",
     "text": [
      "epoch=300: 100%|██████████| 15/15 [00:00<00:00, 19.31it/s, loss=4.92, avg_loss=4.4, score=0.0938]\n"
     ]
    },
    {
     "name": "stdout",
     "output_type": "stream",
     "text": [
      "Class bird, Angle 60\n",
      "Files already downloaded and verified\n"
     ]
    },
    {
     "name": "stderr",
     "output_type": "stream",
     "text": [
      "epoch=300: 100%|██████████| 15/15 [00:00<00:00, 19.46it/s, loss=4.24, avg_loss=4.04, score=0.0312]\n"
     ]
    },
    {
     "name": "stdout",
     "output_type": "stream",
     "text": [
      "Class bird, Angle 70\n",
      "Files already downloaded and verified\n"
     ]
    },
    {
     "name": "stderr",
     "output_type": "stream",
     "text": [
      "epoch=300: 100%|██████████| 15/15 [00:00<00:00, 19.47it/s, loss=4.42, avg_loss=4.11, score=0.0469]\n"
     ]
    },
    {
     "name": "stdout",
     "output_type": "stream",
     "text": [
      "Class bird, Angle 80\n",
      "Files already downloaded and verified\n"
     ]
    },
    {
     "name": "stderr",
     "output_type": "stream",
     "text": [
      "epoch=300: 100%|██████████| 15/15 [00:00<00:00, 19.31it/s, loss=4.17, avg_loss=4.39, score=0.0938]\n"
     ]
    },
    {
     "name": "stdout",
     "output_type": "stream",
     "text": [
      "Class bird, Angle 90\n",
      "Files already downloaded and verified\n"
     ]
    },
    {
     "name": "stderr",
     "output_type": "stream",
     "text": [
      "epoch=300: 100%|██████████| 15/15 [00:00<00:00, 19.18it/s, loss=4.28, avg_loss=4.1, score=0.0469]\n"
     ]
    },
    {
     "name": "stdout",
     "output_type": "stream",
     "text": [
      "Class cat, Angle 0\n",
      "Files already downloaded and verified\n"
     ]
    },
    {
     "name": "stderr",
     "output_type": "stream",
     "text": [
      "epoch=300: 100%|██████████| 15/15 [00:00<00:00, 20.02it/s, loss=5.57, avg_loss=5.37, score=0.0312]\n"
     ]
    },
    {
     "name": "stdout",
     "output_type": "stream",
     "text": [
      "Class cat, Angle 10\n",
      "Files already downloaded and verified\n"
     ]
    },
    {
     "name": "stderr",
     "output_type": "stream",
     "text": [
      "epoch=300: 100%|██████████| 15/15 [00:00<00:00, 19.57it/s, loss=4.58, avg_loss=4.72, score=0.0469]\n"
     ]
    },
    {
     "name": "stdout",
     "output_type": "stream",
     "text": [
      "Class cat, Angle 20\n",
      "Files already downloaded and verified\n"
     ]
    },
    {
     "name": "stderr",
     "output_type": "stream",
     "text": [
      "epoch=300: 100%|██████████| 15/15 [00:00<00:00, 19.48it/s, loss=4.25, avg_loss=4.49, score=0.0781]\n"
     ]
    },
    {
     "name": "stdout",
     "output_type": "stream",
     "text": [
      "Class cat, Angle 30\n",
      "Files already downloaded and verified\n"
     ]
    },
    {
     "name": "stderr",
     "output_type": "stream",
     "text": [
      "epoch=300: 100%|██████████| 15/15 [00:00<00:00, 19.27it/s, loss=3.99, avg_loss=4.29, score=0.0781]\n"
     ]
    },
    {
     "name": "stdout",
     "output_type": "stream",
     "text": [
      "Class cat, Angle 40\n",
      "Files already downloaded and verified\n"
     ]
    },
    {
     "name": "stderr",
     "output_type": "stream",
     "text": [
      "epoch=300: 100%|██████████| 15/15 [00:00<00:00, 19.52it/s, loss=4.26, avg_loss=4.52, score=0.125] \n"
     ]
    },
    {
     "name": "stdout",
     "output_type": "stream",
     "text": [
      "Class cat, Angle 50\n",
      "Files already downloaded and verified\n"
     ]
    },
    {
     "name": "stderr",
     "output_type": "stream",
     "text": [
      "epoch=300: 100%|██████████| 15/15 [00:00<00:00, 19.34it/s, loss=4.29, avg_loss=4.54, score=0.0469]\n"
     ]
    },
    {
     "name": "stdout",
     "output_type": "stream",
     "text": [
      "Class cat, Angle 60\n",
      "Files already downloaded and verified\n"
     ]
    },
    {
     "name": "stderr",
     "output_type": "stream",
     "text": [
      "epoch=300: 100%|██████████| 15/15 [00:00<00:00, 19.20it/s, loss=4.53, avg_loss=4.52, score=0.0156]\n"
     ]
    },
    {
     "name": "stdout",
     "output_type": "stream",
     "text": [
      "Class cat, Angle 70\n",
      "Files already downloaded and verified\n"
     ]
    },
    {
     "name": "stderr",
     "output_type": "stream",
     "text": [
      "epoch=300: 100%|██████████| 15/15 [00:00<00:00, 19.12it/s, loss=4.71, avg_loss=4.54, score=0.0469]\n"
     ]
    },
    {
     "name": "stdout",
     "output_type": "stream",
     "text": [
      "Class cat, Angle 80\n",
      "Files already downloaded and verified\n"
     ]
    },
    {
     "name": "stderr",
     "output_type": "stream",
     "text": [
      "epoch=300: 100%|██████████| 15/15 [00:00<00:00, 19.19it/s, loss=5.1, avg_loss=5.08, score=0.0312] \n"
     ]
    },
    {
     "name": "stdout",
     "output_type": "stream",
     "text": [
      "Class cat, Angle 90\n",
      "Files already downloaded and verified\n"
     ]
    },
    {
     "name": "stderr",
     "output_type": "stream",
     "text": [
      "epoch=300: 100%|██████████| 15/15 [00:00<00:00, 19.09it/s, loss=5.18, avg_loss=4.99, score=0.0156]\n"
     ]
    },
    {
     "name": "stdout",
     "output_type": "stream",
     "text": [
      "Class deer, Angle 0\n",
      "Files already downloaded and verified\n"
     ]
    },
    {
     "name": "stderr",
     "output_type": "stream",
     "text": [
      "epoch=300: 100%|██████████| 15/15 [00:00<00:00, 19.29it/s, loss=5.83, avg_loss=5.25, score=0.0312]\n"
     ]
    },
    {
     "name": "stdout",
     "output_type": "stream",
     "text": [
      "Class deer, Angle 10\n",
      "Files already downloaded and verified\n"
     ]
    },
    {
     "name": "stderr",
     "output_type": "stream",
     "text": [
      "epoch=300: 100%|██████████| 15/15 [00:00<00:00, 19.13it/s, loss=5.35, avg_loss=5.08, score=0.0156]\n"
     ]
    },
    {
     "name": "stdout",
     "output_type": "stream",
     "text": [
      "Class deer, Angle 20\n",
      "Files already downloaded and verified\n"
     ]
    },
    {
     "name": "stderr",
     "output_type": "stream",
     "text": [
      "epoch=300: 100%|██████████| 15/15 [00:00<00:00, 19.03it/s, loss=4.74, avg_loss=4.87, score=0.0469]\n"
     ]
    },
    {
     "name": "stdout",
     "output_type": "stream",
     "text": [
      "Class deer, Angle 30\n",
      "Files already downloaded and verified\n"
     ]
    },
    {
     "name": "stderr",
     "output_type": "stream",
     "text": [
      "epoch=300: 100%|██████████| 15/15 [00:00<00:00, 18.81it/s, loss=4.84, avg_loss=4.67, score=0]    \n"
     ]
    },
    {
     "name": "stdout",
     "output_type": "stream",
     "text": [
      "Class deer, Angle 40\n",
      "Files already downloaded and verified\n"
     ]
    },
    {
     "name": "stderr",
     "output_type": "stream",
     "text": [
      "epoch=300: 100%|██████████| 15/15 [00:00<00:00, 18.81it/s, loss=5.07, avg_loss=4.88, score=0]    \n"
     ]
    },
    {
     "name": "stdout",
     "output_type": "stream",
     "text": [
      "Class deer, Angle 50\n",
      "Files already downloaded and verified\n"
     ]
    },
    {
     "name": "stderr",
     "output_type": "stream",
     "text": [
      "epoch=300: 100%|██████████| 15/15 [00:00<00:00, 18.93it/s, loss=5.41, avg_loss=5.1, score=0.0312] \n"
     ]
    },
    {
     "name": "stdout",
     "output_type": "stream",
     "text": [
      "Class deer, Angle 60\n",
      "Files already downloaded and verified\n"
     ]
    },
    {
     "name": "stderr",
     "output_type": "stream",
     "text": [
      "epoch=300: 100%|██████████| 15/15 [00:00<00:00, 18.75it/s, loss=4.79, avg_loss=4.82, score=0]    \n"
     ]
    },
    {
     "name": "stdout",
     "output_type": "stream",
     "text": [
      "Class deer, Angle 70\n",
      "Files already downloaded and verified\n"
     ]
    },
    {
     "name": "stderr",
     "output_type": "stream",
     "text": [
      "epoch=300: 100%|██████████| 15/15 [00:00<00:00, 18.91it/s, loss=5.13, avg_loss=4.96, score=0]    \n"
     ]
    },
    {
     "name": "stdout",
     "output_type": "stream",
     "text": [
      "Class deer, Angle 80\n",
      "Files already downloaded and verified\n"
     ]
    },
    {
     "name": "stderr",
     "output_type": "stream",
     "text": [
      "epoch=300: 100%|██████████| 15/15 [00:00<00:00, 18.99it/s, loss=5.94, avg_loss=5.52, score=0.0312]\n"
     ]
    },
    {
     "name": "stdout",
     "output_type": "stream",
     "text": [
      "Class deer, Angle 90\n",
      "Files already downloaded and verified\n"
     ]
    },
    {
     "name": "stderr",
     "output_type": "stream",
     "text": [
      "epoch=300: 100%|██████████| 15/15 [00:00<00:00, 19.09it/s, loss=5.43, avg_loss=5.25, score=0.0156]\n"
     ]
    },
    {
     "name": "stdout",
     "output_type": "stream",
     "text": [
      "Class dog, Angle 0\n",
      "Files already downloaded and verified\n"
     ]
    },
    {
     "name": "stderr",
     "output_type": "stream",
     "text": [
      "epoch=300: 100%|██████████| 15/15 [00:00<00:00, 19.58it/s, loss=6.18, avg_loss=6.23, score=0]    \n"
     ]
    },
    {
     "name": "stdout",
     "output_type": "stream",
     "text": [
      "Class dog, Angle 10\n",
      "Files already downloaded and verified\n"
     ]
    },
    {
     "name": "stderr",
     "output_type": "stream",
     "text": [
      "epoch=300: 100%|██████████| 15/15 [00:00<00:00, 19.11it/s, loss=4.9, avg_loss=5.38, score=0.0625]\n"
     ]
    },
    {
     "name": "stdout",
     "output_type": "stream",
     "text": [
      "Class dog, Angle 20\n",
      "Files already downloaded and verified\n"
     ]
    },
    {
     "name": "stderr",
     "output_type": "stream",
     "text": [
      "epoch=300: 100%|██████████| 15/15 [00:00<00:00, 18.68it/s, loss=4.44, avg_loss=4.8, score=0.0938]\n"
     ]
    },
    {
     "name": "stdout",
     "output_type": "stream",
     "text": [
      "Class dog, Angle 30\n",
      "Files already downloaded and verified\n"
     ]
    },
    {
     "name": "stderr",
     "output_type": "stream",
     "text": [
      "epoch=300: 100%|██████████| 15/15 [00:00<00:00, 18.91it/s, loss=4.32, avg_loss=4.41, score=0.0781]\n"
     ]
    },
    {
     "name": "stdout",
     "output_type": "stream",
     "text": [
      "Class dog, Angle 40\n",
      "Files already downloaded and verified\n"
     ]
    },
    {
     "name": "stderr",
     "output_type": "stream",
     "text": [
      "epoch=300: 100%|██████████| 15/15 [00:00<00:00, 19.09it/s, loss=4.79, avg_loss=4.72, score=0.0469]\n"
     ]
    },
    {
     "name": "stdout",
     "output_type": "stream",
     "text": [
      "Class dog, Angle 50\n",
      "Files already downloaded and verified\n"
     ]
    },
    {
     "name": "stderr",
     "output_type": "stream",
     "text": [
      "epoch=300: 100%|██████████| 15/15 [00:00<00:00, 18.82it/s, loss=4.73, avg_loss=4.69, score=0]     \n"
     ]
    },
    {
     "name": "stdout",
     "output_type": "stream",
     "text": [
      "Class dog, Angle 60\n",
      "Files already downloaded and verified\n"
     ]
    },
    {
     "name": "stderr",
     "output_type": "stream",
     "text": [
      "epoch=300: 100%|██████████| 15/15 [00:00<00:00, 19.19it/s, loss=4.66, avg_loss=4.57, score=0.0312]\n"
     ]
    },
    {
     "name": "stdout",
     "output_type": "stream",
     "text": [
      "Class dog, Angle 70\n",
      "Files already downloaded and verified\n"
     ]
    },
    {
     "name": "stderr",
     "output_type": "stream",
     "text": [
      "epoch=300: 100%|██████████| 15/15 [00:00<00:00, 19.03it/s, loss=4.7, avg_loss=4.73, score=0.0312]\n"
     ]
    },
    {
     "name": "stdout",
     "output_type": "stream",
     "text": [
      "Class dog, Angle 80\n",
      "Files already downloaded and verified\n"
     ]
    },
    {
     "name": "stderr",
     "output_type": "stream",
     "text": [
      "epoch=300: 100%|██████████| 15/15 [00:00<00:00, 19.15it/s, loss=5.79, avg_loss=5.48, score=0.0156]\n"
     ]
    },
    {
     "name": "stdout",
     "output_type": "stream",
     "text": [
      "Class dog, Angle 90\n",
      "Files already downloaded and verified\n"
     ]
    },
    {
     "name": "stderr",
     "output_type": "stream",
     "text": [
      "epoch=300: 100%|██████████| 15/15 [00:00<00:00, 18.60it/s, loss=5.14, avg_loss=5.44, score=0.0156]\n"
     ]
    },
    {
     "name": "stdout",
     "output_type": "stream",
     "text": [
      "Class frog, Angle 0\n",
      "Files already downloaded and verified\n"
     ]
    },
    {
     "name": "stderr",
     "output_type": "stream",
     "text": [
      "epoch=300: 100%|██████████| 15/15 [00:00<00:00, 19.52it/s, loss=6.41, avg_loss=6.34, score=0.0156]\n"
     ]
    },
    {
     "name": "stdout",
     "output_type": "stream",
     "text": [
      "Class frog, Angle 10\n",
      "Files already downloaded and verified\n"
     ]
    },
    {
     "name": "stderr",
     "output_type": "stream",
     "text": [
      "epoch=300: 100%|██████████| 15/15 [00:00<00:00, 18.62it/s, loss=6.2, avg_loss=5.93, score=0.0156]\n"
     ]
    },
    {
     "name": "stdout",
     "output_type": "stream",
     "text": [
      "Class frog, Angle 20\n",
      "Files already downloaded and verified\n"
     ]
    },
    {
     "name": "stderr",
     "output_type": "stream",
     "text": [
      "epoch=300: 100%|██████████| 15/15 [00:00<00:00, 19.11it/s, loss=6.02, avg_loss=5.94, score=0.0312]\n"
     ]
    },
    {
     "name": "stdout",
     "output_type": "stream",
     "text": [
      "Class frog, Angle 30\n",
      "Files already downloaded and verified\n"
     ]
    },
    {
     "name": "stderr",
     "output_type": "stream",
     "text": [
      "epoch=300: 100%|██████████| 15/15 [00:00<00:00, 19.15it/s, loss=5.37, avg_loss=5.62, score=0.0156]\n"
     ]
    },
    {
     "name": "stdout",
     "output_type": "stream",
     "text": [
      "Class frog, Angle 40\n",
      "Files already downloaded and verified\n"
     ]
    },
    {
     "name": "stderr",
     "output_type": "stream",
     "text": [
      "epoch=300: 100%|██████████| 15/15 [00:00<00:00, 19.07it/s, loss=5.62, avg_loss=5.67, score=0.0156]\n"
     ]
    },
    {
     "name": "stdout",
     "output_type": "stream",
     "text": [
      "Class frog, Angle 50\n",
      "Files already downloaded and verified\n"
     ]
    },
    {
     "name": "stderr",
     "output_type": "stream",
     "text": [
      "epoch=300: 100%|██████████| 15/15 [00:00<00:00, 18.97it/s, loss=5.69, avg_loss=5.66, score=0.0156]\n"
     ]
    },
    {
     "name": "stdout",
     "output_type": "stream",
     "text": [
      "Class frog, Angle 60\n",
      "Files already downloaded and verified\n"
     ]
    },
    {
     "name": "stderr",
     "output_type": "stream",
     "text": [
      "epoch=300: 100%|██████████| 15/15 [00:00<00:00, 19.21it/s, loss=5.5, avg_loss=5.57, score=0.0625]\n"
     ]
    },
    {
     "name": "stdout",
     "output_type": "stream",
     "text": [
      "Class frog, Angle 70\n",
      "Files already downloaded and verified\n"
     ]
    },
    {
     "name": "stderr",
     "output_type": "stream",
     "text": [
      "epoch=300: 100%|██████████| 15/15 [00:00<00:00, 19.09it/s, loss=5.91, avg_loss=5.75, score=0.0312]\n"
     ]
    },
    {
     "name": "stdout",
     "output_type": "stream",
     "text": [
      "Class frog, Angle 80\n",
      "Files already downloaded and verified\n"
     ]
    },
    {
     "name": "stderr",
     "output_type": "stream",
     "text": [
      "epoch=300: 100%|██████████| 15/15 [00:00<00:00, 18.97it/s, loss=6.67, avg_loss=6.41, score=0]     \n"
     ]
    },
    {
     "name": "stdout",
     "output_type": "stream",
     "text": [
      "Class frog, Angle 90\n",
      "Files already downloaded and verified\n"
     ]
    },
    {
     "name": "stderr",
     "output_type": "stream",
     "text": [
      "epoch=300: 100%|██████████| 15/15 [00:00<00:00, 19.28it/s, loss=6.49, avg_loss=6.45, score=0.0312]\n"
     ]
    },
    {
     "name": "stdout",
     "output_type": "stream",
     "text": [
      "Class horse, Angle 0\n",
      "Files already downloaded and verified\n"
     ]
    },
    {
     "name": "stderr",
     "output_type": "stream",
     "text": [
      "epoch=300: 100%|██████████| 15/15 [00:00<00:00, 19.46it/s, loss=5.49, avg_loss=5.28, score=0.0156]\n"
     ]
    },
    {
     "name": "stdout",
     "output_type": "stream",
     "text": [
      "Class horse, Angle 10\n",
      "Files already downloaded and verified\n"
     ]
    },
    {
     "name": "stderr",
     "output_type": "stream",
     "text": [
      "epoch=300: 100%|██████████| 15/15 [00:00<00:00, 19.01it/s, loss=5.29, avg_loss=4.76, score=0.0469]\n"
     ]
    },
    {
     "name": "stdout",
     "output_type": "stream",
     "text": [
      "Class horse, Angle 20\n",
      "Files already downloaded and verified\n"
     ]
    },
    {
     "name": "stderr",
     "output_type": "stream",
     "text": [
      "epoch=300: 100%|██████████| 15/15 [00:00<00:00, 19.08it/s, loss=4.33, avg_loss=4.67, score=0.0625]\n"
     ]
    },
    {
     "name": "stdout",
     "output_type": "stream",
     "text": [
      "Class horse, Angle 30\n",
      "Files already downloaded and verified\n"
     ]
    },
    {
     "name": "stderr",
     "output_type": "stream",
     "text": [
      "epoch=300: 100%|██████████| 15/15 [00:00<00:00, 18.97it/s, loss=3.91, avg_loss=4.37, score=0.0781]\n"
     ]
    },
    {
     "name": "stdout",
     "output_type": "stream",
     "text": [
      "Class horse, Angle 40\n",
      "Files already downloaded and verified\n"
     ]
    },
    {
     "name": "stderr",
     "output_type": "stream",
     "text": [
      "epoch=300: 100%|██████████| 15/15 [00:00<00:00, 19.12it/s, loss=4.22, avg_loss=4.64, score=0.0312]\n"
     ]
    },
    {
     "name": "stdout",
     "output_type": "stream",
     "text": [
      "Class horse, Angle 50\n",
      "Files already downloaded and verified\n"
     ]
    },
    {
     "name": "stderr",
     "output_type": "stream",
     "text": [
      "epoch=300: 100%|██████████| 15/15 [00:00<00:00, 18.80it/s, loss=4.67, avg_loss=4.83, score=0.0156]\n"
     ]
    },
    {
     "name": "stdout",
     "output_type": "stream",
     "text": [
      "Class horse, Angle 60\n",
      "Files already downloaded and verified\n"
     ]
    },
    {
     "name": "stderr",
     "output_type": "stream",
     "text": [
      "epoch=300: 100%|██████████| 15/15 [00:00<00:00, 18.98it/s, loss=5, avg_loss=5.06, score=0.0156]  \n"
     ]
    },
    {
     "name": "stdout",
     "output_type": "stream",
     "text": [
      "Class horse, Angle 70\n",
      "Files already downloaded and verified\n"
     ]
    },
    {
     "name": "stderr",
     "output_type": "stream",
     "text": [
      "epoch=300: 100%|██████████| 15/15 [00:00<00:00, 19.09it/s, loss=4.99, avg_loss=5.18, score=0.0312]\n"
     ]
    },
    {
     "name": "stdout",
     "output_type": "stream",
     "text": [
      "Class horse, Angle 80\n",
      "Files already downloaded and verified\n"
     ]
    },
    {
     "name": "stderr",
     "output_type": "stream",
     "text": [
      "epoch=300: 100%|██████████| 15/15 [00:00<00:00, 17.71it/s, loss=5.07, avg_loss=5.17, score=0.0312]\n"
     ]
    },
    {
     "name": "stdout",
     "output_type": "stream",
     "text": [
      "Class horse, Angle 90\n",
      "Files already downloaded and verified\n"
     ]
    },
    {
     "name": "stderr",
     "output_type": "stream",
     "text": [
      "epoch=300: 100%|██████████| 15/15 [00:00<00:00, 19.14it/s, loss=4.44, avg_loss=4.67, score=0.0469]\n"
     ]
    },
    {
     "name": "stdout",
     "output_type": "stream",
     "text": [
      "Class ship, Angle 0\n",
      "Files already downloaded and verified\n"
     ]
    },
    {
     "name": "stderr",
     "output_type": "stream",
     "text": [
      "epoch=300: 100%|██████████| 15/15 [00:00<00:00, 19.46it/s, loss=2.84, avg_loss=2.61, score=0.125]\n"
     ]
    },
    {
     "name": "stdout",
     "output_type": "stream",
     "text": [
      "Class ship, Angle 10\n",
      "Files already downloaded and verified\n"
     ]
    },
    {
     "name": "stderr",
     "output_type": "stream",
     "text": [
      "epoch=300: 100%|██████████| 15/15 [00:00<00:00, 19.21it/s, loss=2.51, avg_loss=2.2, score=0.281]\n"
     ]
    },
    {
     "name": "stdout",
     "output_type": "stream",
     "text": [
      "Class ship, Angle 20\n",
      "Files already downloaded and verified\n"
     ]
    },
    {
     "name": "stderr",
     "output_type": "stream",
     "text": [
      "epoch=300: 100%|██████████| 15/15 [00:00<00:00, 19.16it/s, loss=3.52, avg_loss=3.41, score=0.0312]\n"
     ]
    },
    {
     "name": "stdout",
     "output_type": "stream",
     "text": [
      "Class ship, Angle 30\n",
      "Files already downloaded and verified\n"
     ]
    },
    {
     "name": "stderr",
     "output_type": "stream",
     "text": [
      "epoch=300: 100%|██████████| 15/15 [00:00<00:00, 18.79it/s, loss=3.4, avg_loss=3.23, score=0.188] \n"
     ]
    },
    {
     "name": "stdout",
     "output_type": "stream",
     "text": [
      "Class ship, Angle 40\n",
      "Files already downloaded and verified\n"
     ]
    },
    {
     "name": "stderr",
     "output_type": "stream",
     "text": [
      "epoch=300: 100%|██████████| 15/15 [00:00<00:00, 18.97it/s, loss=3.51, avg_loss=3.32, score=0.125]\n"
     ]
    },
    {
     "name": "stdout",
     "output_type": "stream",
     "text": [
      "Class ship, Angle 50\n",
      "Files already downloaded and verified\n"
     ]
    },
    {
     "name": "stderr",
     "output_type": "stream",
     "text": [
      "epoch=300: 100%|██████████| 15/15 [00:00<00:00, 19.02it/s, loss=3.47, avg_loss=3.41, score=0.0781]\n"
     ]
    },
    {
     "name": "stdout",
     "output_type": "stream",
     "text": [
      "Class ship, Angle 60\n",
      "Files already downloaded and verified\n"
     ]
    },
    {
     "name": "stderr",
     "output_type": "stream",
     "text": [
      "epoch=300: 100%|██████████| 15/15 [00:00<00:00, 18.94it/s, loss=3.58, avg_loss=3.64, score=0.0625]\n"
     ]
    },
    {
     "name": "stdout",
     "output_type": "stream",
     "text": [
      "Class ship, Angle 70\n",
      "Files already downloaded and verified\n"
     ]
    },
    {
     "name": "stderr",
     "output_type": "stream",
     "text": [
      "epoch=300: 100%|██████████| 15/15 [00:00<00:00, 19.09it/s, loss=4.09, avg_loss=3.91, score=0.109]\n"
     ]
    },
    {
     "name": "stdout",
     "output_type": "stream",
     "text": [
      "Class ship, Angle 80\n",
      "Files already downloaded and verified\n"
     ]
    },
    {
     "name": "stderr",
     "output_type": "stream",
     "text": [
      "epoch=300: 100%|██████████| 15/15 [00:00<00:00, 19.06it/s, loss=3.43, avg_loss=3.49, score=0.156]\n"
     ]
    },
    {
     "name": "stdout",
     "output_type": "stream",
     "text": [
      "Class ship, Angle 90\n",
      "Files already downloaded and verified\n"
     ]
    },
    {
     "name": "stderr",
     "output_type": "stream",
     "text": [
      "epoch=300: 100%|██████████| 15/15 [00:00<00:00, 19.08it/s, loss=3.53, avg_loss=3.06, score=0.172] \n"
     ]
    },
    {
     "name": "stdout",
     "output_type": "stream",
     "text": [
      "Class truck, Angle 0\n",
      "Files already downloaded and verified\n"
     ]
    },
    {
     "name": "stderr",
     "output_type": "stream",
     "text": [
      "epoch=300: 100%|██████████| 15/15 [00:00<00:00, 19.35it/s, loss=4.5, avg_loss=4.49, score=0.0469]\n"
     ]
    },
    {
     "name": "stdout",
     "output_type": "stream",
     "text": [
      "Class truck, Angle 10\n",
      "Files already downloaded and verified\n"
     ]
    },
    {
     "name": "stderr",
     "output_type": "stream",
     "text": [
      "epoch=300: 100%|██████████| 15/15 [00:00<00:00, 18.92it/s, loss=3.92, avg_loss=4.1, score=0.109]  \n"
     ]
    },
    {
     "name": "stdout",
     "output_type": "stream",
     "text": [
      "Class truck, Angle 20\n",
      "Files already downloaded and verified\n"
     ]
    },
    {
     "name": "stderr",
     "output_type": "stream",
     "text": [
      "epoch=300: 100%|██████████| 15/15 [00:00<00:00, 18.69it/s, loss=4.77, avg_loss=4.6, score=0.0938] \n"
     ]
    },
    {
     "name": "stdout",
     "output_type": "stream",
     "text": [
      "Class truck, Angle 30\n",
      "Files already downloaded and verified\n"
     ]
    },
    {
     "name": "stderr",
     "output_type": "stream",
     "text": [
      "epoch=300: 100%|██████████| 15/15 [00:00<00:00, 19.07it/s, loss=4.08, avg_loss=4.21, score=0.0781]\n"
     ]
    },
    {
     "name": "stdout",
     "output_type": "stream",
     "text": [
      "Class truck, Angle 40\n",
      "Files already downloaded and verified\n"
     ]
    },
    {
     "name": "stderr",
     "output_type": "stream",
     "text": [
      "epoch=300: 100%|██████████| 15/15 [00:00<00:00, 19.04it/s, loss=4.41, avg_loss=4.18, score=0.0469]\n"
     ]
    },
    {
     "name": "stdout",
     "output_type": "stream",
     "text": [
      "Class truck, Angle 50\n",
      "Files already downloaded and verified\n"
     ]
    },
    {
     "name": "stderr",
     "output_type": "stream",
     "text": [
      "epoch=300: 100%|██████████| 15/15 [00:00<00:00, 18.94it/s, loss=4.11, avg_loss=4.29, score=0.0625]\n"
     ]
    },
    {
     "name": "stdout",
     "output_type": "stream",
     "text": [
      "Class truck, Angle 60\n",
      "Files already downloaded and verified\n"
     ]
    },
    {
     "name": "stderr",
     "output_type": "stream",
     "text": [
      "epoch=300: 100%|██████████| 15/15 [00:00<00:00, 18.50it/s, loss=4.87, avg_loss=4.84, score=0.0625]\n"
     ]
    },
    {
     "name": "stdout",
     "output_type": "stream",
     "text": [
      "Class truck, Angle 70\n",
      "Files already downloaded and verified\n"
     ]
    },
    {
     "name": "stderr",
     "output_type": "stream",
     "text": [
      "epoch=300: 100%|██████████| 15/15 [00:00<00:00, 19.02it/s, loss=4.55, avg_loss=4.82, score=0.109] \n"
     ]
    },
    {
     "name": "stdout",
     "output_type": "stream",
     "text": [
      "Class truck, Angle 80\n",
      "Files already downloaded and verified\n"
     ]
    },
    {
     "name": "stderr",
     "output_type": "stream",
     "text": [
      "epoch=300: 100%|██████████| 15/15 [00:00<00:00, 18.91it/s, loss=4.67, avg_loss=4.76, score=0.0312]\n"
     ]
    },
    {
     "name": "stdout",
     "output_type": "stream",
     "text": [
      "Class truck, Angle 90\n",
      "Files already downloaded and verified\n"
     ]
    },
    {
     "name": "stderr",
     "output_type": "stream",
     "text": [
      "epoch=300: 100%|██████████| 15/15 [00:00<00:00, 18.99it/s, loss=4.44, avg_loss=4.6, score=0.0938]\n"
     ]
    }
   ],
   "source": [
    "# by class by angle classes\n",
    "for class_name in utils.classDict.keys():\n",
    "    for angle in range(0, 91, 10):\n",
    "        print(f'Class {class_name}, Angle {angle}')\n",
    "        test_loader = dl.test_loader(data_dir=cfg.data_dir,\n",
    "                                     batch_size=cfg.bs,\n",
    "                                     augment=True,\n",
    "                                     angles=[angle],\n",
    "                                     class_name=class_name\n",
    "                                    )\n",
    "        loss, score, results = checkpoint.evaluate(loader=test_loader,\n",
    "                                                   device=device,\n",
    "                                                   tqdm_bar=True)\n",
    "        df = df.append({'augment': 'rotation', 'class': class_name, 'angle': angle, 'loss': loss, 'score': score},\n",
    "                       ignore_index=True)"
   ]
  },
  {
   "cell_type": "code",
   "execution_count": 39,
   "id": "1a4c91b7-f688-48ae-a9c9-d27ceb3514b2",
   "metadata": {},
   "outputs": [
    {
     "data": {
      "text/html": [
       "<div>\n",
       "<style scoped>\n",
       "    .dataframe tbody tr th:only-of-type {\n",
       "        vertical-align: middle;\n",
       "    }\n",
       "\n",
       "    .dataframe tbody tr th {\n",
       "        vertical-align: top;\n",
       "    }\n",
       "\n",
       "    .dataframe thead th {\n",
       "        text-align: right;\n",
       "    }\n",
       "</style>\n",
       "<table border=\"1\" class=\"dataframe\">\n",
       "  <thead>\n",
       "    <tr style=\"text-align: right;\">\n",
       "      <th></th>\n",
       "      <th>augment</th>\n",
       "      <th>class</th>\n",
       "      <th>angle</th>\n",
       "      <th>loss</th>\n",
       "      <th>score</th>\n",
       "    </tr>\n",
       "  </thead>\n",
       "  <tbody>\n",
       "    <tr>\n",
       "      <th>0</th>\n",
       "      <td>rotation</td>\n",
       "      <td>all</td>\n",
       "      <td>0</td>\n",
       "      <td>1.426026</td>\n",
       "      <td>0.528245</td>\n",
       "    </tr>\n",
       "    <tr>\n",
       "      <th>1</th>\n",
       "      <td>rotation</td>\n",
       "      <td>all</td>\n",
       "      <td>10</td>\n",
       "      <td>2.018540</td>\n",
       "      <td>0.350861</td>\n",
       "    </tr>\n",
       "    <tr>\n",
       "      <th>2</th>\n",
       "      <td>rotation</td>\n",
       "      <td>all</td>\n",
       "      <td>20</td>\n",
       "      <td>2.506179</td>\n",
       "      <td>0.247396</td>\n",
       "    </tr>\n",
       "    <tr>\n",
       "      <th>3</th>\n",
       "      <td>rotation</td>\n",
       "      <td>all</td>\n",
       "      <td>30</td>\n",
       "      <td>2.666072</td>\n",
       "      <td>0.238882</td>\n",
       "    </tr>\n",
       "    <tr>\n",
       "      <th>4</th>\n",
       "      <td>rotation</td>\n",
       "      <td>all</td>\n",
       "      <td>40</td>\n",
       "      <td>2.885173</td>\n",
       "      <td>0.216747</td>\n",
       "    </tr>\n",
       "    <tr>\n",
       "      <th>...</th>\n",
       "      <td>...</td>\n",
       "      <td>...</td>\n",
       "      <td>...</td>\n",
       "      <td>...</td>\n",
       "      <td>...</td>\n",
       "    </tr>\n",
       "    <tr>\n",
       "      <th>105</th>\n",
       "      <td>rotation</td>\n",
       "      <td>truck</td>\n",
       "      <td>50</td>\n",
       "      <td>4.293787</td>\n",
       "      <td>0.041667</td>\n",
       "    </tr>\n",
       "    <tr>\n",
       "      <th>106</th>\n",
       "      <td>rotation</td>\n",
       "      <td>truck</td>\n",
       "      <td>60</td>\n",
       "      <td>4.837502</td>\n",
       "      <td>0.037500</td>\n",
       "    </tr>\n",
       "    <tr>\n",
       "      <th>107</th>\n",
       "      <td>rotation</td>\n",
       "      <td>truck</td>\n",
       "      <td>70</td>\n",
       "      <td>4.823904</td>\n",
       "      <td>0.062500</td>\n",
       "    </tr>\n",
       "    <tr>\n",
       "      <th>108</th>\n",
       "      <td>rotation</td>\n",
       "      <td>truck</td>\n",
       "      <td>80</td>\n",
       "      <td>4.755916</td>\n",
       "      <td>0.034375</td>\n",
       "    </tr>\n",
       "    <tr>\n",
       "      <th>109</th>\n",
       "      <td>rotation</td>\n",
       "      <td>truck</td>\n",
       "      <td>90</td>\n",
       "      <td>4.596685</td>\n",
       "      <td>0.042708</td>\n",
       "    </tr>\n",
       "  </tbody>\n",
       "</table>\n",
       "<p>110 rows × 5 columns</p>\n",
       "</div>"
      ],
      "text/plain": [
       "      augment  class angle      loss     score\n",
       "0    rotation    all     0  1.426026  0.528245\n",
       "1    rotation    all    10  2.018540  0.350861\n",
       "2    rotation    all    20  2.506179  0.247396\n",
       "3    rotation    all    30  2.666072  0.238882\n",
       "4    rotation    all    40  2.885173  0.216747\n",
       "..        ...    ...   ...       ...       ...\n",
       "105  rotation  truck    50  4.293787  0.041667\n",
       "106  rotation  truck    60  4.837502  0.037500\n",
       "107  rotation  truck    70  4.823904  0.062500\n",
       "108  rotation  truck    80  4.755916  0.034375\n",
       "109  rotation  truck    90  4.596685  0.042708\n",
       "\n",
       "[110 rows x 5 columns]"
      ]
     },
     "execution_count": 39,
     "metadata": {},
     "output_type": "execute_result"
    }
   ],
   "source": [
    "df"
   ]
  },
  {
   "cell_type": "code",
   "execution_count": 40,
   "id": "645868c7-b6c0-486d-8265-1b1fb68b8c75",
   "metadata": {},
   "outputs": [],
   "source": [
    "df.to_csv('log.csv', index=False)"
   ]
  },
  {
   "cell_type": "code",
   "execution_count": 69,
   "id": "f904425c-f53b-40d0-8a76-834b34aeb55d",
   "metadata": {},
   "outputs": [
    {
     "data": {
      "text/plain": [
       "['all',\n",
       " 'plane',\n",
       " 'car',\n",
       " 'bird',\n",
       " 'cat',\n",
       " 'deer',\n",
       " 'dog',\n",
       " 'frog',\n",
       " 'horse',\n",
       " 'ship',\n",
       " 'truck']"
      ]
     },
     "execution_count": 69,
     "metadata": {},
     "output_type": "execute_result"
    }
   ],
   "source": [
    "['all'] + list(utils.classDict.keys())"
   ]
  },
  {
   "cell_type": "code",
   "execution_count": 76,
   "id": "5a5215cc-3123-4ae7-9f07-d680e908fb0a",
   "metadata": {},
   "outputs": [
    {
     "data": {
      "text/plain": [
       "class\n",
       "all      [AxesSubplot(0.125,0.125;0.775x0.755)]\n",
       "bird     [AxesSubplot(0.125,0.125;0.775x0.755)]\n",
       "car      [AxesSubplot(0.125,0.125;0.775x0.755)]\n",
       "cat      [AxesSubplot(0.125,0.125;0.775x0.755)]\n",
       "deer     [AxesSubplot(0.125,0.125;0.775x0.755)]\n",
       "dog      [AxesSubplot(0.125,0.125;0.775x0.755)]\n",
       "frog     [AxesSubplot(0.125,0.125;0.775x0.755)]\n",
       "horse    [AxesSubplot(0.125,0.125;0.775x0.755)]\n",
       "plane    [AxesSubplot(0.125,0.125;0.775x0.755)]\n",
       "ship     [AxesSubplot(0.125,0.125;0.775x0.755)]\n",
       "truck    [AxesSubplot(0.125,0.125;0.775x0.755)]\n",
       "dtype: object"
      ]
     },
     "execution_count": 76,
     "metadata": {},
     "output_type": "execute_result"
    },
    {
     "data": {
      "image/png": "[encoded data removed]",
      "text/plain": [
       "<Figure size 432x288 with 1 Axes>"
      ]
     },
     "metadata": {
      "needs_background": "light"
     },
     "output_type": "display_data"
    },
    {
     "data": {
      "image/png": "[encoded data removed]",
      "text/plain": [
       "<Figure size 432x288 with 1 Axes>"
      ]
     },
     "metadata": {
      "needs_background": "light"
     },
     "output_type": "display_data"
    },
    {
     "data": {
      "image/png": "[encoded data removed]",
      "text/plain": [
       "<Figure size 432x288 with 1 Axes>"
      ]
     },
     "metadata": {
      "needs_background": "light"
     },
     "output_type": "display_data"
    },
    {
     "data": {
      "image/png": "[encoded data removed]",
      "text/plain": [
       "<Figure size 432x288 with 1 Axes>"
      ]
     },
     "metadata": {
      "needs_background": "light"
     },
     "output_type": "display_data"
    },
    {
     "data": {
      "image/png": "[encoded data removed]",
      "text/plain": [
       "<Figure size 432x288 with 1 Axes>"
      ]
     },
     "metadata": {
      "needs_background": "light"
     },
     "output_type": "display_data"
    },
    {
     "data": {
      "image/png": "[encoded data removed]",
      "text/plain": [
       "<Figure size 432x288 with 1 Axes>"
      ]
     },
     "metadata": {
      "needs_background": "light"
     },
     "output_type": "display_data"
    },
    {
     "data": {
      "image/png": "[encoded data removed]",
      "text/plain": [
       "<Figure size 432x288 with 1 Axes>"
      ]
     },
     "metadata": {
      "needs_background": "light"
     },
     "output_type": "display_data"
    },
    {
     "data": {
      "image/png": "[encoded data removed]",
      "text/plain": [
       "<Figure size 432x288 with 1 Axes>"
      ]
     },
     "metadata": {
      "needs_background": "light"
     },
     "output_type": "display_data"
    },
    {
     "data": {
      "image/png": "[encoded data removed]",
      "text/plain": [
       "<Figure size 432x288 with 1 Axes>"
      ]
     },
     "metadata": {
      "needs_background": "light"
     },
     "output_type": "display_data"
    },
    {
     "data": {
      "image/png": "[encoded data removed]",
      "text/plain": [
       "<Figure size 432x288 with 1 Axes>"
      ]
     },
     "metadata": {
      "needs_background": "light"
     },
     "output_type": "display_data"
    },
    {
     "data": {
      "image/png": "[encoded data removed]",
      "text/plain": [
       "<Figure size 432x288 with 1 Axes>"
      ]
     },
     "metadata": {
      "needs_background": "light"
     },
     "output_type": "display_data"
    }
   ],
   "source": [
    "# df.groupby('class').plot.bar(x='angle', y='loss', ylim=(0, 7), subplots=True, title=['all'] + list(utils.classDict.keys()))\n",
    "df.groupby('class').plot.bar(x='angle', y='loss', ylim=(0, 7), subplots=True)"
   ]
  },
  {
   "cell_type": "code",
   "execution_count": 78,
   "id": "b0f43ccb-6b92-4d75-9b82-2ba39dc766f1",
   "metadata": {},
   "outputs": [
    {
     "data": {
      "text/plain": [
       "class\n",
       "all      [AxesSubplot(0.125,0.125;0.775x0.755)]\n",
       "bird     [AxesSubplot(0.125,0.125;0.775x0.755)]\n",
       "car      [AxesSubplot(0.125,0.125;0.775x0.755)]\n",
       "cat      [AxesSubplot(0.125,0.125;0.775x0.755)]\n",
       "deer     [AxesSubplot(0.125,0.125;0.775x0.755)]\n",
       "dog      [AxesSubplot(0.125,0.125;0.775x0.755)]\n",
       "frog     [AxesSubplot(0.125,0.125;0.775x0.755)]\n",
       "horse    [AxesSubplot(0.125,0.125;0.775x0.755)]\n",
       "plane    [AxesSubplot(0.125,0.125;0.775x0.755)]\n",
       "ship     [AxesSubplot(0.125,0.125;0.775x0.755)]\n",
       "truck    [AxesSubplot(0.125,0.125;0.775x0.755)]\n",
       "dtype: object"
      ]
     },
     "execution_count": 78,
     "metadata": {},
     "output_type": "execute_result"
    },
    {
     "data": {
      "image/png": "[encoded data removed]",
      "text/plain": [
       "<Figure size 432x288 with 1 Axes>"
      ]
     },
     "metadata": {
      "needs_background": "light"
     },
     "output_type": "display_data"
    },
    {
     "data": {
      "image/png": "[encoded data removed]",
      "text/plain": [
       "<Figure size 432x288 with 1 Axes>"
      ]
     },
     "metadata": {
      "needs_background": "light"
     },
     "output_type": "display_data"
    },
    {
     "data": {
      "image/png": "[encoded data removed]",
      "text/plain": [
       "<Figure size 432x288 with 1 Axes>"
      ]
     },
     "metadata": {
      "needs_background": "light"
     },
     "output_type": "display_data"
    },
    {
     "data": {
      "image/png": "[encoded data removed]",
      "text/plain": [
       "<Figure size 432x288 with 1 Axes>"
      ]
     },
     "metadata": {
      "needs_background": "light"
     },
     "output_type": "display_data"
    },
    {
     "data": {
      "image/png": "[encoded data removed]",
      "text/plain": [
       "<Figure size 432x288 with 1 Axes>"
      ]
     },
     "metadata": {
      "needs_background": "light"
     },
     "output_type": "display_data"
    },
    {
     "data": {
      "image/png": "[encoded data removed]",
      "text/plain": [
       "<Figure size 432x288 with 1 Axes>"
      ]
     },
     "metadata": {
      "needs_background": "light"
     },
     "output_type": "display_data"
    },
    {
     "data": {
      "image/png": "[encoded data removed]",
      "text/plain": [
       "<Figure size 432x288 with 1 Axes>"
      ]
     },
     "metadata": {
      "needs_background": "light"
     },
     "output_type": "display_data"
    },
    {
     "data": {
      "image/png": "[encoded data removed]",
      "text/plain": [
       "<Figure size 432x288 with 1 Axes>"
      ]
     },
     "metadata": {
      "needs_background": "light"
     },
     "output_type": "display_data"
    },
    {
     "data": {
      "image/png": "[encoded data removed]",
      "text/plain": [
       "<Figure size 432x288 with 1 Axes>"
      ]
     },
     "metadata": {
      "needs_background": "light"
     },
     "output_type": "display_data"
    },
    {
     "data": {
      "image/png": "[encoded data removed]",
      "text/plain": [
       "<Figure size 432x288 with 1 Axes>"
      ]
     },
     "metadata": {
      "needs_background": "light"
     },
     "output_type": "display_data"
    },
    {
     "data": {
      "image/png": "[encoded data removed]",
      "text/plain": [
       "<Figure size 432x288 with 1 Axes>"
      ]
     },
     "metadata": {
      "needs_background": "light"
     },
     "output_type": "display_data"
    }
   ],
   "source": [
    "df.groupby('class').plot.bar(x='angle', y='score', ylim=(0, 1), subplots=True)"
   ]
  }
 ],
 "metadata": {
  "kernelspec": {
   "display_name": "cs236781-hw",
   "language": "python",
   "name": "cs236781-hw"
  },
  "language_info": {
   "codemirror_mode": {
    "name": "ipython",
    "version": 3
   },
   "file_extension": ".py",
   "mimetype": "text/x-python",
   "name": "python",
   "nbconvert_exporter": "python",
   "pygments_lexer": "ipython3",
   "version": "3.8.6"
  }
 },
 "nbformat": 4,
 "nbformat_minor": 5
}
