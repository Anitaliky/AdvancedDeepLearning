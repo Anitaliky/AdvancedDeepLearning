{
 "cells": [
  {
   "cell_type": "code",
   "execution_count": 1,
   "id": "199a80ae-77cd-4a80-8752-e098a8b6926a",
   "metadata": {},
   "outputs": [],
   "source": [
    "import os\n",
    "import random\n",
    "from tqdm import tqdm\n",
    "\n",
    "import numpy as np\n",
    "import pandas as pd\n",
    "\n",
    "import matplotlib.pyplot as plt\n",
    "\n",
    "import torch\n",
    "import torch.nn as nn\n",
    "import torchvision\n",
    "import torchvision.transforms as transforms\n",
    "\n",
    "from src.model import Model\n",
    "from src import utils\n",
    "from src.pytorch_utils import utils as ptu\n",
    "from config import cfg\n",
    "import src.data_loader as dl\n",
    "\n",
    "%load_ext autoreload\n",
    "%autoreload 2"
   ]
  },
  {
   "cell_type": "code",
   "execution_count": 2,
   "id": "7731fc8b-da87-4d31-a51f-ab7fcfc45c4b",
   "metadata": {},
   "outputs": [
    {
     "name": "stdout",
     "output_type": "stream",
     "text": [
      "cuda\n"
     ]
    }
   ],
   "source": [
    "device = torch.device(\"cuda\" if torch.cuda.is_available() else \"cpu\")\n",
    "print(device)"
   ]
  },
  {
   "cell_type": "code",
   "execution_count": 3,
   "id": "a9b9f5f5-64ce-493a-a91d-2f870779a403",
   "metadata": {
    "tags": []
   },
   "outputs": [
    {
     "name": "stdout",
     "output_type": "stream",
     "text": [
      "feature_extraction_process\n"
     ]
    }
   ],
   "source": [
    "cfg.model_type = 'base' #write it in config file\n",
    "model_epoch = 'best'\n",
    "if cfg.load is not None and os.path.exists(os.path.join(cfg.models_dir, cfg.version, ptu.naming_scheme(cfg.version, epoch=model_epoch)) + '.pth'):\n",
    "    print(f'Loads {cfg.version}')\n",
    "    checkpoint = ptu.load_model(device, version=cfg.version, models_dir=cfg.models_dir, epoch=model_epoch)\n",
    "    if cfg.prints == 'display':\n",
    "        display(checkpoint.log.sort_index(ascending=False).head(20))\n",
    "    elif cfg.prints == 'print':\n",
    "        print(checkpoint.log.sort_index(ascending=False).head(20))\n",
    "else:\n",
    "    model = Model(backbone=cfg.backbone, num_classes=cfg.num_classes,\n",
    "                  feature_extraction_dataset=cfg.feature_extraction_dataset)\n",
    "    model.to(device)\n",
    "    \n",
    "    if cfg.optimizer == 'sgd':\n",
    "        optimizer = torch.optim.SGD(model.model.fc.parameters(),\n",
    "                                    lr=cfg.lr,\n",
    "                                    momentum=cfg.optimizer_momentum,\n",
    "                                    weight_decay=cfg.wd)\n",
    "    else:\n",
    "        optimizer = torch.optim.Adam(model.model.fc.parameters(),\n",
    "                                    lr=cfg.lr,\n",
    "                                    weight_decay=cfg.wd)\n",
    "    \n",
    "    criterion = nn.CrossEntropyLoss().to(device)\n",
    "    \n",
    "    lr_scheduler = torch.optim.lr_scheduler.CosineAnnealingLR(optimizer,\n",
    "                                                              T_max=cfg.epochs,\n",
    "                                                              eta_min=cfg.min_lr)\n",
    "    \n",
    "    checkpoint = utils.Checkpoint(version=cfg.version,\n",
    "                                  model=model,\n",
    "                                  optimizer=optimizer,\n",
    "                                  lr_scheduler=lr_scheduler,\n",
    "                                  criterion=criterion,\n",
    "                                  score=utils.accuracy_score,\n",
    "                                  models_dir=cfg.models_dir,\n",
    "                                  best_policy=cfg.best_policy,\n",
    "                                  save=cfg.save,\n",
    "                                 )"
   ]
  },
  {
   "cell_type": "code",
   "execution_count": 4,
   "id": "edee0a6b-3acf-40b9-805b-66fa340f5659",
   "metadata": {},
   "outputs": [],
   "source": [
    "train_loader, train_eval_loader = dl.train_eval_loaders_cifar10(data_dir=cfg.data_dir, batch_size=cfg.bs,\n",
    "                                                                feature_extraction=cfg.feature_extraction_dataset)\n",
    "test_loader = dl.test_loader(data_dir=cfg.data_dir, batch_size=cfg.bs,\n",
    "                             feature_extraction=cfg.feature_extraction_dataset)"
   ]
  },
  {
   "cell_type": "code",
   "execution_count": 5,
   "id": "954ec86d-477a-4597-9310-d2cbfc8bbb7d",
   "metadata": {
    "tags": []
   },
   "outputs": [
    {
     "name": "stderr",
     "output_type": "stream",
     "text": [
      "epoch=1: 100%|██████████| 51/51 [00:01<00:00, 46.47it/s, loss=2.56, avg_loss=2.47, score=0.344]\n",
      "epoch=1: 100%|██████████| 12/12 [00:00<00:00, 33.47it/s, loss=2.61, avg_loss=2.51, score=0.281]\n",
      "epoch=1: 100%|██████████| 64/64 [00:00<00:00, 100.12it/s, loss=3.38, avg_loss=2.61, score=0.219]\n"
     ]
    },
    {
     "ename": "KeyboardInterrupt",
     "evalue": "",
     "output_type": "error",
     "traceback": [
      "\u001b[0;31m---------------------------------------------------------------------------\u001b[0m",
      "\u001b[0;31mKeyboardInterrupt\u001b[0m                         Traceback (most recent call last)",
      "\u001b[0;32m<ipython-input-5-db1ced170ba9>\u001b[0m in \u001b[0;36m<module>\u001b[0;34m\u001b[0m\n\u001b[0;32m----> 1\u001b[0;31m checkpoint.train(train_loader=train_loader,\n\u001b[0m\u001b[1;32m      2\u001b[0m                  \u001b[0mtrain_eval_loader\u001b[0m\u001b[0;34m=\u001b[0m\u001b[0mtrain_eval_loader\u001b[0m\u001b[0;34m,\u001b[0m\u001b[0;34m\u001b[0m\u001b[0;34m\u001b[0m\u001b[0m\n\u001b[1;32m      3\u001b[0m                  \u001b[0mval_loader\u001b[0m\u001b[0;34m=\u001b[0m\u001b[0mtest_loader\u001b[0m\u001b[0;34m,\u001b[0m\u001b[0;34m\u001b[0m\u001b[0;34m\u001b[0m\u001b[0m\n\u001b[1;32m      4\u001b[0m                  \u001b[0mtrain_epochs\u001b[0m\u001b[0;34m=\u001b[0m\u001b[0mint\u001b[0m\u001b[0;34m(\u001b[0m\u001b[0mmax\u001b[0m\u001b[0;34m(\u001b[0m\u001b[0;36m0\u001b[0m\u001b[0;34m,\u001b[0m \u001b[0mcfg\u001b[0m\u001b[0;34m.\u001b[0m\u001b[0mepochs\u001b[0m \u001b[0;34m-\u001b[0m \u001b[0mcheckpoint\u001b[0m\u001b[0;34m.\u001b[0m\u001b[0mget_log\u001b[0m\u001b[0;34m(\u001b[0m\u001b[0;34m)\u001b[0m\u001b[0;34m)\u001b[0m\u001b[0;34m)\u001b[0m\u001b[0;34m,\u001b[0m\u001b[0;34m\u001b[0m\u001b[0;34m\u001b[0m\u001b[0m\n\u001b[1;32m      5\u001b[0m                  \u001b[0moptimizer_params\u001b[0m\u001b[0;34m=\u001b[0m\u001b[0mcfg\u001b[0m\u001b[0;34m.\u001b[0m\u001b[0moptimizer_params\u001b[0m\u001b[0;34m,\u001b[0m\u001b[0;34m\u001b[0m\u001b[0;34m\u001b[0m\u001b[0m\n",
      "\u001b[0;32m~/236605/src/pytorch_utils/checkpoint.py\u001b[0m in \u001b[0;36mtrain\u001b[0;34m(self, train_loader, train_eval_loader, val_loader, train_epochs, optimizer_params, prints, callback_kwargs, device, save, epochs_save, epochs_evaluate_train, epochs_evaluate_validation, tqdm_bar, max_iterations_train, max_iterations_val, save_log, *args, **kwargs)\u001b[0m\n\u001b[1;32m    591\u001b[0m             \u001b[0;31m# save checkpoint\u001b[0m\u001b[0;34m\u001b[0m\u001b[0;34m\u001b[0m\u001b[0;34m\u001b[0m\u001b[0m\n\u001b[1;32m    592\u001b[0m             \u001b[0;32mif\u001b[0m \u001b[0msave\u001b[0m\u001b[0;34m:\u001b[0m\u001b[0;34m\u001b[0m\u001b[0;34m\u001b[0m\u001b[0m\n\u001b[0;32m--> 593\u001b[0;31m                 \u001b[0mself\u001b[0m\u001b[0;34m.\u001b[0m\u001b[0msave\u001b[0m\u001b[0;34m(\u001b[0m\u001b[0mlog\u001b[0m\u001b[0;34m=\u001b[0m\u001b[0msave_log\u001b[0m\u001b[0;34m)\u001b[0m\u001b[0;34m\u001b[0m\u001b[0;34m\u001b[0m\u001b[0m\n\u001b[0m\u001b[1;32m    594\u001b[0m                 \u001b[0;32mif\u001b[0m \u001b[0mepochs_save\u001b[0m \u001b[0;32mis\u001b[0m \u001b[0;32mnot\u001b[0m \u001b[0;32mNone\u001b[0m \u001b[0;32mand\u001b[0m \u001b[0mepochs_save\u001b[0m \u001b[0;34m>\u001b[0m \u001b[0;36m0\u001b[0m \u001b[0;32mand\u001b[0m \u001b[0mself\u001b[0m\u001b[0;34m.\u001b[0m\u001b[0mepoch\u001b[0m \u001b[0;34m%\u001b[0m \u001b[0mepochs_save\u001b[0m \u001b[0;34m==\u001b[0m \u001b[0;36m0\u001b[0m\u001b[0;34m:\u001b[0m\u001b[0;34m\u001b[0m\u001b[0;34m\u001b[0m\u001b[0m\n\u001b[1;32m    595\u001b[0m                     \u001b[0mself\u001b[0m\u001b[0;34m.\u001b[0m\u001b[0msave\u001b[0m\u001b[0;34m(\u001b[0m\u001b[0mepoch\u001b[0m\u001b[0;34m=\u001b[0m\u001b[0;32mTrue\u001b[0m\u001b[0;34m)\u001b[0m\u001b[0;34m\u001b[0m\u001b[0;34m\u001b[0m\u001b[0m\n",
      "\u001b[0;32m~/236605/src/pytorch_utils/checkpoint.py\u001b[0m in \u001b[0;36msave\u001b[0;34m(self, best, epoch, log, explicit_file)\u001b[0m\n\u001b[1;32m    255\u001b[0m             \u001b[0mos\u001b[0m\u001b[0;34m.\u001b[0m\u001b[0mmkdir\u001b[0m\u001b[0;34m(\u001b[0m\u001b[0mself\u001b[0m\u001b[0;34m.\u001b[0m\u001b[0mversion_dir\u001b[0m\u001b[0;34m)\u001b[0m\u001b[0;34m\u001b[0m\u001b[0;34m\u001b[0m\u001b[0m\n\u001b[1;32m    256\u001b[0m \u001b[0;34m\u001b[0m\u001b[0m\n\u001b[0;32m--> 257\u001b[0;31m         \u001b[0mtorch\u001b[0m\u001b[0;34m.\u001b[0m\u001b[0msave\u001b[0m\u001b[0;34m(\u001b[0m\u001b[0mself\u001b[0m\u001b[0;34m,\u001b[0m \u001b[0mos\u001b[0m\u001b[0;34m.\u001b[0m\u001b[0mpath\u001b[0m\u001b[0;34m.\u001b[0m\u001b[0mjoin\u001b[0m\u001b[0;34m(\u001b[0m\u001b[0mself\u001b[0m\u001b[0;34m.\u001b[0m\u001b[0mversion_dir\u001b[0m\u001b[0;34m,\u001b[0m \u001b[0mself\u001b[0m\u001b[0;34m.\u001b[0m\u001b[0mnaming_scheme\u001b[0m\u001b[0;34m(\u001b[0m\u001b[0mself\u001b[0m\u001b[0;34m.\u001b[0m\u001b[0mversion\u001b[0m\u001b[0;34m,\u001b[0m \u001b[0;34m-\u001b[0m\u001b[0;36m1\u001b[0m\u001b[0;34m)\u001b[0m\u001b[0;34m)\u001b[0m \u001b[0;34m+\u001b[0m \u001b[0;34m'.pth'\u001b[0m\u001b[0;34m,\u001b[0m \u001b[0mpickle_module\u001b[0m\u001b[0;34m=\u001b[0m\u001b[0mdill\u001b[0m\u001b[0;34m)\u001b[0m\u001b[0;34m\u001b[0m\u001b[0;34m\u001b[0m\u001b[0m\n\u001b[0m\u001b[1;32m    258\u001b[0m         \u001b[0;32mif\u001b[0m \u001b[0mbest\u001b[0m\u001b[0;34m:\u001b[0m\u001b[0;34m\u001b[0m\u001b[0;34m\u001b[0m\u001b[0m\n\u001b[1;32m    259\u001b[0m             \u001b[0mtorch\u001b[0m\u001b[0;34m.\u001b[0m\u001b[0msave\u001b[0m\u001b[0;34m(\u001b[0m\u001b[0mself\u001b[0m\u001b[0;34m,\u001b[0m \u001b[0mos\u001b[0m\u001b[0;34m.\u001b[0m\u001b[0mpath\u001b[0m\u001b[0;34m.\u001b[0m\u001b[0mjoin\u001b[0m\u001b[0;34m(\u001b[0m\u001b[0mself\u001b[0m\u001b[0;34m.\u001b[0m\u001b[0mversion_dir\u001b[0m\u001b[0;34m,\u001b[0m \u001b[0mself\u001b[0m\u001b[0;34m.\u001b[0m\u001b[0mnaming_scheme\u001b[0m\u001b[0;34m(\u001b[0m\u001b[0mself\u001b[0m\u001b[0;34m.\u001b[0m\u001b[0mversion\u001b[0m\u001b[0;34m,\u001b[0m \u001b[0;34m'best'\u001b[0m\u001b[0;34m)\u001b[0m\u001b[0;34m)\u001b[0m \u001b[0;34m+\u001b[0m \u001b[0;34m'.pth'\u001b[0m\u001b[0;34m,\u001b[0m \u001b[0mpickle_module\u001b[0m\u001b[0;34m=\u001b[0m\u001b[0mdill\u001b[0m\u001b[0;34m)\u001b[0m\u001b[0;34m\u001b[0m\u001b[0;34m\u001b[0m\u001b[0m\n",
      "\u001b[0;32m~/miniconda3/envs/cs236781-hw/lib/python3.8/site-packages/torch/serialization.py\u001b[0m in \u001b[0;36msave\u001b[0;34m(obj, f, pickle_module, pickle_protocol, _use_new_zipfile_serialization)\u001b[0m\n\u001b[1;32m    363\u001b[0m             \u001b[0;32mwith\u001b[0m \u001b[0m_open_zipfile_writer\u001b[0m\u001b[0;34m(\u001b[0m\u001b[0mopened_file\u001b[0m\u001b[0;34m)\u001b[0m \u001b[0;32mas\u001b[0m \u001b[0mopened_zipfile\u001b[0m\u001b[0;34m:\u001b[0m\u001b[0;34m\u001b[0m\u001b[0;34m\u001b[0m\u001b[0m\n\u001b[1;32m    364\u001b[0m                 \u001b[0m_save\u001b[0m\u001b[0;34m(\u001b[0m\u001b[0mobj\u001b[0m\u001b[0;34m,\u001b[0m \u001b[0mopened_zipfile\u001b[0m\u001b[0;34m,\u001b[0m \u001b[0mpickle_module\u001b[0m\u001b[0;34m,\u001b[0m \u001b[0mpickle_protocol\u001b[0m\u001b[0;34m)\u001b[0m\u001b[0;34m\u001b[0m\u001b[0;34m\u001b[0m\u001b[0m\n\u001b[0;32m--> 365\u001b[0;31m                 \u001b[0;32mreturn\u001b[0m\u001b[0;34m\u001b[0m\u001b[0;34m\u001b[0m\u001b[0m\n\u001b[0m\u001b[1;32m    366\u001b[0m         \u001b[0m_legacy_save\u001b[0m\u001b[0;34m(\u001b[0m\u001b[0mobj\u001b[0m\u001b[0;34m,\u001b[0m \u001b[0mopened_file\u001b[0m\u001b[0;34m,\u001b[0m \u001b[0mpickle_module\u001b[0m\u001b[0;34m,\u001b[0m \u001b[0mpickle_protocol\u001b[0m\u001b[0;34m)\u001b[0m\u001b[0;34m\u001b[0m\u001b[0;34m\u001b[0m\u001b[0m\n\u001b[1;32m    367\u001b[0m \u001b[0;34m\u001b[0m\u001b[0m\n",
      "\u001b[0;32m~/miniconda3/envs/cs236781-hw/lib/python3.8/site-packages/torch/serialization.py\u001b[0m in \u001b[0;36m__exit__\u001b[0;34m(self, *args)\u001b[0m\n\u001b[1;32m    211\u001b[0m \u001b[0;34m\u001b[0m\u001b[0m\n\u001b[1;32m    212\u001b[0m     \u001b[0;32mdef\u001b[0m \u001b[0m__exit__\u001b[0m\u001b[0;34m(\u001b[0m\u001b[0mself\u001b[0m\u001b[0;34m,\u001b[0m \u001b[0;34m*\u001b[0m\u001b[0margs\u001b[0m\u001b[0;34m)\u001b[0m\u001b[0;34m:\u001b[0m\u001b[0;34m\u001b[0m\u001b[0;34m\u001b[0m\u001b[0m\n\u001b[0;32m--> 213\u001b[0;31m         \u001b[0mself\u001b[0m\u001b[0;34m.\u001b[0m\u001b[0mfile_like\u001b[0m\u001b[0;34m.\u001b[0m\u001b[0mclose\u001b[0m\u001b[0;34m(\u001b[0m\u001b[0;34m)\u001b[0m\u001b[0;34m\u001b[0m\u001b[0;34m\u001b[0m\u001b[0m\n\u001b[0m\u001b[1;32m    214\u001b[0m \u001b[0;34m\u001b[0m\u001b[0m\n\u001b[1;32m    215\u001b[0m \u001b[0;34m\u001b[0m\u001b[0m\n",
      "\u001b[0;31mKeyboardInterrupt\u001b[0m: "
     ]
    }
   ],
   "source": [
    "checkpoint.train(train_loader=train_loader,\n",
    "                 train_eval_loader=train_eval_loader,\n",
    "                 val_loader=test_loader,\n",
    "                 train_epochs=int(max(0, cfg.epochs - checkpoint.get_log())),\n",
    "                 optimizer_params=cfg.optimizer_params,\n",
    "                 prints=cfg.prints,\n",
    "                 epochs_save=cfg.epochs_save,\n",
    "                 epochs_evaluate_train=cfg.epochs_evaluate_train,\n",
    "                 epochs_evaluate_validation=cfg.epochs_evaluate_validation,\n",
    "                 max_iterations_train=cfg.max_iterations,\n",
    "                 max_iterations_val=cfg.max_iterations,\n",
    "                 device=device,\n",
    "                 tqdm_bar=cfg.tqdm_bar,\n",
    "                 save=cfg.save,\n",
    "                 save_log=cfg.save_log,\n",
    "                )"
   ]
  },
  {
   "cell_type": "code",
   "execution_count": 6,
   "id": "6653476c-084a-42d5-ab91-40e54f1f211c",
   "metadata": {},
   "outputs": [
    {
     "name": "stderr",
     "output_type": "stream",
     "text": [
      "/home/na.tali/236605/src/pytorch_utils/checkpoint.py:308: UserWarning: Attempting to set identical left == right == 1.0 results in singular transformations; automatically expanding.\n",
      "  plt.xlim(min_e - (max_e - min_e)*0.02, max_e + (max_e - min_e)*0.02)\n"
     ]
    },
    {
     "data": {
      "image/png": "[encoded data removed]",
      "text/plain": [
       "<Figure size 432x288 with 1 Axes>"
      ]
     },
     "metadata": {
      "needs_background": "light"
     },
     "output_type": "display_data"
    },
    {
     "name": "stderr",
     "output_type": "stream",
     "text": [
      "/home/na.tali/236605/src/pytorch_utils/checkpoint.py:308: UserWarning: Attempting to set identical left == right == 1.0 results in singular transformations; automatically expanding.\n",
      "  plt.xlim(min_e - (max_e - min_e)*0.02, max_e + (max_e - min_e)*0.02)\n"
     ]
    },
    {
     "data": {
      "image/png": "[encoded data removed]",
      "text/plain": [
       "<Figure size 432x288 with 1 Axes>"
      ]
     },
     "metadata": {
      "needs_background": "light"
     },
     "output_type": "display_data"
    },
    {
     "name": "stderr",
     "output_type": "stream",
     "text": [
      "/home/na.tali/236605/src/pytorch_utils/checkpoint.py:308: UserWarning: Attempting to set identical left == right == 1.0 results in singular transformations; automatically expanding.\n",
      "  plt.xlim(min_e - (max_e - min_e)*0.02, max_e + (max_e - min_e)*0.02)\n"
     ]
    },
    {
     "data": {
      "image/png": "[encoded data removed]",
      "text/plain": [
       "<Figure size 432x288 with 1 Axes>"
      ]
     },
     "metadata": {
      "needs_background": "light"
     },
     "output_type": "display_data"
    },
    {
     "name": "stderr",
     "output_type": "stream",
     "text": [
      "/home/na.tali/236605/src/pytorch_utils/checkpoint.py:308: UserWarning: Attempting to set identical left == right == 1.0 results in singular transformations; automatically expanding.\n",
      "  plt.xlim(min_e - (max_e - min_e)*0.02, max_e + (max_e - min_e)*0.02)\n"
     ]
    },
    {
     "data": {
      "image/png": "[encoded data removed]",
      "text/plain": [
       "<Figure size 432x288 with 1 Axes>"
      ]
     },
     "metadata": {
      "needs_background": "light"
     },
     "output_type": "display_data"
    },
    {
     "data": {
      "text/html": [
       "<div>\n",
       "<style scoped>\n",
       "    .dataframe tbody tr th:only-of-type {\n",
       "        vertical-align: middle;\n",
       "    }\n",
       "\n",
       "    .dataframe tbody tr th {\n",
       "        vertical-align: top;\n",
       "    }\n",
       "\n",
       "    .dataframe thead th {\n",
       "        text-align: right;\n",
       "    }\n",
       "</style>\n",
       "<table border=\"1\" class=\"dataframe\">\n",
       "  <thead>\n",
       "    <tr style=\"text-align: right;\">\n",
       "      <th></th>\n",
       "      <th>train_time</th>\n",
       "      <th>timestamp</th>\n",
       "      <th>train_loss</th>\n",
       "      <th>val_loss</th>\n",
       "      <th>train_score</th>\n",
       "      <th>val_score</th>\n",
       "      <th>batch_size</th>\n",
       "      <th>best</th>\n",
       "      <th>dampening</th>\n",
       "      <th>initial_lr</th>\n",
       "      <th>lr</th>\n",
       "      <th>momentum</th>\n",
       "      <th>nesterov</th>\n",
       "      <th>weight_decay</th>\n",
       "    </tr>\n",
       "  </thead>\n",
       "  <tbody>\n",
       "    <tr>\n",
       "      <th>1</th>\n",
       "      <td>0.035129</td>\n",
       "      <td>20:55:57 28-08-2021</td>\n",
       "      <td>2.506368</td>\n",
       "      <td>2.608638</td>\n",
       "      <td>0.330729</td>\n",
       "      <td>0.32373</td>\n",
       "      <td>32</td>\n",
       "      <td>True</td>\n",
       "      <td>0.0</td>\n",
       "      <td>0.01</td>\n",
       "      <td>0.01</td>\n",
       "      <td>0.9</td>\n",
       "      <td>0.0</td>\n",
       "      <td>0.0</td>\n",
       "    </tr>\n",
       "  </tbody>\n",
       "</table>\n",
       "</div>"
      ],
      "text/plain": [
       "   train_time            timestamp  train_loss  val_loss  train_score  \\\n",
       "1    0.035129  20:55:57 28-08-2021    2.506368  2.608638     0.330729   \n",
       "\n",
       "   val_score  batch_size  best  dampening  initial_lr    lr  momentum  \\\n",
       "1    0.32373          32  True        0.0        0.01  0.01       0.9   \n",
       "\n",
       "   nesterov  weight_decay  \n",
       "1       0.0           0.0  "
      ]
     },
     "metadata": {},
     "output_type": "display_data"
    }
   ],
   "source": [
    "checkpoint.summarize()"
   ]
  },
  {
   "cell_type": "code",
   "execution_count": null,
   "id": "be91e107-f3a0-4b17-a840-343839878e4b",
   "metadata": {},
   "outputs": [],
   "source": [
    "df = pd.DataFrame(columns=['model', 'augment', 'class', 'angle', 'loss', 'score'])"
   ]
  },
  {
   "cell_type": "code",
   "execution_count": null,
   "id": "51675c58-8294-4119-a083-5575981f2017",
   "metadata": {
    "tags": []
   },
   "outputs": [],
   "source": [
    "# # all classes\n",
    "# for angle in range(0, 91, 10):\n",
    "#     print(f'Angle {angle}')\n",
    "#     test_loader = dl.test_loader(data_dir=cfg.data_dir,\n",
    "#                                  batch_size=cfg.bs,\n",
    "#                                  augment=True,\n",
    "#                                  angles=[angle])\n",
    "#     loss, score, results = checkpoint.evaluate(loader=test_loader,\n",
    "#                                                device=device,\n",
    "#                                                tqdm_bar=True)\n",
    "#     df = df.append({'model': 'base', 'augment': 'rotation', 'class': 'all', 'angle': angle, 'loss': loss, 'score': score},\n",
    "#                    ignore_index=True)"
   ]
  },
  {
   "cell_type": "code",
   "execution_count": null,
   "id": "8f3a0f21-5f7f-40a4-8646-6c38a5ee4549",
   "metadata": {
    "tags": []
   },
   "outputs": [],
   "source": [
    "# df"
   ]
  },
  {
   "cell_type": "code",
   "execution_count": null,
   "id": "8745bb3a-d016-44a4-ac5f-cbb388b1074d",
   "metadata": {
    "tags": []
   },
   "outputs": [],
   "source": [
    "# # by class by angle classes\n",
    "# for class_name in utils.classDict.keys():\n",
    "#     for angle in range(0, 91, 10):\n",
    "#         print(f'Class {class_name}, Angle {angle}')\n",
    "#         test_loader = dl.test_loader(data_dir=cfg.data_dir,\n",
    "#                                      batch_size=cfg.bs,\n",
    "#                                      augment=True,\n",
    "#                                      angles=[angle],\n",
    "#                                      class_name=class_name\n",
    "#                                     )\n",
    "#         loss, score, results = checkpoint.evaluate(loader=test_loader,\n",
    "#                                                    device=device,\n",
    "#                                                    tqdm_bar=True)\n",
    "#         df = df.append({'model': 'base', 'augment': 'rotation', 'class': class_name, 'angle': angle, 'loss': loss, 'score': score},\n",
    "#                        ignore_index=True)"
   ]
  },
  {
   "cell_type": "code",
   "execution_count": null,
   "id": "1a4c91b7-f688-48ae-a9c9-d27ceb3514b2",
   "metadata": {
    "tags": []
   },
   "outputs": [],
   "source": [
    "# df"
   ]
  },
  {
   "cell_type": "code",
   "execution_count": null,
   "id": "645868c7-b6c0-486d-8265-1b1fb68b8c75",
   "metadata": {},
   "outputs": [],
   "source": [
    "# df.to_csv('log.csv', index=False)"
   ]
  },
  {
   "cell_type": "code",
   "execution_count": null,
   "id": "5a5215cc-3123-4ae7-9f07-d680e908fb0a",
   "metadata": {
    "tags": []
   },
   "outputs": [],
   "source": [
    "# fig, axes = plt.subplots(figsize=(20,10),\n",
    "#                          nrows=2, ncols=6)\n",
    "# for (val, group), ax in zip(df.groupby('class'), axes.flatten()):\n",
    "#     group.plot(x='angle', y='loss', kind='bar', ax=ax, title=val, ylim=(0, 7))"
   ]
  },
  {
   "cell_type": "code",
   "execution_count": null,
   "id": "b0f43ccb-6b92-4d75-9b82-2ba39dc766f1",
   "metadata": {
    "tags": []
   },
   "outputs": [],
   "source": [
    "# # df.groupby('class').plot.bar(x='angle', y='score', ylim=(0, 1), subplots=True)\n",
    "# fig, axes = plt.subplots(figsize=(20,10),\n",
    "#                          nrows=2, ncols=6)\n",
    "# for (val, group), ax in zip(df.groupby('class'), axes.flatten()):\n",
    "#     group.plot(x='angle', y='score', kind='bar', ax=ax, title=val, ylim=(0, 1))"
   ]
  },
  {
   "cell_type": "markdown",
   "id": "fe9b1283-69be-4f5c-8458-716d4e2890b8",
   "metadata": {},
   "source": [
    "## RandomRotation Model\n",
    "##### Differ from base model in training with rotations at random angles from list [0, 10, ..., 90]"
   ]
  },
  {
   "cell_type": "code",
   "execution_count": null,
   "id": "affffc51-3dba-41cb-a203-64d69b50ed54",
   "metadata": {},
   "outputs": [],
   "source": [
    "cfg.model_type = 'randomRotation'\n",
    "model_epoch = 'best'\n",
    "if cfg.load is not None and os.path.exists(os.path.join(cfg.models_dir, cfg.version, ptu.naming_scheme(cfg.version, epoch=model_epoch)) + '.pth'):\n",
    "    print(f'Loads {cfg.version}')\n",
    "    checkpoint = ptu.load_model(device, version=cfg.version, models_dir=cfg.models_dir, epoch=model_epoch)\n",
    "    if cfg.prints == 'display':\n",
    "        display(checkpoint.log.sort_index(ascending=False).head(20))\n",
    "    elif cfg.prints == 'print':\n",
    "        print(checkpoint.log.sort_index(ascending=False).head(20))\n",
    "else:\n",
    "    model = Model(backbone=cfg.backbone, num_classes=cfg.num_classes)\n",
    "    model.to(device)\n",
    "    \n",
    "    if cfg.optimizer == 'sgd':\n",
    "        optimizer = torch.optim.SGD(model.model.fc.parameters(),\n",
    "                                    lr=cfg.lr,\n",
    "                                    momentum=cfg.optimizer_momentum,\n",
    "                                    weight_decay=cfg.wd)\n",
    "    else:\n",
    "        optimizer = torch.optim.Adam(model.model.fc.parameters(),\n",
    "                                    lr=cfg.lr,\n",
    "                                    weight_decay=cfg.wd)\n",
    "    \n",
    "    criterion = nn.CrossEntropyLoss().to(device)\n",
    "    \n",
    "    lr_scheduler = torch.optim.lr_scheduler.CosineAnnealingLR(optimizer,\n",
    "                                                              T_max=cfg.epochs,\n",
    "                                                              eta_min=cfg.min_lr)\n",
    "    \n",
    "    checkpoint = utils.Checkpoint(version=cfg.version,\n",
    "                                  model=model,\n",
    "                                  optimizer=optimizer,\n",
    "                                  lr_scheduler=lr_scheduler,\n",
    "                                  criterion=criterion,\n",
    "                                  score=utils.accuracy_score,\n",
    "                                  models_dir=cfg.models_dir,\n",
    "                                  best_policy=cfg.best_policy,\n",
    "                                  save=cfg.save,\n",
    "                                 )"
   ]
  },
  {
   "cell_type": "code",
   "execution_count": null,
   "id": "6eb4c3d7-d9ce-4d43-ae4c-ebdc3c50500d",
   "metadata": {},
   "outputs": [],
   "source": [
    "train_loader, train_eval_loader = dl.train_eval_loaders_cifar10(data_dir=cfg.data_dir, batch_size=cfg.bs,\n",
    "                                                                random_rotation=True, angles=list(range(0, 91, 10)))\n",
    "test_loader = dl.test_loader(data_dir=cfg.data_dir, batch_size=cfg.bs)"
   ]
  },
  {
   "cell_type": "code",
   "execution_count": null,
   "id": "c8779a9c-9f57-4cdb-b2a0-34e1ee978b10",
   "metadata": {},
   "outputs": [],
   "source": [
    "checkpoint.optimizer = torch.optim.SGD(checkpoint.model.model.fc.parameters(),\n",
    "                                       lr=1e-3,  #cfg.lr,\n",
    "                                       momentum=cfg.optimizer_momentum,\n",
    "                                       weight_decay=cfg.wd)\n",
    "checkpoint.lr_scheduler = torch.optim.lr_scheduler.CosineAnnealingLR(checkpoint.optimizer,\n",
    "                                                                     T_max=cfg.epochs,\n",
    "                                                                     eta_min=cfg.min_lr)"
   ]
  },
  {
   "cell_type": "code",
   "execution_count": null,
   "id": "f8cc1eab-5603-46fe-bf2c-dc6010df6ffd",
   "metadata": {
    "tags": []
   },
   "outputs": [],
   "source": [
    "checkpoint.train(train_loader=train_loader,\n",
    "                 train_eval_loader=train_eval_loader,\n",
    "                 val_loader=test_loader,\n",
    "                 train_epochs=int(max(0, cfg.epochs - checkpoint.get_log())),\n",
    "                 optimizer_params=cfg.optimizer_params,\n",
    "                 prints=cfg.prints,\n",
    "                 epochs_save=cfg.epochs_save,\n",
    "                 epochs_evaluate_train=cfg.epochs_evaluate_train,\n",
    "                 epochs_evaluate_validation=cfg.epochs_evaluate_validation,\n",
    "                 max_iterations_train=cfg.max_iterations,\n",
    "                 max_iterations_val=cfg.max_iterations,\n",
    "                 device=device,\n",
    "                 tqdm_bar=cfg.tqdm_bar,\n",
    "                 save=cfg.save,\n",
    "                 save_log=cfg.save_log,\n",
    "                )"
   ]
  },
  {
   "cell_type": "code",
   "execution_count": null,
   "id": "abe28fcb-7951-4b44-93d4-98c2374a6ce5",
   "metadata": {},
   "outputs": [],
   "source": [
    "checkpoint.summarize()"
   ]
  },
  {
   "cell_type": "code",
   "execution_count": null,
   "id": "c2e78cd9-4498-4b3c-9baa-050992a5cfbf",
   "metadata": {
    "tags": []
   },
   "outputs": [],
   "source": [
    "# all classes\n",
    "for angle in range(0, 91, 10):\n",
    "    print(f'Angle {angle}')\n",
    "    test_loader = dl.test_loader(data_dir=cfg.data_dir,\n",
    "                                 batch_size=cfg.bs,\n",
    "                                 augment=True,\n",
    "                                 angles=[angle])\n",
    "    loss, score, results = checkpoint.evaluate(loader=test_loader,\n",
    "                                               device=device,\n",
    "                                               tqdm_bar=True)\n",
    "    df = df.append({'model': 'randomRotation', 'augment': 'rotation', 'class': 'all', 'angle': angle, 'loss': loss, 'score': score},\n",
    "                   ignore_index=True)"
   ]
  },
  {
   "cell_type": "code",
   "execution_count": null,
   "id": "14e653f6-f776-44d2-9106-d0751def62e4",
   "metadata": {
    "tags": []
   },
   "outputs": [],
   "source": [
    "df"
   ]
  },
  {
   "cell_type": "code",
   "execution_count": null,
   "id": "ce1dc5ef-2119-4e50-bc34-ece87e26555c",
   "metadata": {
    "tags": []
   },
   "outputs": [],
   "source": [
    "# by class by angle classes\n",
    "for class_name in utils.classDict.keys():\n",
    "    for angle in range(0, 91, 10):\n",
    "        print(f'Class {class_name}, Angle {angle}')\n",
    "        test_loader = dl.test_loader(data_dir=cfg.data_dir,\n",
    "                                     batch_size=cfg.bs,\n",
    "                                     augment=True,\n",
    "                                     angles=[angle],\n",
    "                                     class_name=class_name\n",
    "                                    )\n",
    "        loss, score, results = checkpoint.evaluate(loader=test_loader,\n",
    "                                                   device=device,\n",
    "                                                   tqdm_bar=True)\n",
    "        df = df.append({'model': 'randomRotation', 'augment': 'rotation', 'class': class_name, 'angle': angle, 'loss': loss, 'score': score},\n",
    "                       ignore_index=True)"
   ]
  },
  {
   "cell_type": "code",
   "execution_count": null,
   "id": "5f80a6d2-cb09-4d3e-9762-71c1eda456bf",
   "metadata": {
    "tags": []
   },
   "outputs": [],
   "source": [
    "df"
   ]
  },
  {
   "cell_type": "code",
   "execution_count": null,
   "id": "d3a143f0-90d3-4866-8a4e-43c21a1b4656",
   "metadata": {},
   "outputs": [],
   "source": [
    "df.to_csv('log.csv', index=False)"
   ]
  },
  {
   "cell_type": "code",
   "execution_count": null,
   "id": "f812984a-70a6-429a-8805-864d810c7f69",
   "metadata": {
    "tags": []
   },
   "outputs": [],
   "source": [
    "fig, axes = plt.subplots(figsize=(20,10),\n",
    "                         nrows=2, ncols=6)\n",
    "for (val, group), ax in zip(df[df['model'] == 'randomRotation'].groupby('class'), axes.flatten()):\n",
    "    group.plot(x='angle', y='loss', kind='bar', ax=ax, title=val, ylim=(0, 7))"
   ]
  },
  {
   "cell_type": "code",
   "execution_count": null,
   "id": "f4857a92-c2d4-4fac-80fb-bd3c17885fc1",
   "metadata": {
    "tags": []
   },
   "outputs": [],
   "source": [
    "# df.groupby('class').plot.bar(x='angle', y='score', ylim=(0, 1), subplots=True)\n",
    "fig, axes = plt.subplots(figsize=(20,10),\n",
    "                         nrows=2, ncols=6)\n",
    "for (val, group), ax in zip(df[df['model'] == 'randomRotation'].groupby('class'), axes.flatten()):\n",
    "    group.plot(x='angle', y='score', kind='bar', ax=ax, title=val, ylim=(0, 1))"
   ]
  },
  {
   "cell_type": "code",
   "execution_count": null,
   "id": "3ebbf512-2c15-4a8d-8f93-d343e9997e5d",
   "metadata": {},
   "outputs": [],
   "source": []
  }
 ],
 "metadata": {
  "kernelspec": {
   "display_name": "cs236781-hw",
   "language": "python",
   "name": "cs236781-hw"
  },
  "language_info": {
   "codemirror_mode": {
    "name": "ipython",
    "version": 3
   },
   "file_extension": ".py",
   "mimetype": "text/x-python",
   "name": "python",
   "nbconvert_exporter": "python",
   "pygments_lexer": "ipython3",
   "version": "3.8.6"
  }
 },
 "nbformat": 4,
 "nbformat_minor": 5
}
