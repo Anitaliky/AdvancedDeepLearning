{
 "cells": [
  {
   "cell_type": "code",
   "execution_count": 1,
   "id": "199a80ae-77cd-4a80-8752-e098a8b6926a",
   "metadata": {},
   "outputs": [],
   "source": [
    "import os\n",
    "import random\n",
    "from tqdm import tqdm\n",
    "\n",
    "import numpy as np\n",
    "import pandas as pd\n",
    "\n",
    "import matplotlib.pyplot as plt\n",
    "\n",
    "import torch\n",
    "import torch.nn as nn\n",
    "import torchvision\n",
    "import torchvision.transforms as transforms\n",
    "\n",
    "from src.model import Model\n",
    "from src import utils\n",
    "from src.pytorch_utils import utils as ptu\n",
    "from config import cfg\n",
    "import src.data_loader as dl\n",
    "\n",
    "%load_ext autoreload\n",
    "%autoreload 2"
   ]
  },
  {
   "cell_type": "code",
   "execution_count": 2,
   "id": "7731fc8b-da87-4d31-a51f-ab7fcfc45c4b",
   "metadata": {},
   "outputs": [
    {
     "name": "stdout",
     "output_type": "stream",
     "text": [
      "cuda\n"
     ]
    }
   ],
   "source": [
    "device = torch.device(\"cuda\" if torch.cuda.is_available() else \"cpu\")\n",
    "print(device)"
   ]
  },
  {
   "cell_type": "code",
   "execution_count": 3,
   "id": "a9b9f5f5-64ce-493a-a91d-2f870779a403",
   "metadata": {
    "tags": []
   },
   "outputs": [
    {
     "name": "stdout",
     "output_type": "stream",
     "text": [
      "Loads resnet50_sgd_bs64\n"
     ]
    },
    {
     "data": {
      "text/html": [
       "<div>\n",
       "<style scoped>\n",
       "    .dataframe tbody tr th:only-of-type {\n",
       "        vertical-align: middle;\n",
       "    }\n",
       "\n",
       "    .dataframe tbody tr th {\n",
       "        vertical-align: top;\n",
       "    }\n",
       "\n",
       "    .dataframe thead th {\n",
       "        text-align: right;\n",
       "    }\n",
       "</style>\n",
       "<table border=\"1\" class=\"dataframe\">\n",
       "  <thead>\n",
       "    <tr style=\"text-align: right;\">\n",
       "      <th></th>\n",
       "      <th>train_time</th>\n",
       "      <th>timestamp</th>\n",
       "      <th>train_loss</th>\n",
       "      <th>val_loss</th>\n",
       "      <th>train_score</th>\n",
       "      <th>val_score</th>\n",
       "      <th>batch_size</th>\n",
       "      <th>best</th>\n",
       "      <th>dampening</th>\n",
       "      <th>initial_lr</th>\n",
       "      <th>lr</th>\n",
       "      <th>momentum</th>\n",
       "      <th>nesterov</th>\n",
       "      <th>weight_decay</th>\n",
       "    </tr>\n",
       "  </thead>\n",
       "  <tbody>\n",
       "    <tr>\n",
       "      <th>538</th>\n",
       "      <td>0.903285</td>\n",
       "      <td>05:54:14 26-08-2021</td>\n",
       "      <td>1.350093</td>\n",
       "      <td>1.334692</td>\n",
       "      <td>0.545673</td>\n",
       "      <td>0.555990</td>\n",
       "      <td>64</td>\n",
       "      <td>True</td>\n",
       "      <td>0.0</td>\n",
       "      <td>0.01</td>\n",
       "      <td>0.000270</td>\n",
       "      <td>0.9</td>\n",
       "      <td>0.0</td>\n",
       "      <td>0.0</td>\n",
       "    </tr>\n",
       "    <tr>\n",
       "      <th>537</th>\n",
       "      <td>0.893099</td>\n",
       "      <td>05:53:16 26-08-2021</td>\n",
       "      <td>1.363535</td>\n",
       "      <td>1.354711</td>\n",
       "      <td>0.543369</td>\n",
       "      <td>0.545974</td>\n",
       "      <td>64</td>\n",
       "      <td>False</td>\n",
       "      <td>0.0</td>\n",
       "      <td>0.01</td>\n",
       "      <td>0.000278</td>\n",
       "      <td>0.9</td>\n",
       "      <td>0.0</td>\n",
       "      <td>0.0</td>\n",
       "    </tr>\n",
       "    <tr>\n",
       "      <th>536</th>\n",
       "      <td>0.905701</td>\n",
       "      <td>05:52:20 26-08-2021</td>\n",
       "      <td>1.361006</td>\n",
       "      <td>1.345835</td>\n",
       "      <td>0.539663</td>\n",
       "      <td>0.547977</td>\n",
       "      <td>64</td>\n",
       "      <td>False</td>\n",
       "      <td>0.0</td>\n",
       "      <td>0.01</td>\n",
       "      <td>0.000287</td>\n",
       "      <td>0.9</td>\n",
       "      <td>0.0</td>\n",
       "      <td>0.0</td>\n",
       "    </tr>\n",
       "    <tr>\n",
       "      <th>535</th>\n",
       "      <td>0.893115</td>\n",
       "      <td>05:51:22 26-08-2021</td>\n",
       "      <td>1.353576</td>\n",
       "      <td>1.351293</td>\n",
       "      <td>0.541567</td>\n",
       "      <td>0.547676</td>\n",
       "      <td>64</td>\n",
       "      <td>False</td>\n",
       "      <td>0.0</td>\n",
       "      <td>0.01</td>\n",
       "      <td>0.000296</td>\n",
       "      <td>0.9</td>\n",
       "      <td>0.0</td>\n",
       "      <td>0.0</td>\n",
       "    </tr>\n",
       "    <tr>\n",
       "      <th>534</th>\n",
       "      <td>0.904693</td>\n",
       "      <td>05:50:25 26-08-2021</td>\n",
       "      <td>1.332627</td>\n",
       "      <td>1.327337</td>\n",
       "      <td>0.547977</td>\n",
       "      <td>0.553085</td>\n",
       "      <td>64</td>\n",
       "      <td>False</td>\n",
       "      <td>0.0</td>\n",
       "      <td>0.01</td>\n",
       "      <td>0.000305</td>\n",
       "      <td>0.9</td>\n",
       "      <td>0.0</td>\n",
       "      <td>0.0</td>\n",
       "    </tr>\n",
       "    <tr>\n",
       "      <th>533</th>\n",
       "      <td>0.893345</td>\n",
       "      <td>05:49:27 26-08-2021</td>\n",
       "      <td>1.332664</td>\n",
       "      <td>1.318423</td>\n",
       "      <td>0.548177</td>\n",
       "      <td>0.552384</td>\n",
       "      <td>64</td>\n",
       "      <td>False</td>\n",
       "      <td>0.0</td>\n",
       "      <td>0.01</td>\n",
       "      <td>0.000314</td>\n",
       "      <td>0.9</td>\n",
       "      <td>0.0</td>\n",
       "      <td>0.0</td>\n",
       "    </tr>\n",
       "    <tr>\n",
       "      <th>532</th>\n",
       "      <td>0.890562</td>\n",
       "      <td>05:48:31 26-08-2021</td>\n",
       "      <td>1.390491</td>\n",
       "      <td>1.388798</td>\n",
       "      <td>0.541767</td>\n",
       "      <td>0.546575</td>\n",
       "      <td>64</td>\n",
       "      <td>False</td>\n",
       "      <td>0.0</td>\n",
       "      <td>0.01</td>\n",
       "      <td>0.000323</td>\n",
       "      <td>0.9</td>\n",
       "      <td>0.0</td>\n",
       "      <td>0.0</td>\n",
       "    </tr>\n",
       "    <tr>\n",
       "      <th>531</th>\n",
       "      <td>0.905504</td>\n",
       "      <td>05:47:34 26-08-2021</td>\n",
       "      <td>1.364834</td>\n",
       "      <td>1.354946</td>\n",
       "      <td>0.544972</td>\n",
       "      <td>0.551282</td>\n",
       "      <td>64</td>\n",
       "      <td>False</td>\n",
       "      <td>0.0</td>\n",
       "      <td>0.01</td>\n",
       "      <td>0.000332</td>\n",
       "      <td>0.9</td>\n",
       "      <td>0.0</td>\n",
       "      <td>0.0</td>\n",
       "    </tr>\n",
       "    <tr>\n",
       "      <th>530</th>\n",
       "      <td>0.890888</td>\n",
       "      <td>05:46:36 26-08-2021</td>\n",
       "      <td>1.353317</td>\n",
       "      <td>1.340069</td>\n",
       "      <td>0.545072</td>\n",
       "      <td>0.550381</td>\n",
       "      <td>64</td>\n",
       "      <td>False</td>\n",
       "      <td>0.0</td>\n",
       "      <td>0.01</td>\n",
       "      <td>0.000342</td>\n",
       "      <td>0.9</td>\n",
       "      <td>0.0</td>\n",
       "      <td>0.0</td>\n",
       "    </tr>\n",
       "    <tr>\n",
       "      <th>529</th>\n",
       "      <td>0.900397</td>\n",
       "      <td>05:45:40 26-08-2021</td>\n",
       "      <td>1.358205</td>\n",
       "      <td>1.352540</td>\n",
       "      <td>0.543570</td>\n",
       "      <td>0.547376</td>\n",
       "      <td>64</td>\n",
       "      <td>False</td>\n",
       "      <td>0.0</td>\n",
       "      <td>0.01</td>\n",
       "      <td>0.000351</td>\n",
       "      <td>0.9</td>\n",
       "      <td>0.0</td>\n",
       "      <td>0.0</td>\n",
       "    </tr>\n",
       "    <tr>\n",
       "      <th>528</th>\n",
       "      <td>0.886600</td>\n",
       "      <td>05:44:42 26-08-2021</td>\n",
       "      <td>1.384033</td>\n",
       "      <td>1.372675</td>\n",
       "      <td>0.540565</td>\n",
       "      <td>0.545373</td>\n",
       "      <td>64</td>\n",
       "      <td>False</td>\n",
       "      <td>0.0</td>\n",
       "      <td>0.01</td>\n",
       "      <td>0.000361</td>\n",
       "      <td>0.9</td>\n",
       "      <td>0.0</td>\n",
       "      <td>0.0</td>\n",
       "    </tr>\n",
       "    <tr>\n",
       "      <th>527</th>\n",
       "      <td>0.898980</td>\n",
       "      <td>05:43:46 26-08-2021</td>\n",
       "      <td>1.344829</td>\n",
       "      <td>1.332567</td>\n",
       "      <td>0.543570</td>\n",
       "      <td>0.549880</td>\n",
       "      <td>64</td>\n",
       "      <td>False</td>\n",
       "      <td>0.0</td>\n",
       "      <td>0.01</td>\n",
       "      <td>0.000371</td>\n",
       "      <td>0.9</td>\n",
       "      <td>0.0</td>\n",
       "      <td>0.0</td>\n",
       "    </tr>\n",
       "    <tr>\n",
       "      <th>526</th>\n",
       "      <td>0.886884</td>\n",
       "      <td>05:42:49 26-08-2021</td>\n",
       "      <td>1.357529</td>\n",
       "      <td>1.357746</td>\n",
       "      <td>0.545473</td>\n",
       "      <td>0.544772</td>\n",
       "      <td>64</td>\n",
       "      <td>False</td>\n",
       "      <td>0.0</td>\n",
       "      <td>0.01</td>\n",
       "      <td>0.000381</td>\n",
       "      <td>0.9</td>\n",
       "      <td>0.0</td>\n",
       "      <td>0.0</td>\n",
       "    </tr>\n",
       "    <tr>\n",
       "      <th>525</th>\n",
       "      <td>0.896345</td>\n",
       "      <td>05:41:52 26-08-2021</td>\n",
       "      <td>1.352792</td>\n",
       "      <td>1.355385</td>\n",
       "      <td>0.545773</td>\n",
       "      <td>0.548377</td>\n",
       "      <td>64</td>\n",
       "      <td>False</td>\n",
       "      <td>0.0</td>\n",
       "      <td>0.01</td>\n",
       "      <td>0.000391</td>\n",
       "      <td>0.9</td>\n",
       "      <td>0.0</td>\n",
       "      <td>0.0</td>\n",
       "    </tr>\n",
       "    <tr>\n",
       "      <th>524</th>\n",
       "      <td>0.883758</td>\n",
       "      <td>05:40:55 26-08-2021</td>\n",
       "      <td>1.369561</td>\n",
       "      <td>1.363170</td>\n",
       "      <td>0.543369</td>\n",
       "      <td>0.547175</td>\n",
       "      <td>64</td>\n",
       "      <td>False</td>\n",
       "      <td>0.0</td>\n",
       "      <td>0.01</td>\n",
       "      <td>0.000401</td>\n",
       "      <td>0.9</td>\n",
       "      <td>0.0</td>\n",
       "      <td>0.0</td>\n",
       "    </tr>\n",
       "    <tr>\n",
       "      <th>523</th>\n",
       "      <td>0.894185</td>\n",
       "      <td>05:39:59 26-08-2021</td>\n",
       "      <td>1.342213</td>\n",
       "      <td>1.341383</td>\n",
       "      <td>0.545673</td>\n",
       "      <td>0.548478</td>\n",
       "      <td>64</td>\n",
       "      <td>False</td>\n",
       "      <td>0.0</td>\n",
       "      <td>0.01</td>\n",
       "      <td>0.000411</td>\n",
       "      <td>0.9</td>\n",
       "      <td>0.0</td>\n",
       "      <td>0.0</td>\n",
       "    </tr>\n",
       "    <tr>\n",
       "      <th>522</th>\n",
       "      <td>0.883940</td>\n",
       "      <td>05:39:02 26-08-2021</td>\n",
       "      <td>1.366982</td>\n",
       "      <td>1.362175</td>\n",
       "      <td>0.543870</td>\n",
       "      <td>0.543770</td>\n",
       "      <td>64</td>\n",
       "      <td>False</td>\n",
       "      <td>0.0</td>\n",
       "      <td>0.01</td>\n",
       "      <td>0.000422</td>\n",
       "      <td>0.9</td>\n",
       "      <td>0.0</td>\n",
       "      <td>0.0</td>\n",
       "    </tr>\n",
       "    <tr>\n",
       "      <th>521</th>\n",
       "      <td>0.891068</td>\n",
       "      <td>05:38:06 26-08-2021</td>\n",
       "      <td>1.386557</td>\n",
       "      <td>1.378935</td>\n",
       "      <td>0.545673</td>\n",
       "      <td>0.544471</td>\n",
       "      <td>64</td>\n",
       "      <td>False</td>\n",
       "      <td>0.0</td>\n",
       "      <td>0.01</td>\n",
       "      <td>0.000432</td>\n",
       "      <td>0.9</td>\n",
       "      <td>0.0</td>\n",
       "      <td>0.0</td>\n",
       "    </tr>\n",
       "    <tr>\n",
       "      <th>520</th>\n",
       "      <td>0.882460</td>\n",
       "      <td>05:37:06 26-08-2021</td>\n",
       "      <td>1.345071</td>\n",
       "      <td>1.337006</td>\n",
       "      <td>0.546274</td>\n",
       "      <td>0.545773</td>\n",
       "      <td>64</td>\n",
       "      <td>False</td>\n",
       "      <td>0.0</td>\n",
       "      <td>0.01</td>\n",
       "      <td>0.000443</td>\n",
       "      <td>0.9</td>\n",
       "      <td>0.0</td>\n",
       "      <td>0.0</td>\n",
       "    </tr>\n",
       "    <tr>\n",
       "      <th>519</th>\n",
       "      <td>0.891211</td>\n",
       "      <td>05:36:10 26-08-2021</td>\n",
       "      <td>1.368559</td>\n",
       "      <td>1.369129</td>\n",
       "      <td>0.539062</td>\n",
       "      <td>0.540164</td>\n",
       "      <td>64</td>\n",
       "      <td>False</td>\n",
       "      <td>0.0</td>\n",
       "      <td>0.01</td>\n",
       "      <td>0.000454</td>\n",
       "      <td>0.9</td>\n",
       "      <td>0.0</td>\n",
       "      <td>0.0</td>\n",
       "    </tr>\n",
       "  </tbody>\n",
       "</table>\n",
       "</div>"
      ],
      "text/plain": [
       "     train_time            timestamp  train_loss  val_loss  train_score  \\\n",
       "538    0.903285  05:54:14 26-08-2021    1.350093  1.334692     0.545673   \n",
       "537    0.893099  05:53:16 26-08-2021    1.363535  1.354711     0.543369   \n",
       "536    0.905701  05:52:20 26-08-2021    1.361006  1.345835     0.539663   \n",
       "535    0.893115  05:51:22 26-08-2021    1.353576  1.351293     0.541567   \n",
       "534    0.904693  05:50:25 26-08-2021    1.332627  1.327337     0.547977   \n",
       "533    0.893345  05:49:27 26-08-2021    1.332664  1.318423     0.548177   \n",
       "532    0.890562  05:48:31 26-08-2021    1.390491  1.388798     0.541767   \n",
       "531    0.905504  05:47:34 26-08-2021    1.364834  1.354946     0.544972   \n",
       "530    0.890888  05:46:36 26-08-2021    1.353317  1.340069     0.545072   \n",
       "529    0.900397  05:45:40 26-08-2021    1.358205  1.352540     0.543570   \n",
       "528    0.886600  05:44:42 26-08-2021    1.384033  1.372675     0.540565   \n",
       "527    0.898980  05:43:46 26-08-2021    1.344829  1.332567     0.543570   \n",
       "526    0.886884  05:42:49 26-08-2021    1.357529  1.357746     0.545473   \n",
       "525    0.896345  05:41:52 26-08-2021    1.352792  1.355385     0.545773   \n",
       "524    0.883758  05:40:55 26-08-2021    1.369561  1.363170     0.543369   \n",
       "523    0.894185  05:39:59 26-08-2021    1.342213  1.341383     0.545673   \n",
       "522    0.883940  05:39:02 26-08-2021    1.366982  1.362175     0.543870   \n",
       "521    0.891068  05:38:06 26-08-2021    1.386557  1.378935     0.545673   \n",
       "520    0.882460  05:37:06 26-08-2021    1.345071  1.337006     0.546274   \n",
       "519    0.891211  05:36:10 26-08-2021    1.368559  1.369129     0.539062   \n",
       "\n",
       "     val_score  batch_size   best  dampening  initial_lr        lr  momentum  \\\n",
       "538   0.555990          64   True        0.0        0.01  0.000270       0.9   \n",
       "537   0.545974          64  False        0.0        0.01  0.000278       0.9   \n",
       "536   0.547977          64  False        0.0        0.01  0.000287       0.9   \n",
       "535   0.547676          64  False        0.0        0.01  0.000296       0.9   \n",
       "534   0.553085          64  False        0.0        0.01  0.000305       0.9   \n",
       "533   0.552384          64  False        0.0        0.01  0.000314       0.9   \n",
       "532   0.546575          64  False        0.0        0.01  0.000323       0.9   \n",
       "531   0.551282          64  False        0.0        0.01  0.000332       0.9   \n",
       "530   0.550381          64  False        0.0        0.01  0.000342       0.9   \n",
       "529   0.547376          64  False        0.0        0.01  0.000351       0.9   \n",
       "528   0.545373          64  False        0.0        0.01  0.000361       0.9   \n",
       "527   0.549880          64  False        0.0        0.01  0.000371       0.9   \n",
       "526   0.544772          64  False        0.0        0.01  0.000381       0.9   \n",
       "525   0.548377          64  False        0.0        0.01  0.000391       0.9   \n",
       "524   0.547175          64  False        0.0        0.01  0.000401       0.9   \n",
       "523   0.548478          64  False        0.0        0.01  0.000411       0.9   \n",
       "522   0.543770          64  False        0.0        0.01  0.000422       0.9   \n",
       "521   0.544471          64  False        0.0        0.01  0.000432       0.9   \n",
       "520   0.545773          64  False        0.0        0.01  0.000443       0.9   \n",
       "519   0.540164          64  False        0.0        0.01  0.000454       0.9   \n",
       "\n",
       "     nesterov  weight_decay  \n",
       "538       0.0           0.0  \n",
       "537       0.0           0.0  \n",
       "536       0.0           0.0  \n",
       "535       0.0           0.0  \n",
       "534       0.0           0.0  \n",
       "533       0.0           0.0  \n",
       "532       0.0           0.0  \n",
       "531       0.0           0.0  \n",
       "530       0.0           0.0  \n",
       "529       0.0           0.0  \n",
       "528       0.0           0.0  \n",
       "527       0.0           0.0  \n",
       "526       0.0           0.0  \n",
       "525       0.0           0.0  \n",
       "524       0.0           0.0  \n",
       "523       0.0           0.0  \n",
       "522       0.0           0.0  \n",
       "521       0.0           0.0  \n",
       "520       0.0           0.0  \n",
       "519       0.0           0.0  "
      ]
     },
     "metadata": {},
     "output_type": "display_data"
    }
   ],
   "source": [
    "model_epoch = 'best'\n",
    "if cfg.load is not None and os.path.exists(os.path.join(cfg.models_dir, cfg.version, ptu.naming_scheme(cfg.version, epoch=model_epoch)) + '.pth'):\n",
    "    print(f'Loads {cfg.version}')\n",
    "    checkpoint = ptu.load_model(device, version=cfg.version, models_dir=cfg.models_dir, epoch=model_epoch)\n",
    "    if cfg.prints == 'display':\n",
    "        display(checkpoint.log.sort_index(ascending=False).head(20))\n",
    "    elif cfg.prints == 'print':\n",
    "        print(checkpoint.log.sort_index(ascending=False).head(20))\n",
    "else:\n",
    "    model = Model(backbone=cfg.backbone, num_classes=cfg.num_classes)\n",
    "    model.to(device)\n",
    "    \n",
    "    if cfg.optimizer == 'sgd':\n",
    "        optimizer = torch.optim.SGD(model.model.fc.parameters(),\n",
    "                                    lr=cfg.lr,\n",
    "                                    momentum=cfg.optimizer_momentum,\n",
    "                                    weight_decay=cfg.wd)\n",
    "    else:\n",
    "        optimizer = torch.optim.Adam(model.model.fc.parameters(),\n",
    "                                    lr=cfg.lr,\n",
    "                                    weight_decay=cfg.wd)\n",
    "    \n",
    "    criterion = nn.CrossEntropyLoss().to(device)\n",
    "    \n",
    "    lr_scheduler = torch.optim.lr_scheduler.CosineAnnealingLR(optimizer,\n",
    "                                                              T_max=cfg.epochs,\n",
    "                                                              eta_min=cfg.min_lr)\n",
    "    \n",
    "    checkpoint = utils.Checkpoint(version=cfg.version,\n",
    "                                  model=model,\n",
    "                                  optimizer=optimizer,\n",
    "                                  lr_scheduler=lr_scheduler,\n",
    "                                  criterion=criterion,\n",
    "                                  score=utils.accuracy_score,\n",
    "                                  models_dir=cfg.models_dir,\n",
    "                                  best_policy=cfg.best_policy,\n",
    "                                  save=cfg.save,\n",
    "                                 )"
   ]
  },
  {
   "cell_type": "code",
   "execution_count": 4,
   "id": "edee0a6b-3acf-40b9-805b-66fa340f5659",
   "metadata": {},
   "outputs": [],
   "source": [
    "# train_loader, train_eval_loader = dl.train_eval_loaders_cifar10(data_dir=cfg.data_dir, batch_size=cfg.bs)\n",
    "# test_loader = dl.test_loader(data_dir=cfg.data_dir, batch_size=cfg.bs)"
   ]
  },
  {
   "cell_type": "code",
   "execution_count": 5,
   "id": "954ec86d-477a-4597-9310-d2cbfc8bbb7d",
   "metadata": {
    "tags": []
   },
   "outputs": [],
   "source": [
    "# checkpoint.train(train_loader=train_loader,\n",
    "#                  train_eval_loader=train_eval_loader,\n",
    "#                  val_loader=test_loader,\n",
    "#                  train_epochs=int(max(0, cfg.epochs - checkpoint.get_log())),\n",
    "#                  optimizer_params=cfg.optimizer_params,\n",
    "#                  prints=cfg.prints,\n",
    "#                  epochs_save=cfg.epochs_save,\n",
    "#                  epochs_evaluate_train=cfg.epochs_evaluate_train,\n",
    "#                  epochs_evaluate_validation=cfg.epochs_evaluate_validation,\n",
    "#                  max_iterations_train=cfg.max_iterations,\n",
    "#                  max_iterations_val=cfg.max_iterations,\n",
    "#                  device=device,\n",
    "#                  tqdm_bar=cfg.tqdm_bar,\n",
    "#                  save=cfg.save,\n",
    "#                  save_log=cfg.save_log,\n",
    "#                 )"
   ]
  },
  {
   "cell_type": "code",
   "execution_count": 6,
   "id": "be91e107-f3a0-4b17-a840-343839878e4b",
   "metadata": {},
   "outputs": [],
   "source": [
    "df = pd.DataFrame(columns=['augment', 'class', 'angle', 'loss', 'score'])"
   ]
  },
  {
   "cell_type": "code",
   "execution_count": 7,
   "id": "51675c58-8294-4119-a083-5575981f2017",
   "metadata": {},
   "outputs": [
    {
     "name": "stdout",
     "output_type": "stream",
     "text": [
      "Angle 0\n",
      "Files already downloaded and verified\n"
     ]
    },
    {
     "name": "stderr",
     "output_type": "stream",
     "text": [
      "epoch=538: 100%|██████████| 156/156 [00:04<00:00, 36.56it/s, loss=1.4, avg_loss=1.33, score=0.531] \n"
     ]
    },
    {
     "name": "stdout",
     "output_type": "stream",
     "text": [
      "Angle 10\n",
      "Files already downloaded and verified\n"
     ]
    },
    {
     "name": "stderr",
     "output_type": "stream",
     "text": [
      "epoch=538: 100%|██████████| 156/156 [00:04<00:00, 36.67it/s, loss=1.85, avg_loss=1.86, score=0.453]\n"
     ]
    },
    {
     "name": "stdout",
     "output_type": "stream",
     "text": [
      "Angle 20\n",
      "Files already downloaded and verified\n"
     ]
    },
    {
     "name": "stderr",
     "output_type": "stream",
     "text": [
      "epoch=538: 100%|██████████| 156/156 [00:04<00:00, 35.59it/s, loss=2.45, avg_loss=2.33, score=0.219]\n"
     ]
    },
    {
     "name": "stdout",
     "output_type": "stream",
     "text": [
      "Angle 30\n",
      "Files already downloaded and verified\n"
     ]
    },
    {
     "name": "stderr",
     "output_type": "stream",
     "text": [
      "epoch=538: 100%|██████████| 156/156 [00:04<00:00, 36.57it/s, loss=2.57, avg_loss=2.5, score=0.234]\n"
     ]
    },
    {
     "name": "stdout",
     "output_type": "stream",
     "text": [
      "Angle 40\n",
      "Files already downloaded and verified\n"
     ]
    },
    {
     "name": "stderr",
     "output_type": "stream",
     "text": [
      "epoch=538: 100%|██████████| 156/156 [00:04<00:00, 34.87it/s, loss=2.57, avg_loss=2.77, score=0.266]\n"
     ]
    },
    {
     "name": "stdout",
     "output_type": "stream",
     "text": [
      "Angle 50\n",
      "Files already downloaded and verified\n"
     ]
    },
    {
     "name": "stderr",
     "output_type": "stream",
     "text": [
      "epoch=538: 100%|██████████| 156/156 [00:04<00:00, 34.76it/s, loss=3.12, avg_loss=2.89, score=0.141]\n"
     ]
    },
    {
     "name": "stdout",
     "output_type": "stream",
     "text": [
      "Angle 60\n",
      "Files already downloaded and verified\n"
     ]
    },
    {
     "name": "stderr",
     "output_type": "stream",
     "text": [
      "epoch=538: 100%|██████████| 156/156 [00:04<00:00, 35.93it/s, loss=2.98, avg_loss=2.79, score=0.156]\n"
     ]
    },
    {
     "name": "stdout",
     "output_type": "stream",
     "text": [
      "Angle 70\n",
      "Files already downloaded and verified\n"
     ]
    },
    {
     "name": "stderr",
     "output_type": "stream",
     "text": [
      "epoch=538: 100%|██████████| 156/156 [00:04<00:00, 36.24it/s, loss=3.05, avg_loss=2.72, score=0.156]\n"
     ]
    },
    {
     "name": "stdout",
     "output_type": "stream",
     "text": [
      "Angle 80\n",
      "Files already downloaded and verified\n"
     ]
    },
    {
     "name": "stderr",
     "output_type": "stream",
     "text": [
      "epoch=538: 100%|██████████| 156/156 [00:04<00:00, 36.13it/s, loss=2.4, avg_loss=2.34, score=0.234] \n"
     ]
    },
    {
     "name": "stdout",
     "output_type": "stream",
     "text": [
      "Angle 90\n",
      "Files already downloaded and verified\n"
     ]
    },
    {
     "name": "stderr",
     "output_type": "stream",
     "text": [
      "epoch=538: 100%|██████████| 156/156 [00:04<00:00, 36.42it/s, loss=1.87, avg_loss=2.04, score=0.344]\n"
     ]
    }
   ],
   "source": [
    "# all classes\n",
    "for angle in range(0, 91, 10):\n",
    "    print(f'Angle {angle}')\n",
    "    test_loader = dl.test_loader(data_dir=cfg.data_dir,\n",
    "                                 batch_size=cfg.bs,\n",
    "                                 augment=True,\n",
    "                                 angles=[angle])\n",
    "    loss, score, results = checkpoint.evaluate(loader=test_loader,\n",
    "                                               device=device,\n",
    "                                               tqdm_bar=True)\n",
    "    df = df.append({'augment': 'rotation', 'class': 'all', 'angle': angle, 'loss': loss, 'score': score},\n",
    "                   ignore_index=True)"
   ]
  },
  {
   "cell_type": "code",
   "execution_count": 8,
   "id": "8f3a0f21-5f7f-40a4-8646-6c38a5ee4549",
   "metadata": {},
   "outputs": [
    {
     "data": {
      "text/html": [
       "<div>\n",
       "<style scoped>\n",
       "    .dataframe tbody tr th:only-of-type {\n",
       "        vertical-align: middle;\n",
       "    }\n",
       "\n",
       "    .dataframe tbody tr th {\n",
       "        vertical-align: top;\n",
       "    }\n",
       "\n",
       "    .dataframe thead th {\n",
       "        text-align: right;\n",
       "    }\n",
       "</style>\n",
       "<table border=\"1\" class=\"dataframe\">\n",
       "  <thead>\n",
       "    <tr style=\"text-align: right;\">\n",
       "      <th></th>\n",
       "      <th>augment</th>\n",
       "      <th>class</th>\n",
       "      <th>angle</th>\n",
       "      <th>loss</th>\n",
       "      <th>score</th>\n",
       "    </tr>\n",
       "  </thead>\n",
       "  <tbody>\n",
       "    <tr>\n",
       "      <th>0</th>\n",
       "      <td>rotation</td>\n",
       "      <td>all</td>\n",
       "      <td>0</td>\n",
       "      <td>1.334692</td>\n",
       "      <td>0.555990</td>\n",
       "    </tr>\n",
       "    <tr>\n",
       "      <th>1</th>\n",
       "      <td>rotation</td>\n",
       "      <td>all</td>\n",
       "      <td>10</td>\n",
       "      <td>1.864001</td>\n",
       "      <td>0.386518</td>\n",
       "    </tr>\n",
       "    <tr>\n",
       "      <th>2</th>\n",
       "      <td>rotation</td>\n",
       "      <td>all</td>\n",
       "      <td>20</td>\n",
       "      <td>2.327150</td>\n",
       "      <td>0.265224</td>\n",
       "    </tr>\n",
       "    <tr>\n",
       "      <th>3</th>\n",
       "      <td>rotation</td>\n",
       "      <td>all</td>\n",
       "      <td>30</td>\n",
       "      <td>2.501850</td>\n",
       "      <td>0.244091</td>\n",
       "    </tr>\n",
       "    <tr>\n",
       "      <th>4</th>\n",
       "      <td>rotation</td>\n",
       "      <td>all</td>\n",
       "      <td>40</td>\n",
       "      <td>2.773945</td>\n",
       "      <td>0.212039</td>\n",
       "    </tr>\n",
       "    <tr>\n",
       "      <th>5</th>\n",
       "      <td>rotation</td>\n",
       "      <td>all</td>\n",
       "      <td>50</td>\n",
       "      <td>2.889938</td>\n",
       "      <td>0.191006</td>\n",
       "    </tr>\n",
       "    <tr>\n",
       "      <th>6</th>\n",
       "      <td>rotation</td>\n",
       "      <td>all</td>\n",
       "      <td>60</td>\n",
       "      <td>2.788504</td>\n",
       "      <td>0.204728</td>\n",
       "    </tr>\n",
       "    <tr>\n",
       "      <th>7</th>\n",
       "      <td>rotation</td>\n",
       "      <td>all</td>\n",
       "      <td>70</td>\n",
       "      <td>2.717652</td>\n",
       "      <td>0.214643</td>\n",
       "    </tr>\n",
       "    <tr>\n",
       "      <th>8</th>\n",
       "      <td>rotation</td>\n",
       "      <td>all</td>\n",
       "      <td>80</td>\n",
       "      <td>2.338355</td>\n",
       "      <td>0.267127</td>\n",
       "    </tr>\n",
       "    <tr>\n",
       "      <th>9</th>\n",
       "      <td>rotation</td>\n",
       "      <td>all</td>\n",
       "      <td>90</td>\n",
       "      <td>2.038612</td>\n",
       "      <td>0.359175</td>\n",
       "    </tr>\n",
       "  </tbody>\n",
       "</table>\n",
       "</div>"
      ],
      "text/plain": [
       "    augment class angle      loss     score\n",
       "0  rotation   all     0  1.334692  0.555990\n",
       "1  rotation   all    10  1.864001  0.386518\n",
       "2  rotation   all    20  2.327150  0.265224\n",
       "3  rotation   all    30  2.501850  0.244091\n",
       "4  rotation   all    40  2.773945  0.212039\n",
       "5  rotation   all    50  2.889938  0.191006\n",
       "6  rotation   all    60  2.788504  0.204728\n",
       "7  rotation   all    70  2.717652  0.214643\n",
       "8  rotation   all    80  2.338355  0.267127\n",
       "9  rotation   all    90  2.038612  0.359175"
      ]
     },
     "execution_count": 8,
     "metadata": {},
     "output_type": "execute_result"
    }
   ],
   "source": [
    "df"
   ]
  },
  {
   "cell_type": "code",
   "execution_count": 9,
   "id": "8745bb3a-d016-44a4-ac5f-cbb388b1074d",
   "metadata": {
    "tags": []
   },
   "outputs": [
    {
     "name": "stdout",
     "output_type": "stream",
     "text": [
      "Class plane, Angle 0\n",
      "Files already downloaded and verified\n"
     ]
    },
    {
     "name": "stderr",
     "output_type": "stream",
     "text": [
      "epoch=538: 100%|██████████| 15/15 [00:00<00:00, 20.34it/s, loss=1.34, avg_loss=1.23, score=0.578]\n"
     ]
    },
    {
     "name": "stdout",
     "output_type": "stream",
     "text": [
      "Class plane, Angle 10\n",
      "Files already downloaded and verified\n"
     ]
    },
    {
     "name": "stderr",
     "output_type": "stream",
     "text": [
      "epoch=538: 100%|██████████| 15/15 [00:00<00:00, 19.23it/s, loss=1.12, avg_loss=1.47, score=0.641]\n"
     ]
    },
    {
     "name": "stdout",
     "output_type": "stream",
     "text": [
      "Class plane, Angle 20\n",
      "Files already downloaded and verified\n"
     ]
    },
    {
     "name": "stderr",
     "output_type": "stream",
     "text": [
      "epoch=538: 100%|██████████| 15/15 [00:00<00:00, 19.72it/s, loss=2.05, avg_loss=2.46, score=0.344]\n"
     ]
    },
    {
     "name": "stdout",
     "output_type": "stream",
     "text": [
      "Class plane, Angle 30\n",
      "Files already downloaded and verified\n"
     ]
    },
    {
     "name": "stderr",
     "output_type": "stream",
     "text": [
      "epoch=538: 100%|██████████| 15/15 [00:00<00:00, 19.60it/s, loss=1.77, avg_loss=2.19, score=0.406]\n"
     ]
    },
    {
     "name": "stdout",
     "output_type": "stream",
     "text": [
      "Class plane, Angle 40\n",
      "Files already downloaded and verified\n"
     ]
    },
    {
     "name": "stderr",
     "output_type": "stream",
     "text": [
      "epoch=538: 100%|██████████| 15/15 [00:00<00:00, 19.23it/s, loss=1.84, avg_loss=2.24, score=0.375]\n"
     ]
    },
    {
     "name": "stdout",
     "output_type": "stream",
     "text": [
      "Class plane, Angle 50\n",
      "Files already downloaded and verified\n"
     ]
    },
    {
     "name": "stderr",
     "output_type": "stream",
     "text": [
      "epoch=538: 100%|██████████| 15/15 [00:00<00:00, 19.35it/s, loss=2.03, avg_loss=2.42, score=0.344]\n"
     ]
    },
    {
     "name": "stdout",
     "output_type": "stream",
     "text": [
      "Class plane, Angle 60\n",
      "Files already downloaded and verified\n"
     ]
    },
    {
     "name": "stderr",
     "output_type": "stream",
     "text": [
      "epoch=538: 100%|██████████| 15/15 [00:00<00:00, 18.48it/s, loss=2.16, avg_loss=2.67, score=0.328]\n"
     ]
    },
    {
     "name": "stdout",
     "output_type": "stream",
     "text": [
      "Class plane, Angle 70\n",
      "Files already downloaded and verified\n"
     ]
    },
    {
     "name": "stderr",
     "output_type": "stream",
     "text": [
      "epoch=538: 100%|██████████| 15/15 [00:00<00:00, 19.18it/s, loss=2.91, avg_loss=3, score=0.297]  \n"
     ]
    },
    {
     "name": "stdout",
     "output_type": "stream",
     "text": [
      "Class plane, Angle 80\n",
      "Files already downloaded and verified\n"
     ]
    },
    {
     "name": "stderr",
     "output_type": "stream",
     "text": [
      "epoch=538: 100%|██████████| 15/15 [00:00<00:00, 19.16it/s, loss=2.05, avg_loss=2.37, score=0.422]\n"
     ]
    },
    {
     "name": "stdout",
     "output_type": "stream",
     "text": [
      "Class plane, Angle 90\n",
      "Files already downloaded and verified\n"
     ]
    },
    {
     "name": "stderr",
     "output_type": "stream",
     "text": [
      "epoch=538: 100%|██████████| 15/15 [00:00<00:00, 18.93it/s, loss=2.04, avg_loss=2.03, score=0.344]\n"
     ]
    },
    {
     "name": "stdout",
     "output_type": "stream",
     "text": [
      "Class car, Angle 0\n",
      "Files already downloaded and verified\n"
     ]
    },
    {
     "name": "stderr",
     "output_type": "stream",
     "text": [
      "epoch=538: 100%|██████████| 15/15 [00:00<00:00, 19.60it/s, loss=4.55, avg_loss=4.74, score=0.0156]\n"
     ]
    },
    {
     "name": "stdout",
     "output_type": "stream",
     "text": [
      "Class car, Angle 10\n",
      "Files already downloaded and verified\n"
     ]
    },
    {
     "name": "stderr",
     "output_type": "stream",
     "text": [
      "epoch=538: 100%|██████████| 15/15 [00:00<00:00, 19.00it/s, loss=4.13, avg_loss=4.07, score=0.0938]\n"
     ]
    },
    {
     "name": "stdout",
     "output_type": "stream",
     "text": [
      "Class car, Angle 20\n",
      "Files already downloaded and verified\n"
     ]
    },
    {
     "name": "stderr",
     "output_type": "stream",
     "text": [
      "epoch=538: 100%|██████████| 15/15 [00:00<00:00, 19.50it/s, loss=4.61, avg_loss=4.76, score=0.0625]\n"
     ]
    },
    {
     "name": "stdout",
     "output_type": "stream",
     "text": [
      "Class car, Angle 30\n",
      "Files already downloaded and verified\n"
     ]
    },
    {
     "name": "stderr",
     "output_type": "stream",
     "text": [
      "epoch=538: 100%|██████████| 15/15 [00:00<00:00, 19.54it/s, loss=4.03, avg_loss=4.21, score=0.0938]\n"
     ]
    },
    {
     "name": "stdout",
     "output_type": "stream",
     "text": [
      "Class car, Angle 40\n",
      "Files already downloaded and verified\n"
     ]
    },
    {
     "name": "stderr",
     "output_type": "stream",
     "text": [
      "epoch=538: 100%|██████████| 15/15 [00:00<00:00, 18.83it/s, loss=3.85, avg_loss=3.97, score=0.0781]\n"
     ]
    },
    {
     "name": "stdout",
     "output_type": "stream",
     "text": [
      "Class car, Angle 50\n",
      "Files already downloaded and verified\n"
     ]
    },
    {
     "name": "stderr",
     "output_type": "stream",
     "text": [
      "epoch=538: 100%|██████████| 15/15 [00:00<00:00, 19.24it/s, loss=3.93, avg_loss=4.09, score=0.0625]\n"
     ]
    },
    {
     "name": "stdout",
     "output_type": "stream",
     "text": [
      "Class car, Angle 60\n",
      "Files already downloaded and verified\n"
     ]
    },
    {
     "name": "stderr",
     "output_type": "stream",
     "text": [
      "epoch=538: 100%|██████████| 15/15 [00:00<00:00, 18.58it/s, loss=4.11, avg_loss=4.35, score=0.0312]\n"
     ]
    },
    {
     "name": "stdout",
     "output_type": "stream",
     "text": [
      "Class car, Angle 70\n",
      "Files already downloaded and verified\n"
     ]
    },
    {
     "name": "stderr",
     "output_type": "stream",
     "text": [
      "epoch=538: 100%|██████████| 15/15 [00:00<00:00, 19.28it/s, loss=4.67, avg_loss=4.89, score=0.0781]\n"
     ]
    },
    {
     "name": "stdout",
     "output_type": "stream",
     "text": [
      "Class car, Angle 80\n",
      "Files already downloaded and verified\n"
     ]
    },
    {
     "name": "stderr",
     "output_type": "stream",
     "text": [
      "epoch=538: 100%|██████████| 15/15 [00:00<00:00, 19.41it/s, loss=4.78, avg_loss=4.97, score=0.0469]\n"
     ]
    },
    {
     "name": "stdout",
     "output_type": "stream",
     "text": [
      "Class car, Angle 90\n",
      "Files already downloaded and verified\n"
     ]
    },
    {
     "name": "stderr",
     "output_type": "stream",
     "text": [
      "epoch=538: 100%|██████████| 15/15 [00:00<00:00, 19.12it/s, loss=4.61, avg_loss=4.82, score=0.0156]\n"
     ]
    },
    {
     "name": "stdout",
     "output_type": "stream",
     "text": [
      "Class bird, Angle 0\n",
      "Files already downloaded and verified\n"
     ]
    },
    {
     "name": "stderr",
     "output_type": "stream",
     "text": [
      "epoch=538: 100%|██████████| 15/15 [00:00<00:00, 19.77it/s, loss=4.64, avg_loss=4.19, score=0.0938]\n"
     ]
    },
    {
     "name": "stdout",
     "output_type": "stream",
     "text": [
      "Class bird, Angle 10\n",
      "Files already downloaded and verified\n"
     ]
    },
    {
     "name": "stderr",
     "output_type": "stream",
     "text": [
      "epoch=538: 100%|██████████| 15/15 [00:00<00:00, 18.87it/s, loss=3.64, avg_loss=3.41, score=0.0625]\n"
     ]
    },
    {
     "name": "stdout",
     "output_type": "stream",
     "text": [
      "Class bird, Angle 20\n",
      "Files already downloaded and verified\n"
     ]
    },
    {
     "name": "stderr",
     "output_type": "stream",
     "text": [
      "epoch=538: 100%|██████████| 15/15 [00:00<00:00, 19.44it/s, loss=4.1, avg_loss=3.79, score=0.109] \n"
     ]
    },
    {
     "name": "stdout",
     "output_type": "stream",
     "text": [
      "Class bird, Angle 30\n",
      "Files already downloaded and verified\n"
     ]
    },
    {
     "name": "stderr",
     "output_type": "stream",
     "text": [
      "epoch=538: 100%|██████████| 15/15 [00:00<00:00, 19.26it/s, loss=4.18, avg_loss=3.79, score=0.0781]\n"
     ]
    },
    {
     "name": "stdout",
     "output_type": "stream",
     "text": [
      "Class bird, Angle 40\n",
      "Files already downloaded and verified\n"
     ]
    },
    {
     "name": "stderr",
     "output_type": "stream",
     "text": [
      "epoch=538: 100%|██████████| 15/15 [00:00<00:00, 19.33it/s, loss=4.46, avg_loss=4.01, score=0.0312]\n"
     ]
    },
    {
     "name": "stdout",
     "output_type": "stream",
     "text": [
      "Class bird, Angle 50\n",
      "Files already downloaded and verified\n"
     ]
    },
    {
     "name": "stderr",
     "output_type": "stream",
     "text": [
      "epoch=538: 100%|██████████| 15/15 [00:00<00:00, 18.98it/s, loss=4.6, avg_loss=4.17, score=0.0625]\n"
     ]
    },
    {
     "name": "stdout",
     "output_type": "stream",
     "text": [
      "Class bird, Angle 60\n",
      "Files already downloaded and verified\n"
     ]
    },
    {
     "name": "stderr",
     "output_type": "stream",
     "text": [
      "epoch=538: 100%|██████████| 15/15 [00:00<00:00, 18.76it/s, loss=4.25, avg_loss=3.98, score=0.0625]\n"
     ]
    },
    {
     "name": "stdout",
     "output_type": "stream",
     "text": [
      "Class bird, Angle 70\n",
      "Files already downloaded and verified\n"
     ]
    },
    {
     "name": "stderr",
     "output_type": "stream",
     "text": [
      "epoch=538: 100%|██████████| 15/15 [00:00<00:00, 19.22it/s, loss=4.3, avg_loss=4.13, score=0.0938] \n"
     ]
    },
    {
     "name": "stdout",
     "output_type": "stream",
     "text": [
      "Class bird, Angle 80\n",
      "Files already downloaded and verified\n"
     ]
    },
    {
     "name": "stderr",
     "output_type": "stream",
     "text": [
      "epoch=538: 100%|██████████| 15/15 [00:00<00:00, 19.32it/s, loss=4.19, avg_loss=4.07, score=0.109]\n"
     ]
    },
    {
     "name": "stdout",
     "output_type": "stream",
     "text": [
      "Class bird, Angle 90\n",
      "Files already downloaded and verified\n"
     ]
    },
    {
     "name": "stderr",
     "output_type": "stream",
     "text": [
      "epoch=538: 100%|██████████| 15/15 [00:00<00:00, 18.72it/s, loss=4.28, avg_loss=3.96, score=0.0781]\n"
     ]
    },
    {
     "name": "stdout",
     "output_type": "stream",
     "text": [
      "Class cat, Angle 0\n",
      "Files already downloaded and verified\n"
     ]
    },
    {
     "name": "stderr",
     "output_type": "stream",
     "text": [
      "epoch=538: 100%|██████████| 15/15 [00:00<00:00, 20.12it/s, loss=5.51, avg_loss=5.25, score=0]    \n"
     ]
    },
    {
     "name": "stdout",
     "output_type": "stream",
     "text": [
      "Class cat, Angle 10\n",
      "Files already downloaded and verified\n"
     ]
    },
    {
     "name": "stderr",
     "output_type": "stream",
     "text": [
      "epoch=538: 100%|██████████| 15/15 [00:00<00:00, 18.73it/s, loss=4.7, avg_loss=4.48, score=0.0781]\n"
     ]
    },
    {
     "name": "stdout",
     "output_type": "stream",
     "text": [
      "Class cat, Angle 20\n",
      "Files already downloaded and verified\n"
     ]
    },
    {
     "name": "stderr",
     "output_type": "stream",
     "text": [
      "epoch=538: 100%|██████████| 15/15 [00:00<00:00, 18.88it/s, loss=4.18, avg_loss=4.45, score=0.0469]\n"
     ]
    },
    {
     "name": "stdout",
     "output_type": "stream",
     "text": [
      "Class cat, Angle 30\n",
      "Files already downloaded and verified\n"
     ]
    },
    {
     "name": "stderr",
     "output_type": "stream",
     "text": [
      "epoch=538: 100%|██████████| 15/15 [00:00<00:00, 18.85it/s, loss=3.95, avg_loss=4.25, score=0.0938]\n"
     ]
    },
    {
     "name": "stdout",
     "output_type": "stream",
     "text": [
      "Class cat, Angle 40\n",
      "Files already downloaded and verified\n"
     ]
    },
    {
     "name": "stderr",
     "output_type": "stream",
     "text": [
      "epoch=538: 100%|██████████| 15/15 [00:00<00:00, 18.72it/s, loss=3.87, avg_loss=4.17, score=0.0469]\n"
     ]
    },
    {
     "name": "stdout",
     "output_type": "stream",
     "text": [
      "Class cat, Angle 50\n",
      "Files already downloaded and verified\n"
     ]
    },
    {
     "name": "stderr",
     "output_type": "stream",
     "text": [
      "epoch=538: 100%|██████████| 15/15 [00:00<00:00, 19.18it/s, loss=4.11, avg_loss=4.28, score=0]     \n"
     ]
    },
    {
     "name": "stdout",
     "output_type": "stream",
     "text": [
      "Class cat, Angle 60\n",
      "Files already downloaded and verified\n"
     ]
    },
    {
     "name": "stderr",
     "output_type": "stream",
     "text": [
      "epoch=538: 100%|██████████| 15/15 [00:00<00:00, 18.88it/s, loss=4.68, avg_loss=4.47, score=0.0312]\n"
     ]
    },
    {
     "name": "stdout",
     "output_type": "stream",
     "text": [
      "Class cat, Angle 70\n",
      "Files already downloaded and verified\n"
     ]
    },
    {
     "name": "stderr",
     "output_type": "stream",
     "text": [
      "epoch=538: 100%|██████████| 15/15 [00:00<00:00, 18.98it/s, loss=4.55, avg_loss=4.66, score=0]    \n"
     ]
    },
    {
     "name": "stdout",
     "output_type": "stream",
     "text": [
      "Class cat, Angle 80\n",
      "Files already downloaded and verified\n"
     ]
    },
    {
     "name": "stderr",
     "output_type": "stream",
     "text": [
      "epoch=538: 100%|██████████| 15/15 [00:00<00:00, 19.29it/s, loss=4.78, avg_loss=5.03, score=0.0156]\n"
     ]
    },
    {
     "name": "stdout",
     "output_type": "stream",
     "text": [
      "Class cat, Angle 90\n",
      "Files already downloaded and verified\n"
     ]
    },
    {
     "name": "stderr",
     "output_type": "stream",
     "text": [
      "epoch=538: 100%|██████████| 15/15 [00:00<00:00, 18.67it/s, loss=5.09, avg_loss=4.78, score=0.0156]\n"
     ]
    },
    {
     "name": "stdout",
     "output_type": "stream",
     "text": [
      "Class deer, Angle 0\n",
      "Files already downloaded and verified\n"
     ]
    },
    {
     "name": "stderr",
     "output_type": "stream",
     "text": [
      "epoch=538: 100%|██████████| 15/15 [00:00<00:00, 19.94it/s, loss=5.56, avg_loss=4.99, score=0.0312]\n"
     ]
    },
    {
     "name": "stdout",
     "output_type": "stream",
     "text": [
      "Class deer, Angle 10\n",
      "Files already downloaded and verified\n"
     ]
    },
    {
     "name": "stderr",
     "output_type": "stream",
     "text": [
      "epoch=538: 100%|██████████| 15/15 [00:00<00:00, 19.13it/s, loss=4.55, avg_loss=4.66, score=0.0469]\n"
     ]
    },
    {
     "name": "stdout",
     "output_type": "stream",
     "text": [
      "Class deer, Angle 20\n",
      "Files already downloaded and verified\n"
     ]
    },
    {
     "name": "stderr",
     "output_type": "stream",
     "text": [
      "epoch=538: 100%|██████████| 15/15 [00:00<00:00, 18.91it/s, loss=4.5, avg_loss=4.56, score=0.0312] \n"
     ]
    },
    {
     "name": "stdout",
     "output_type": "stream",
     "text": [
      "Class deer, Angle 30\n",
      "Files already downloaded and verified\n"
     ]
    },
    {
     "name": "stderr",
     "output_type": "stream",
     "text": [
      "epoch=538: 100%|██████████| 15/15 [00:00<00:00, 19.31it/s, loss=4.34, avg_loss=4.34, score=0.0312]\n"
     ]
    },
    {
     "name": "stdout",
     "output_type": "stream",
     "text": [
      "Class deer, Angle 40\n",
      "Files already downloaded and verified\n"
     ]
    },
    {
     "name": "stderr",
     "output_type": "stream",
     "text": [
      "epoch=538: 100%|██████████| 15/15 [00:00<00:00, 18.98it/s, loss=4.57, avg_loss=4.38, score=0]     \n"
     ]
    },
    {
     "name": "stdout",
     "output_type": "stream",
     "text": [
      "Class deer, Angle 50\n",
      "Files already downloaded and verified\n"
     ]
    },
    {
     "name": "stderr",
     "output_type": "stream",
     "text": [
      "epoch=538: 100%|██████████| 15/15 [00:00<00:00, 19.39it/s, loss=4.65, avg_loss=4.46, score=0.0156]\n"
     ]
    },
    {
     "name": "stdout",
     "output_type": "stream",
     "text": [
      "Class deer, Angle 60\n",
      "Files already downloaded and verified\n"
     ]
    },
    {
     "name": "stderr",
     "output_type": "stream",
     "text": [
      "epoch=538: 100%|██████████| 15/15 [00:00<00:00, 19.28it/s, loss=4.59, avg_loss=4.56, score=0.0156]\n"
     ]
    },
    {
     "name": "stdout",
     "output_type": "stream",
     "text": [
      "Class deer, Angle 70\n",
      "Files already downloaded and verified\n"
     ]
    },
    {
     "name": "stderr",
     "output_type": "stream",
     "text": [
      "epoch=538: 100%|██████████| 15/15 [00:00<00:00, 18.85it/s, loss=4.87, avg_loss=4.68, score=0]    \n"
     ]
    },
    {
     "name": "stdout",
     "output_type": "stream",
     "text": [
      "Class deer, Angle 80\n",
      "Files already downloaded and verified\n"
     ]
    },
    {
     "name": "stderr",
     "output_type": "stream",
     "text": [
      "epoch=538: 100%|██████████| 15/15 [00:00<00:00, 19.19it/s, loss=5.41, avg_loss=5.21, score=0.0156]\n"
     ]
    },
    {
     "name": "stdout",
     "output_type": "stream",
     "text": [
      "Class deer, Angle 90\n",
      "Files already downloaded and verified\n"
     ]
    },
    {
     "name": "stderr",
     "output_type": "stream",
     "text": [
      "epoch=538: 100%|██████████| 15/15 [00:00<00:00, 18.84it/s, loss=4.66, avg_loss=4.79, score=0.0312]\n"
     ]
    },
    {
     "name": "stdout",
     "output_type": "stream",
     "text": [
      "Class dog, Angle 0\n",
      "Files already downloaded and verified\n"
     ]
    },
    {
     "name": "stderr",
     "output_type": "stream",
     "text": [
      "epoch=538: 100%|██████████| 15/15 [00:00<00:00, 19.58it/s, loss=5.82, avg_loss=6.02, score=0]     \n"
     ]
    },
    {
     "name": "stdout",
     "output_type": "stream",
     "text": [
      "Class dog, Angle 10\n",
      "Files already downloaded and verified\n"
     ]
    },
    {
     "name": "stderr",
     "output_type": "stream",
     "text": [
      "epoch=538: 100%|██████████| 15/15 [00:00<00:00, 19.15it/s, loss=4.85, avg_loss=5.04, score=0.0469]\n"
     ]
    },
    {
     "name": "stdout",
     "output_type": "stream",
     "text": [
      "Class dog, Angle 20\n",
      "Files already downloaded and verified\n"
     ]
    },
    {
     "name": "stderr",
     "output_type": "stream",
     "text": [
      "epoch=538: 100%|██████████| 15/15 [00:00<00:00, 18.61it/s, loss=4.44, avg_loss=4.74, score=0.0625]\n"
     ]
    },
    {
     "name": "stdout",
     "output_type": "stream",
     "text": [
      "Class dog, Angle 30\n",
      "Files already downloaded and verified\n"
     ]
    },
    {
     "name": "stderr",
     "output_type": "stream",
     "text": [
      "epoch=538: 100%|██████████| 15/15 [00:00<00:00, 19.15it/s, loss=4.12, avg_loss=4.38, score=0.0625]\n"
     ]
    },
    {
     "name": "stdout",
     "output_type": "stream",
     "text": [
      "Class dog, Angle 40\n",
      "Files already downloaded and verified\n"
     ]
    },
    {
     "name": "stderr",
     "output_type": "stream",
     "text": [
      "epoch=538: 100%|██████████| 15/15 [00:00<00:00, 18.51it/s, loss=4.18, avg_loss=4.31, score=0.0625]\n"
     ]
    },
    {
     "name": "stdout",
     "output_type": "stream",
     "text": [
      "Class dog, Angle 50\n",
      "Files already downloaded and verified\n"
     ]
    },
    {
     "name": "stderr",
     "output_type": "stream",
     "text": [
      "epoch=538: 100%|██████████| 15/15 [00:00<00:00, 19.23it/s, loss=4.6, avg_loss=4.36, score=0.0312] \n"
     ]
    },
    {
     "name": "stdout",
     "output_type": "stream",
     "text": [
      "Class dog, Angle 60\n",
      "Files already downloaded and verified\n"
     ]
    },
    {
     "name": "stderr",
     "output_type": "stream",
     "text": [
      "epoch=538: 100%|██████████| 15/15 [00:00<00:00, 19.02it/s, loss=4.37, avg_loss=4.5, score=0.0469] \n"
     ]
    },
    {
     "name": "stdout",
     "output_type": "stream",
     "text": [
      "Class dog, Angle 70\n",
      "Files already downloaded and verified\n"
     ]
    },
    {
     "name": "stderr",
     "output_type": "stream",
     "text": [
      "epoch=538: 100%|██████████| 15/15 [00:00<00:00, 18.52it/s, loss=4.68, avg_loss=4.72, score=0.0469]\n"
     ]
    },
    {
     "name": "stdout",
     "output_type": "stream",
     "text": [
      "Class dog, Angle 80\n",
      "Files already downloaded and verified\n"
     ]
    },
    {
     "name": "stderr",
     "output_type": "stream",
     "text": [
      "epoch=538: 100%|██████████| 15/15 [00:00<00:00, 19.36it/s, loss=5.42, avg_loss=5.34, score=0]    \n"
     ]
    },
    {
     "name": "stdout",
     "output_type": "stream",
     "text": [
      "Class dog, Angle 90\n",
      "Files already downloaded and verified\n"
     ]
    },
    {
     "name": "stderr",
     "output_type": "stream",
     "text": [
      "epoch=538: 100%|██████████| 15/15 [00:00<00:00, 18.52it/s, loss=5.14, avg_loss=5.16, score=0.0469]\n"
     ]
    },
    {
     "name": "stdout",
     "output_type": "stream",
     "text": [
      "Class frog, Angle 0\n",
      "Files already downloaded and verified\n"
     ]
    },
    {
     "name": "stderr",
     "output_type": "stream",
     "text": [
      "epoch=538: 100%|██████████| 15/15 [00:00<00:00, 19.85it/s, loss=5.78, avg_loss=5.99, score=0.0469]\n"
     ]
    },
    {
     "name": "stdout",
     "output_type": "stream",
     "text": [
      "Class frog, Angle 10\n",
      "Files already downloaded and verified\n"
     ]
    },
    {
     "name": "stderr",
     "output_type": "stream",
     "text": [
      "epoch=538: 100%|██████████| 15/15 [00:00<00:00, 19.10it/s, loss=5.43, avg_loss=5.44, score=0]     \n"
     ]
    },
    {
     "name": "stdout",
     "output_type": "stream",
     "text": [
      "Class frog, Angle 20\n",
      "Files already downloaded and verified\n"
     ]
    },
    {
     "name": "stderr",
     "output_type": "stream",
     "text": [
      "epoch=538: 100%|██████████| 15/15 [00:00<00:00, 18.79it/s, loss=5.72, avg_loss=5.67, score=0.0469]\n"
     ]
    },
    {
     "name": "stdout",
     "output_type": "stream",
     "text": [
      "Class frog, Angle 30\n",
      "Files already downloaded and verified\n"
     ]
    },
    {
     "name": "stderr",
     "output_type": "stream",
     "text": [
      "epoch=538: 100%|██████████| 15/15 [00:00<00:00, 19.33it/s, loss=5.07, avg_loss=5.39, score=0.0156]\n"
     ]
    },
    {
     "name": "stdout",
     "output_type": "stream",
     "text": [
      "Class frog, Angle 40\n",
      "Files already downloaded and verified\n"
     ]
    },
    {
     "name": "stderr",
     "output_type": "stream",
     "text": [
      "epoch=538: 100%|██████████| 15/15 [00:00<00:00, 19.04it/s, loss=5.1, avg_loss=5.33, score=0.0156]\n"
     ]
    },
    {
     "name": "stdout",
     "output_type": "stream",
     "text": [
      "Class frog, Angle 50\n",
      "Files already downloaded and verified\n"
     ]
    },
    {
     "name": "stderr",
     "output_type": "stream",
     "text": [
      "epoch=538: 100%|██████████| 15/15 [00:00<00:00, 19.10it/s, loss=5.08, avg_loss=5.38, score=0.0156]\n"
     ]
    },
    {
     "name": "stdout",
     "output_type": "stream",
     "text": [
      "Class frog, Angle 60\n",
      "Files already downloaded and verified\n"
     ]
    },
    {
     "name": "stderr",
     "output_type": "stream",
     "text": [
      "epoch=538: 100%|██████████| 15/15 [00:00<00:00, 19.20it/s, loss=5.23, avg_loss=5.53, score=0.0156]\n"
     ]
    },
    {
     "name": "stdout",
     "output_type": "stream",
     "text": [
      "Class frog, Angle 70\n",
      "Files already downloaded and verified\n"
     ]
    },
    {
     "name": "stderr",
     "output_type": "stream",
     "text": [
      "epoch=538: 100%|██████████| 15/15 [00:00<00:00, 18.44it/s, loss=5.73, avg_loss=5.73, score=0.0312]\n"
     ]
    },
    {
     "name": "stdout",
     "output_type": "stream",
     "text": [
      "Class frog, Angle 80\n",
      "Files already downloaded and verified\n"
     ]
    },
    {
     "name": "stderr",
     "output_type": "stream",
     "text": [
      "epoch=538: 100%|██████████| 15/15 [00:00<00:00, 18.57it/s, loss=6.25, avg_loss=6.29, score=0]    \n"
     ]
    },
    {
     "name": "stdout",
     "output_type": "stream",
     "text": [
      "Class frog, Angle 90\n",
      "Files already downloaded and verified\n"
     ]
    },
    {
     "name": "stderr",
     "output_type": "stream",
     "text": [
      "epoch=538: 100%|██████████| 15/15 [00:00<00:00, 18.41it/s, loss=6.09, avg_loss=6.01, score=0.0312]\n"
     ]
    },
    {
     "name": "stdout",
     "output_type": "stream",
     "text": [
      "Class horse, Angle 0\n",
      "Files already downloaded and verified\n"
     ]
    },
    {
     "name": "stderr",
     "output_type": "stream",
     "text": [
      "epoch=538: 100%|██████████| 15/15 [00:00<00:00, 19.73it/s, loss=5.35, avg_loss=5.03, score=0.0156]\n"
     ]
    },
    {
     "name": "stdout",
     "output_type": "stream",
     "text": [
      "Class horse, Angle 10\n",
      "Files already downloaded and verified\n"
     ]
    },
    {
     "name": "stderr",
     "output_type": "stream",
     "text": [
      "epoch=538: 100%|██████████| 15/15 [00:00<00:00, 18.73it/s, loss=4.62, avg_loss=4.5, score=0.0469] \n"
     ]
    },
    {
     "name": "stdout",
     "output_type": "stream",
     "text": [
      "Class horse, Angle 20\n",
      "Files already downloaded and verified\n"
     ]
    },
    {
     "name": "stderr",
     "output_type": "stream",
     "text": [
      "epoch=538: 100%|██████████| 15/15 [00:00<00:00, 17.90it/s, loss=4.28, avg_loss=4.52, score=0.0625]\n"
     ]
    },
    {
     "name": "stdout",
     "output_type": "stream",
     "text": [
      "Class horse, Angle 30\n",
      "Files already downloaded and verified\n"
     ]
    },
    {
     "name": "stderr",
     "output_type": "stream",
     "text": [
      "epoch=538: 100%|██████████| 15/15 [00:00<00:00, 17.91it/s, loss=3.8, avg_loss=4.11, score=0.0625] \n"
     ]
    },
    {
     "name": "stdout",
     "output_type": "stream",
     "text": [
      "Class horse, Angle 40\n",
      "Files already downloaded and verified\n"
     ]
    },
    {
     "name": "stderr",
     "output_type": "stream",
     "text": [
      "epoch=538: 100%|██████████| 15/15 [00:00<00:00, 17.66it/s, loss=3.93, avg_loss=4.07, score=0.0625]\n"
     ]
    },
    {
     "name": "stdout",
     "output_type": "stream",
     "text": [
      "Class horse, Angle 50\n",
      "Files already downloaded and verified\n"
     ]
    },
    {
     "name": "stderr",
     "output_type": "stream",
     "text": [
      "epoch=538: 100%|██████████| 15/15 [00:00<00:00, 18.50it/s, loss=4.11, avg_loss=4.26, score=0.0312]\n"
     ]
    },
    {
     "name": "stdout",
     "output_type": "stream",
     "text": [
      "Class horse, Angle 60\n",
      "Files already downloaded and verified\n"
     ]
    },
    {
     "name": "stderr",
     "output_type": "stream",
     "text": [
      "epoch=538: 100%|██████████| 15/15 [00:00<00:00, 18.51it/s, loss=4.69, avg_loss=4.68, score=0]     \n"
     ]
    },
    {
     "name": "stdout",
     "output_type": "stream",
     "text": [
      "Class horse, Angle 70\n",
      "Files already downloaded and verified\n"
     ]
    },
    {
     "name": "stderr",
     "output_type": "stream",
     "text": [
      "epoch=538: 100%|██████████| 15/15 [00:00<00:00, 18.65it/s, loss=4.81, avg_loss=5.01, score=0.0156]\n"
     ]
    },
    {
     "name": "stdout",
     "output_type": "stream",
     "text": [
      "Class horse, Angle 80\n",
      "Files already downloaded and verified\n"
     ]
    },
    {
     "name": "stderr",
     "output_type": "stream",
     "text": [
      "epoch=538: 100%|██████████| 15/15 [00:00<00:00, 18.30it/s, loss=4.72, avg_loss=4.84, score=0.0469]\n"
     ]
    },
    {
     "name": "stdout",
     "output_type": "stream",
     "text": [
      "Class horse, Angle 90\n",
      "Files already downloaded and verified\n"
     ]
    },
    {
     "name": "stderr",
     "output_type": "stream",
     "text": [
      "epoch=538: 100%|██████████| 15/15 [00:00<00:00, 17.77it/s, loss=4.36, avg_loss=4.26, score=0.0469]\n"
     ]
    },
    {
     "name": "stdout",
     "output_type": "stream",
     "text": [
      "Class ship, Angle 0\n",
      "Files already downloaded and verified\n"
     ]
    },
    {
     "name": "stderr",
     "output_type": "stream",
     "text": [
      "epoch=538: 100%|██████████| 15/15 [00:00<00:00, 19.02it/s, loss=2.82, avg_loss=2.71, score=0.0938]\n"
     ]
    },
    {
     "name": "stdout",
     "output_type": "stream",
     "text": [
      "Class ship, Angle 10\n",
      "Files already downloaded and verified\n"
     ]
    },
    {
     "name": "stderr",
     "output_type": "stream",
     "text": [
      "epoch=538: 100%|██████████| 15/15 [00:00<00:00, 18.38it/s, loss=2.46, avg_loss=2.06, score=0.266]\n"
     ]
    },
    {
     "name": "stdout",
     "output_type": "stream",
     "text": [
      "Class ship, Angle 20\n",
      "Files already downloaded and verified\n"
     ]
    },
    {
     "name": "stderr",
     "output_type": "stream",
     "text": [
      "epoch=538: 100%|██████████| 15/15 [00:00<00:00, 18.31it/s, loss=3.06, avg_loss=2.94, score=0.156]\n"
     ]
    },
    {
     "name": "stdout",
     "output_type": "stream",
     "text": [
      "Class ship, Angle 30\n",
      "Files already downloaded and verified\n"
     ]
    },
    {
     "name": "stderr",
     "output_type": "stream",
     "text": [
      "epoch=538: 100%|██████████| 15/15 [00:00<00:00, 17.29it/s, loss=2.9, avg_loss=2.72, score=0.188]\n"
     ]
    },
    {
     "name": "stdout",
     "output_type": "stream",
     "text": [
      "Class ship, Angle 40\n",
      "Files already downloaded and verified\n"
     ]
    },
    {
     "name": "stderr",
     "output_type": "stream",
     "text": [
      "epoch=538: 100%|██████████| 15/15 [00:00<00:00, 18.64it/s, loss=2.78, avg_loss=2.65, score=0.0938]\n"
     ]
    },
    {
     "name": "stdout",
     "output_type": "stream",
     "text": [
      "Class ship, Angle 50\n",
      "Files already downloaded and verified\n"
     ]
    },
    {
     "name": "stderr",
     "output_type": "stream",
     "text": [
      "epoch=538: 100%|██████████| 15/15 [00:00<00:00, 19.10it/s, loss=3.05, avg_loss=2.85, score=0.0781]\n"
     ]
    },
    {
     "name": "stdout",
     "output_type": "stream",
     "text": [
      "Class ship, Angle 60\n",
      "Files already downloaded and verified\n"
     ]
    },
    {
     "name": "stderr",
     "output_type": "stream",
     "text": [
      "epoch=538: 100%|██████████| 15/15 [00:00<00:00, 18.38it/s, loss=3.21, avg_loss=3.05, score=0.0938]\n"
     ]
    },
    {
     "name": "stdout",
     "output_type": "stream",
     "text": [
      "Class ship, Angle 70\n",
      "Files already downloaded and verified\n"
     ]
    },
    {
     "name": "stderr",
     "output_type": "stream",
     "text": [
      "epoch=538: 100%|██████████| 15/15 [00:00<00:00, 19.05it/s, loss=3.34, avg_loss=3.46, score=0.141]\n"
     ]
    },
    {
     "name": "stdout",
     "output_type": "stream",
     "text": [
      "Class ship, Angle 80\n",
      "Files already downloaded and verified\n"
     ]
    },
    {
     "name": "stderr",
     "output_type": "stream",
     "text": [
      "epoch=538: 100%|██████████| 15/15 [00:00<00:00, 19.15it/s, loss=3.23, avg_loss=3.15, score=0.125]\n"
     ]
    },
    {
     "name": "stdout",
     "output_type": "stream",
     "text": [
      "Class ship, Angle 90\n",
      "Files already downloaded and verified\n"
     ]
    },
    {
     "name": "stderr",
     "output_type": "stream",
     "text": [
      "epoch=538: 100%|██████████| 15/15 [00:00<00:00, 18.48it/s, loss=3.36, avg_loss=2.95, score=0.172]\n"
     ]
    },
    {
     "name": "stdout",
     "output_type": "stream",
     "text": [
      "Class truck, Angle 0\n",
      "Files already downloaded and verified\n"
     ]
    },
    {
     "name": "stderr",
     "output_type": "stream",
     "text": [
      "epoch=538: 100%|██████████| 15/15 [00:00<00:00, 19.25it/s, loss=4.39, avg_loss=4.44, score=0.0625]\n"
     ]
    },
    {
     "name": "stdout",
     "output_type": "stream",
     "text": [
      "Class truck, Angle 10\n",
      "Files already downloaded and verified\n"
     ]
    },
    {
     "name": "stderr",
     "output_type": "stream",
     "text": [
      "epoch=538: 100%|██████████| 15/15 [00:00<00:00, 18.11it/s, loss=3.83, avg_loss=3.9, score=0.0938] \n"
     ]
    },
    {
     "name": "stdout",
     "output_type": "stream",
     "text": [
      "Class truck, Angle 20\n",
      "Files already downloaded and verified\n"
     ]
    },
    {
     "name": "stderr",
     "output_type": "stream",
     "text": [
      "epoch=538: 100%|██████████| 15/15 [00:00<00:00, 18.49it/s, loss=4.53, avg_loss=4.54, score=0.109]\n"
     ]
    },
    {
     "name": "stdout",
     "output_type": "stream",
     "text": [
      "Class truck, Angle 30\n",
      "Files already downloaded and verified\n"
     ]
    },
    {
     "name": "stderr",
     "output_type": "stream",
     "text": [
      "epoch=538: 100%|██████████| 15/15 [00:00<00:00, 19.05it/s, loss=3.73, avg_loss=3.7, score=0.172] \n"
     ]
    },
    {
     "name": "stdout",
     "output_type": "stream",
     "text": [
      "Class truck, Angle 40\n",
      "Files already downloaded and verified\n"
     ]
    },
    {
     "name": "stderr",
     "output_type": "stream",
     "text": [
      "epoch=538: 100%|██████████| 15/15 [00:00<00:00, 18.27it/s, loss=3.64, avg_loss=3.51, score=0.141] \n"
     ]
    },
    {
     "name": "stdout",
     "output_type": "stream",
     "text": [
      "Class truck, Angle 50\n",
      "Files already downloaded and verified\n"
     ]
    },
    {
     "name": "stderr",
     "output_type": "stream",
     "text": [
      "epoch=538: 100%|██████████| 15/15 [00:00<00:00, 18.78it/s, loss=3.67, avg_loss=3.7, score=0.125] \n"
     ]
    },
    {
     "name": "stdout",
     "output_type": "stream",
     "text": [
      "Class truck, Angle 60\n",
      "Files already downloaded and verified\n"
     ]
    },
    {
     "name": "stderr",
     "output_type": "stream",
     "text": [
      "epoch=538: 100%|██████████| 15/15 [00:00<00:00, 18.26it/s, loss=4.05, avg_loss=4.24, score=0.0781]\n"
     ]
    },
    {
     "name": "stdout",
     "output_type": "stream",
     "text": [
      "Class truck, Angle 70\n",
      "Files already downloaded and verified\n"
     ]
    },
    {
     "name": "stderr",
     "output_type": "stream",
     "text": [
      "epoch=538: 100%|██████████| 15/15 [00:00<00:00, 18.71it/s, loss=4.43, avg_loss=4.63, score=0.0781]\n"
     ]
    },
    {
     "name": "stdout",
     "output_type": "stream",
     "text": [
      "Class truck, Angle 80\n",
      "Files already downloaded and verified\n"
     ]
    },
    {
     "name": "stderr",
     "output_type": "stream",
     "text": [
      "epoch=538: 100%|██████████| 15/15 [00:00<00:00, 18.87it/s, loss=4.35, avg_loss=4.59, score=0.0156]\n"
     ]
    },
    {
     "name": "stdout",
     "output_type": "stream",
     "text": [
      "Class truck, Angle 90\n",
      "Files already downloaded and verified\n"
     ]
    },
    {
     "name": "stderr",
     "output_type": "stream",
     "text": [
      "epoch=538: 100%|██████████| 15/15 [00:00<00:00, 18.47it/s, loss=4.32, avg_loss=4.39, score=0.0469]\n"
     ]
    }
   ],
   "source": [
    "# by class by angle classes\n",
    "for class_name in utils.classDict.keys():\n",
    "    for angle in range(0, 91, 10):\n",
    "        print(f'Class {class_name}, Angle {angle}')\n",
    "        test_loader = dl.test_loader(data_dir=cfg.data_dir,\n",
    "                                     batch_size=cfg.bs,\n",
    "                                     augment=True,\n",
    "                                     angles=[angle],\n",
    "                                     class_name=class_name\n",
    "                                    )\n",
    "        loss, score, results = checkpoint.evaluate(loader=test_loader,\n",
    "                                                   device=device,\n",
    "                                                   tqdm_bar=True)\n",
    "        df = df.append({'augment': 'rotation', 'class': class_name, 'angle': angle, 'loss': loss, 'score': score},\n",
    "                       ignore_index=True)"
   ]
  },
  {
   "cell_type": "code",
   "execution_count": 10,
   "id": "1a4c91b7-f688-48ae-a9c9-d27ceb3514b2",
   "metadata": {},
   "outputs": [
    {
     "data": {
      "text/html": [
       "<div>\n",
       "<style scoped>\n",
       "    .dataframe tbody tr th:only-of-type {\n",
       "        vertical-align: middle;\n",
       "    }\n",
       "\n",
       "    .dataframe tbody tr th {\n",
       "        vertical-align: top;\n",
       "    }\n",
       "\n",
       "    .dataframe thead th {\n",
       "        text-align: right;\n",
       "    }\n",
       "</style>\n",
       "<table border=\"1\" class=\"dataframe\">\n",
       "  <thead>\n",
       "    <tr style=\"text-align: right;\">\n",
       "      <th></th>\n",
       "      <th>augment</th>\n",
       "      <th>class</th>\n",
       "      <th>angle</th>\n",
       "      <th>loss</th>\n",
       "      <th>score</th>\n",
       "    </tr>\n",
       "  </thead>\n",
       "  <tbody>\n",
       "    <tr>\n",
       "      <th>0</th>\n",
       "      <td>rotation</td>\n",
       "      <td>all</td>\n",
       "      <td>0</td>\n",
       "      <td>1.334692</td>\n",
       "      <td>0.555990</td>\n",
       "    </tr>\n",
       "    <tr>\n",
       "      <th>1</th>\n",
       "      <td>rotation</td>\n",
       "      <td>all</td>\n",
       "      <td>10</td>\n",
       "      <td>1.864001</td>\n",
       "      <td>0.386518</td>\n",
       "    </tr>\n",
       "    <tr>\n",
       "      <th>2</th>\n",
       "      <td>rotation</td>\n",
       "      <td>all</td>\n",
       "      <td>20</td>\n",
       "      <td>2.327150</td>\n",
       "      <td>0.265224</td>\n",
       "    </tr>\n",
       "    <tr>\n",
       "      <th>3</th>\n",
       "      <td>rotation</td>\n",
       "      <td>all</td>\n",
       "      <td>30</td>\n",
       "      <td>2.501850</td>\n",
       "      <td>0.244091</td>\n",
       "    </tr>\n",
       "    <tr>\n",
       "      <th>4</th>\n",
       "      <td>rotation</td>\n",
       "      <td>all</td>\n",
       "      <td>40</td>\n",
       "      <td>2.773945</td>\n",
       "      <td>0.212039</td>\n",
       "    </tr>\n",
       "    <tr>\n",
       "      <th>...</th>\n",
       "      <td>...</td>\n",
       "      <td>...</td>\n",
       "      <td>...</td>\n",
       "      <td>...</td>\n",
       "      <td>...</td>\n",
       "    </tr>\n",
       "    <tr>\n",
       "      <th>105</th>\n",
       "      <td>rotation</td>\n",
       "      <td>truck</td>\n",
       "      <td>50</td>\n",
       "      <td>3.702032</td>\n",
       "      <td>0.103125</td>\n",
       "    </tr>\n",
       "    <tr>\n",
       "      <th>106</th>\n",
       "      <td>rotation</td>\n",
       "      <td>truck</td>\n",
       "      <td>60</td>\n",
       "      <td>4.244040</td>\n",
       "      <td>0.063542</td>\n",
       "    </tr>\n",
       "    <tr>\n",
       "      <th>107</th>\n",
       "      <td>rotation</td>\n",
       "      <td>truck</td>\n",
       "      <td>70</td>\n",
       "      <td>4.630176</td>\n",
       "      <td>0.040625</td>\n",
       "    </tr>\n",
       "    <tr>\n",
       "      <th>108</th>\n",
       "      <td>rotation</td>\n",
       "      <td>truck</td>\n",
       "      <td>80</td>\n",
       "      <td>4.593274</td>\n",
       "      <td>0.038542</td>\n",
       "    </tr>\n",
       "    <tr>\n",
       "      <th>109</th>\n",
       "      <td>rotation</td>\n",
       "      <td>truck</td>\n",
       "      <td>90</td>\n",
       "      <td>4.393508</td>\n",
       "      <td>0.041667</td>\n",
       "    </tr>\n",
       "  </tbody>\n",
       "</table>\n",
       "<p>110 rows × 5 columns</p>\n",
       "</div>"
      ],
      "text/plain": [
       "      augment  class angle      loss     score\n",
       "0    rotation    all     0  1.334692  0.555990\n",
       "1    rotation    all    10  1.864001  0.386518\n",
       "2    rotation    all    20  2.327150  0.265224\n",
       "3    rotation    all    30  2.501850  0.244091\n",
       "4    rotation    all    40  2.773945  0.212039\n",
       "..        ...    ...   ...       ...       ...\n",
       "105  rotation  truck    50  3.702032  0.103125\n",
       "106  rotation  truck    60  4.244040  0.063542\n",
       "107  rotation  truck    70  4.630176  0.040625\n",
       "108  rotation  truck    80  4.593274  0.038542\n",
       "109  rotation  truck    90  4.393508  0.041667\n",
       "\n",
       "[110 rows x 5 columns]"
      ]
     },
     "execution_count": 10,
     "metadata": {},
     "output_type": "execute_result"
    }
   ],
   "source": [
    "df"
   ]
  },
  {
   "cell_type": "code",
   "execution_count": 11,
   "id": "645868c7-b6c0-486d-8265-1b1fb68b8c75",
   "metadata": {},
   "outputs": [],
   "source": [
    "df.to_csv('log.csv', index=False)"
   ]
  },
  {
   "cell_type": "code",
   "execution_count": 41,
   "id": "5a5215cc-3123-4ae7-9f07-d680e908fb0a",
   "metadata": {
    "tags": []
   },
   "outputs": [
    {
     "data": {
      "image/png": "[encoded data removed]",
      "text/plain": [
       "<Figure size 1440x720 with 12 Axes>"
      ]
     },
     "metadata": {
      "needs_background": "light"
     },
     "output_type": "display_data"
    }
   ],
   "source": [
    "fig, axes = plt.subplots(figsize=(20,10),\n",
    "                         nrows=2, ncols=6)\n",
    "for (val, group), ax in zip(df.groupby('class'), axes.flatten()):\n",
    "    group.plot(x='angle', y='loss', kind='bar', ax=ax, title=val, ylim=(0, 7))"
   ]
  },
  {
   "cell_type": "code",
   "execution_count": 44,
   "id": "b0f43ccb-6b92-4d75-9b82-2ba39dc766f1",
   "metadata": {},
   "outputs": [
    {
     "data": {
      "image/png": "[encoded data removed]",
      "text/plain": [
       "<Figure size 1440x720 with 12 Axes>"
      ]
     },
     "metadata": {
      "needs_background": "light"
     },
     "output_type": "display_data"
    }
   ],
   "source": [
    "# df.groupby('class').plot.bar(x='angle', y='score', ylim=(0, 1), subplots=True)\n",
    "fig, axes = plt.subplots(figsize=(20,10),\n",
    "                         nrows=2, ncols=6)\n",
    "for (val, group), ax in zip(df.groupby('class'), axes.flatten()):\n",
    "    group.plot(x='angle', y='score', kind='bar', ax=ax, title=val, ylim=(0, 1))"
   ]
  }
 ],
 "metadata": {
  "kernelspec": {
   "display_name": "cs236781-hw",
   "language": "python",
   "name": "cs236781-hw"
  },
  "language_info": {
   "codemirror_mode": {
    "name": "ipython",
    "version": 3
   },
   "file_extension": ".py",
   "mimetype": "text/x-python",
   "name": "python",
   "nbconvert_exporter": "python",
   "pygments_lexer": "ipython3",
   "version": "3.8.6"
  }
 },
 "nbformat": 4,
 "nbformat_minor": 5
}
